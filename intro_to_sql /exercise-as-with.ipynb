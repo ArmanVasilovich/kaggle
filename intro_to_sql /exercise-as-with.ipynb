{
 "cells": [
  {
   "cell_type": "markdown",
   "id": "b7dcec50",
   "metadata": {
    "papermill": {
     "duration": 0.005339,
     "end_time": "2025-01-22T16:24:16.459980",
     "exception": false,
     "start_time": "2025-01-22T16:24:16.454641",
     "status": "completed"
    },
    "tags": []
   },
   "source": [
    "**This notebook is an exercise in the [SQL](https://www.kaggle.com/learn/intro-to-sql) course.  You can reference the tutorial at [this link](https://www.kaggle.com/dansbecker/as-with).**\n",
    "\n",
    "---\n"
   ]
  },
  {
   "cell_type": "markdown",
   "id": "f1dae52f",
   "metadata": {
    "papermill": {
     "duration": 0.003608,
     "end_time": "2025-01-22T16:24:16.468249",
     "exception": false,
     "start_time": "2025-01-22T16:24:16.464641",
     "status": "completed"
    },
    "tags": []
   },
   "source": [
    "# Introduction\n",
    "\n",
    "You are getting to the point where you can own an analysis from beginning to end. So you'll do more data exploration in this exercise than you've done before.  Before you get started, run the following set-up code as usual. "
   ]
  },
  {
   "cell_type": "code",
   "execution_count": 1,
   "id": "d70432b9",
   "metadata": {
    "execution": {
     "iopub.execute_input": "2025-01-22T16:24:16.478075Z",
     "iopub.status.busy": "2025-01-22T16:24:16.477594Z",
     "iopub.status.idle": "2025-01-22T16:25:07.476609Z",
     "shell.execute_reply": "2025-01-22T16:25:07.475324Z"
    },
    "papermill": {
     "duration": 51.006056,
     "end_time": "2025-01-22T16:25:07.478460",
     "exception": false,
     "start_time": "2025-01-22T16:24:16.472404",
     "status": "completed"
    },
    "tags": []
   },
   "outputs": [
    {
     "name": "stdout",
     "output_type": "stream",
     "text": [
      "Collecting git+https://github.com/Kaggle/learntools.git\r\n",
      "  Cloning https://github.com/Kaggle/learntools.git to /tmp/pip-req-build-pi1_rpac\r\n",
      "  Running command git clone --filter=blob:none --quiet https://github.com/Kaggle/learntools.git /tmp/pip-req-build-pi1_rpac\r\n",
      "  fatal: unable to access 'https://github.com/Kaggle/learntools.git/': Could not resolve host: github.com\r\n",
      "  \u001b[1;31merror\u001b[0m: \u001b[1msubprocess-exited-with-error\u001b[0m\r\n",
      "  \r\n",
      "  \u001b[31m×\u001b[0m \u001b[32mgit clone --\u001b[0m\u001b[32mfilter\u001b[0m\u001b[32m=\u001b[0m\u001b[32mblob\u001b[0m\u001b[32m:none --quiet \u001b[0m\u001b[4;32mhttps://github.com/Kaggle/learntools.git\u001b[0m\u001b[32m \u001b[0m\u001b[32m/tmp/\u001b[0m\u001b[32mpip-req-build-pi1_rpac\u001b[0m did not run successfully.\r\n",
      "  \u001b[31m│\u001b[0m exit code: \u001b[1;36m128\u001b[0m\r\n",
      "  \u001b[31m╰─>\u001b[0m See above for output.\r\n",
      "  \r\n",
      "  \u001b[1;35mnote\u001b[0m: This error originates from a subprocess, and is likely not a problem with pip.\r\n",
      "\u001b[1;31merror\u001b[0m: \u001b[1msubprocess-exited-with-error\u001b[0m\r\n",
      "\r\n",
      "\u001b[31m×\u001b[0m \u001b[32mgit clone --\u001b[0m\u001b[32mfilter\u001b[0m\u001b[32m=\u001b[0m\u001b[32mblob\u001b[0m\u001b[32m:none --quiet \u001b[0m\u001b[4;32mhttps://github.com/Kaggle/learntools.git\u001b[0m\u001b[32m \u001b[0m\u001b[32m/tmp/\u001b[0m\u001b[32mpip-req-build-pi1_rpac\u001b[0m did not run successfully.\r\n",
      "\u001b[31m│\u001b[0m exit code: \u001b[1;36m128\u001b[0m\r\n",
      "\u001b[31m╰─>\u001b[0m See above for output.\r\n",
      "\r\n",
      "\u001b[1;35mnote\u001b[0m: This error originates from a subprocess, and is likely not a problem with pip.\r\n",
      "Using Kaggle's public dataset BigQuery integration.\n"
     ]
    },
    {
     "name": "stderr",
     "output_type": "stream",
     "text": [
      "/usr/local/lib/python3.10/dist-packages/google/cloud/bigquery/table.py:1727: UserWarning: BigQuery Storage module not found, fetch data with the REST endpoint instead.\n",
      "  warnings.warn(\n"
     ]
    },
    {
     "name": "stdout",
     "output_type": "stream",
     "text": [
      "Setup Complete\n"
     ]
    }
   ],
   "source": [
    "# Get most recent checking code\n",
    "!pip install -U -t /kaggle/working/ git+https://github.com/Kaggle/learntools.git\n",
    "# Set up feedback system\n",
    "from learntools.core import binder\n",
    "binder.bind(globals())\n",
    "from learntools.sql.ex5 import *\n",
    "print(\"Setup Complete\")"
   ]
  },
  {
   "cell_type": "markdown",
   "id": "c16fd7c5",
   "metadata": {
    "papermill": {
     "duration": 0.004034,
     "end_time": "2025-01-22T16:25:07.486993",
     "exception": false,
     "start_time": "2025-01-22T16:25:07.482959",
     "status": "completed"
    },
    "tags": []
   },
   "source": [
    "You'll work with a dataset about taxi trips in the city of Chicago. Run the cell below to fetch the `chicago_taxi_trips` dataset."
   ]
  },
  {
   "cell_type": "code",
   "execution_count": 2,
   "id": "db015fdb",
   "metadata": {
    "execution": {
     "iopub.execute_input": "2025-01-22T16:25:07.497641Z",
     "iopub.status.busy": "2025-01-22T16:25:07.496774Z",
     "iopub.status.idle": "2025-01-22T16:25:07.740861Z",
     "shell.execute_reply": "2025-01-22T16:25:07.739692Z"
    },
    "papermill": {
     "duration": 0.25148,
     "end_time": "2025-01-22T16:25:07.742795",
     "exception": false,
     "start_time": "2025-01-22T16:25:07.491315",
     "status": "completed"
    },
    "tags": []
   },
   "outputs": [
    {
     "name": "stdout",
     "output_type": "stream",
     "text": [
      "Using Kaggle's public dataset BigQuery integration.\n"
     ]
    }
   ],
   "source": [
    "from google.cloud import bigquery\n",
    "\n",
    "# Create a \"Client\" object\n",
    "client = bigquery.Client()\n",
    "\n",
    "# Construct a reference to the \"chicago_taxi_trips\" dataset\n",
    "dataset_ref = client.dataset(\"chicago_taxi_trips\", project=\"bigquery-public-data\")\n",
    "\n",
    "# API request - fetch the dataset\n",
    "dataset = client.get_dataset(dataset_ref)"
   ]
  },
  {
   "cell_type": "markdown",
   "id": "b4733847",
   "metadata": {
    "papermill": {
     "duration": 0.004203,
     "end_time": "2025-01-22T16:25:07.751617",
     "exception": false,
     "start_time": "2025-01-22T16:25:07.747414",
     "status": "completed"
    },
    "tags": []
   },
   "source": [
    "# Exercises\n",
    "\n",
    "You are curious how much slower traffic moves when traffic volume is high. This involves a few steps.\n",
    "\n",
    "### 1) Find the data\n",
    "Before you can access the data, you need to find the table name with the data.\n",
    "\n",
    "*Hint*: Tab completion is helpful whenever you can't remember a command. Type `client.` and then hit the tab key. Don't forget the period before hitting tab."
   ]
  },
  {
   "cell_type": "code",
   "execution_count": 3,
   "id": "aeff080b",
   "metadata": {
    "execution": {
     "iopub.execute_input": "2025-01-22T16:25:07.762064Z",
     "iopub.status.busy": "2025-01-22T16:25:07.761643Z",
     "iopub.status.idle": "2025-01-22T16:25:07.973500Z",
     "shell.execute_reply": "2025-01-22T16:25:07.972445Z"
    },
    "papermill": {
     "duration": 0.219328,
     "end_time": "2025-01-22T16:25:07.975340",
     "exception": false,
     "start_time": "2025-01-22T16:25:07.756012",
     "status": "completed"
    },
    "tags": []
   },
   "outputs": [
    {
     "name": "stdout",
     "output_type": "stream",
     "text": [
      "taxi_trips\n"
     ]
    }
   ],
   "source": [
    "tables = list(client.list_tables(dataset))\n",
    "for table in tables:\n",
    "    print(table.table_id)"
   ]
  },
  {
   "cell_type": "code",
   "execution_count": 4,
   "id": "e82f76d5",
   "metadata": {
    "execution": {
     "iopub.execute_input": "2025-01-22T16:25:07.985765Z",
     "iopub.status.busy": "2025-01-22T16:25:07.985442Z",
     "iopub.status.idle": "2025-01-22T16:25:07.993808Z",
     "shell.execute_reply": "2025-01-22T16:25:07.992736Z"
    },
    "papermill": {
     "duration": 0.01524,
     "end_time": "2025-01-22T16:25:07.995377",
     "exception": false,
     "start_time": "2025-01-22T16:25:07.980137",
     "status": "completed"
    },
    "tags": []
   },
   "outputs": [
    {
     "data": {
      "application/javascript": [
       "parent.postMessage({\"jupyterEvent\": \"custom.exercise_interaction\", \"data\": {\"outcomeType\": 1, \"valueTowardsCompletion\": 0.16666666666666666, \"interactionType\": 1, \"questionType\": 1, \"questionId\": \"1_GetTableName\", \"learnToolsVersion\": \"0.3.4\", \"failureMessage\": \"\", \"exceptionClass\": \"\", \"trace\": \"\"}}, \"*\")"
      ],
      "text/plain": [
       "<IPython.core.display.Javascript object>"
      ]
     },
     "metadata": {},
     "output_type": "display_data"
    },
    {
     "data": {
      "text/markdown": [
       "<span style=\"color:#33cc33\">Correct</span>"
      ],
      "text/plain": [
       "Correct"
      ]
     },
     "metadata": {},
     "output_type": "display_data"
    }
   ],
   "source": [
    "table_name = 'taxi_trips'\n",
    "q_1.check()"
   ]
  },
  {
   "cell_type": "markdown",
   "id": "b384fced",
   "metadata": {
    "papermill": {
     "duration": 0.004407,
     "end_time": "2025-01-22T16:25:08.004503",
     "exception": false,
     "start_time": "2025-01-22T16:25:08.000096",
     "status": "completed"
    },
    "tags": []
   },
   "source": [
    "### 2) Peek at the data\n",
    "\n",
    "Use the next code cell to peek at the top few rows of the data. Inspect the data and see if any issues with data quality are immediately obvious. "
   ]
  },
  {
   "cell_type": "code",
   "execution_count": 5,
   "id": "55f24aa8",
   "metadata": {
    "execution": {
     "iopub.execute_input": "2025-01-22T16:25:08.014831Z",
     "iopub.status.busy": "2025-01-22T16:25:08.014488Z",
     "iopub.status.idle": "2025-01-22T16:25:08.875357Z",
     "shell.execute_reply": "2025-01-22T16:25:08.874275Z"
    },
    "papermill": {
     "duration": 0.867826,
     "end_time": "2025-01-22T16:25:08.876859",
     "exception": false,
     "start_time": "2025-01-22T16:25:08.009033",
     "status": "completed"
    },
    "tags": []
   },
   "outputs": [
    {
     "data": {
      "application/javascript": [
       "parent.postMessage({\"jupyterEvent\": \"custom.exercise_interaction\", \"data\": {\"outcomeType\": 1, \"valueTowardsCompletion\": 0.16666666666666666, \"interactionType\": 1, \"questionType\": 4, \"questionId\": \"2_WhatsWrongWithData\", \"learnToolsVersion\": \"0.3.4\", \"failureMessage\": \"\", \"exceptionClass\": \"\", \"trace\": \"\"}}, \"*\")"
      ],
      "text/plain": [
       "<IPython.core.display.Javascript object>"
      ]
     },
     "metadata": {},
     "output_type": "display_data"
    },
    {
     "data": {
      "text/markdown": [
       "<span style=\"color:#33cc33\">Correct:</span> \n",
       "\n",
       "\n",
       "You can see the data by calling: \n",
       "```python\n",
       "# Construct a reference to the \"taxi_trips\" table\n",
       "table_ref = dataset_ref.table(\"taxi_trips\")\n",
       "\n",
       "# API request - fetch the table\n",
       "table = client.get_table(table_ref)\n",
       "\n",
       "# Preview the first five lines of the \"taxi_trips\" table\n",
       "client.list_rows(table, max_results=5).to_dataframe()\n",
       "```\n",
       "\n",
       "Some location fields have values of `None` or `NaN`. That is a problem if we want to use those fields.\n"
      ],
      "text/plain": [
       "Correct: \n",
       "\n",
       "\n",
       "You can see the data by calling: \n",
       "```python\n",
       "# Construct a reference to the \"taxi_trips\" table\n",
       "table_ref = dataset_ref.table(\"taxi_trips\")\n",
       "\n",
       "# API request - fetch the table\n",
       "table = client.get_table(table_ref)\n",
       "\n",
       "# Preview the first five lines of the \"taxi_trips\" table\n",
       "client.list_rows(table, max_results=5).to_dataframe()\n",
       "```\n",
       "\n",
       "Some location fields have values of `None` or `NaN`. That is a problem if we want to use those fields."
      ]
     },
     "metadata": {},
     "output_type": "display_data"
    }
   ],
   "source": [
    "table_ref = dataset_ref.table('taxi_trips')\n",
    "table = client.get_table(table_ref)\n",
    "client.list_rows(table, max_results=5).to_dataframe()\n",
    "\n",
    "q_2.check()"
   ]
  },
  {
   "cell_type": "markdown",
   "id": "d5cf252e",
   "metadata": {
    "papermill": {
     "duration": 0.00463,
     "end_time": "2025-01-22T16:25:08.886752",
     "exception": false,
     "start_time": "2025-01-22T16:25:08.882122",
     "status": "completed"
    },
    "tags": []
   },
   "source": [
    "### 3) Determine when this data is from\n",
    "\n",
    "If the data is sufficiently old, we might be careful before assuming the data is still relevant to traffic patterns today. Write a query that counts the number of trips in each year.  \n",
    "\n",
    "Your results should have two columns:\n",
    "- `year` - the year of the trips\n",
    "- `num_trips` - the number of trips in that year\n",
    "\n",
    "Hints:\n",
    "- When using **GROUP BY** and **ORDER BY**, you should refer to the columns by the alias `year` that you set at the top of the **SELECT** query.\n",
    "- The SQL code to **SELECT** the year from `trip_start_timestamp` is <code>SELECT EXTRACT(YEAR FROM trip_start_timestamp)</code>\n",
    "- The **FROM** field can be a little tricky until you are used to it.  The format is:\n",
    "    1. A backick (the symbol \\`).\n",
    "    2. The project name. In this case it is `bigquery-public-data`.\n",
    "    3. A period.\n",
    "    4. The dataset name. In this case, it is `chicago_taxi_trips`.\n",
    "    5. A period.\n",
    "    6. The table name. You used this as your answer in **1) Find the data**.\n",
    "    7. A backtick (the symbol \\`)."
   ]
  },
  {
   "cell_type": "code",
   "execution_count": 6,
   "id": "296a2031",
   "metadata": {
    "execution": {
     "iopub.execute_input": "2025-01-22T16:25:08.898024Z",
     "iopub.status.busy": "2025-01-22T16:25:08.897583Z",
     "iopub.status.idle": "2025-01-22T16:25:09.805476Z",
     "shell.execute_reply": "2025-01-22T16:25:09.804407Z"
    },
    "papermill": {
     "duration": 0.915627,
     "end_time": "2025-01-22T16:25:09.807381",
     "exception": false,
     "start_time": "2025-01-22T16:25:08.891754",
     "status": "completed"
    },
    "tags": []
   },
   "outputs": [
    {
     "name": "stdout",
     "output_type": "stream",
     "text": [
      "    year  num_trips\n",
      "0   2013   27217300\n",
      "1   2014   37395079\n",
      "2   2015   32385527\n",
      "3   2016   31756403\n",
      "4   2017   24979611\n",
      "5   2018   20731105\n",
      "6   2019   16476440\n",
      "7   2020    3888831\n",
      "8   2021    3947677\n",
      "9   2022    6382071\n",
      "10  2023    6495415\n"
     ]
    },
    {
     "data": {
      "application/javascript": [
       "parent.postMessage({\"jupyterEvent\": \"custom.exercise_interaction\", \"data\": {\"outcomeType\": 1, \"valueTowardsCompletion\": 0.16666666666666666, \"interactionType\": 1, \"questionType\": 2, \"questionId\": \"3_YearDistrib\", \"learnToolsVersion\": \"0.3.4\", \"failureMessage\": \"\", \"exceptionClass\": \"\", \"trace\": \"\"}}, \"*\")"
      ],
      "text/plain": [
       "<IPython.core.display.Javascript object>"
      ]
     },
     "metadata": {},
     "output_type": "display_data"
    },
    {
     "data": {
      "text/markdown": [
       "<span style=\"color:#33cc33\">Correct</span>"
      ],
      "text/plain": [
       "Correct"
      ]
     },
     "metadata": {},
     "output_type": "display_data"
    }
   ],
   "source": [
    "rides_per_year_query = \"\"\"\n",
    "                       SELECT EXTRACT(YEAR FROM trip_start_timestamp) AS year,\n",
    "                           COUNT(*) AS num_trips\n",
    "                       FROM `bigquery-public-data.chicago_taxi_trips.taxi_trips`\n",
    "                       GROUP BY year\n",
    "                       ORDER BY year\n",
    "                       \"\"\"\n",
    "\n",
    "safe_config = bigquery.QueryJobConfig(maximum_bytes_billed=10**10)\n",
    "rides_per_year_query_job = client.query(rides_per_year_query, job_config=safe_config)\n",
    "rides_per_year_result = rides_per_year_query_job.to_dataframe()\n",
    "\n",
    "print(rides_per_year_result)\n",
    "\n",
    "q_3.check()"
   ]
  },
  {
   "cell_type": "markdown",
   "id": "82674900",
   "metadata": {
    "papermill": {
     "duration": 0.004918,
     "end_time": "2025-01-22T16:25:09.817984",
     "exception": false,
     "start_time": "2025-01-22T16:25:09.813066",
     "status": "completed"
    },
    "tags": []
   },
   "source": [
    "### 4) Dive slightly deeper\n",
    "\n",
    "You'd like to take a closer look at rides from 2016.  Copy the query you used above in `rides_per_year_query` into the cell below for `rides_per_month_query`.  Then modify it in two ways:\n",
    "1. Use a **WHERE** clause to limit the query to data from 2016.\n",
    "2. Modify the query to extract the month rather than the year."
   ]
  },
  {
   "cell_type": "code",
   "execution_count": 7,
   "id": "6a8f487a",
   "metadata": {
    "execution": {
     "iopub.execute_input": "2025-01-22T16:25:09.829388Z",
     "iopub.status.busy": "2025-01-22T16:25:09.829065Z",
     "iopub.status.idle": "2025-01-22T16:25:10.731593Z",
     "shell.execute_reply": "2025-01-22T16:25:10.730500Z"
    },
    "papermill": {
     "duration": 0.910341,
     "end_time": "2025-01-22T16:25:10.733498",
     "exception": false,
     "start_time": "2025-01-22T16:25:09.823157",
     "status": "completed"
    },
    "tags": []
   },
   "outputs": [
    {
     "name": "stderr",
     "output_type": "stream",
     "text": [
      "/usr/local/lib/python3.10/dist-packages/google/cloud/bigquery/table.py:1727: UserWarning: BigQuery Storage module not found, fetch data with the REST endpoint instead.\n",
      "  warnings.warn(\n"
     ]
    },
    {
     "data": {
      "application/javascript": [
       "parent.postMessage({\"jupyterEvent\": \"custom.exercise_interaction\", \"data\": {\"outcomeType\": 1, \"valueTowardsCompletion\": 0.16666666666666666, \"interactionType\": 1, \"questionType\": 2, \"questionId\": \"4_MonthDistrib\", \"learnToolsVersion\": \"0.3.4\", \"failureMessage\": \"\", \"exceptionClass\": \"\", \"trace\": \"\"}}, \"*\")"
      ],
      "text/plain": [
       "<IPython.core.display.Javascript object>"
      ]
     },
     "metadata": {},
     "output_type": "display_data"
    },
    {
     "data": {
      "text/markdown": [
       "<span style=\"color:#33cc33\">Correct</span>"
      ],
      "text/plain": [
       "Correct"
      ]
     },
     "metadata": {},
     "output_type": "display_data"
    }
   ],
   "source": [
    "# Your code goes here\n",
    "rides_per_month_query = \"\"\"\n",
    "    SELECT EXTRACT(MONTH FROM trip_start_timestamp) AS month,\n",
    "        COUNT(1) AS num_trips\n",
    "    FROM `bigquery-public-data.chicago_taxi_trips.taxi_trips`\n",
    "    WHERE EXTRACT(YEAR FROM trip_start_timestamp) = 2016\n",
    "    GROUP BY month\n",
    "    ORDER BY month\n",
    "    \"\"\" \n",
    "\n",
    "safe_config = bigquery.QueryJobConfig(maximum_bytes_billed=10**10)\n",
    "rides_per_month_query_job = client.query(rides_per_month_query, job_config=safe_config)\n",
    "rides_per_month_result = rides_per_month_query_job.to_dataframe()\n",
    "\n",
    "q_4.check()"
   ]
  },
  {
   "cell_type": "markdown",
   "id": "ee16ed12",
   "metadata": {
    "papermill": {
     "duration": 0.005171,
     "end_time": "2025-01-22T16:25:10.744409",
     "exception": false,
     "start_time": "2025-01-22T16:25:10.739238",
     "status": "completed"
    },
    "tags": []
   },
   "source": [
    "For a hint or the solution, uncomment the appropriate line below."
   ]
  },
  {
   "cell_type": "code",
   "execution_count": 8,
   "id": "d3de9e53",
   "metadata": {
    "execution": {
     "iopub.execute_input": "2025-01-22T16:25:10.756902Z",
     "iopub.status.busy": "2025-01-22T16:25:10.756564Z",
     "iopub.status.idle": "2025-01-22T16:25:10.767441Z",
     "shell.execute_reply": "2025-01-22T16:25:10.766500Z"
    },
    "papermill": {
     "duration": 0.018978,
     "end_time": "2025-01-22T16:25:10.769116",
     "exception": false,
     "start_time": "2025-01-22T16:25:10.750138",
     "status": "completed"
    },
    "tags": []
   },
   "outputs": [
    {
     "data": {
      "application/javascript": [
       "parent.postMessage({\"jupyterEvent\": \"custom.exercise_interaction\", \"data\": {\"interactionType\": 2, \"questionType\": 2, \"questionId\": \"4_MonthDistrib\", \"learnToolsVersion\": \"0.3.4\", \"valueTowardsCompletion\": 0.0, \"failureMessage\": \"\", \"exceptionClass\": \"\", \"trace\": \"\", \"outcomeType\": 4}}, \"*\")"
      ],
      "text/plain": [
       "<IPython.core.display.Javascript object>"
      ]
     },
     "metadata": {},
     "output_type": "display_data"
    },
    {
     "data": {
      "text/markdown": [
       "<span style=\"color:#3366cc\">Hint:</span> Start your query with `SELECT EXTRACT(MONTH FROM trip_start_timestamp) AS month, COUNT(1) AS num_trips`."
      ],
      "text/plain": [
       "Hint: Start your query with `SELECT EXTRACT(MONTH FROM trip_start_timestamp) AS month, COUNT(1) AS num_trips`."
      ]
     },
     "metadata": {},
     "output_type": "display_data"
    },
    {
     "data": {
      "application/javascript": [
       "parent.postMessage({\"jupyterEvent\": \"custom.exercise_interaction\", \"data\": {\"interactionType\": 3, \"questionType\": 2, \"questionId\": \"4_MonthDistrib\", \"learnToolsVersion\": \"0.3.4\", \"valueTowardsCompletion\": 0.0, \"failureMessage\": \"\", \"exceptionClass\": \"\", \"trace\": \"\", \"outcomeType\": 4}}, \"*\")"
      ],
      "text/plain": [
       "<IPython.core.display.Javascript object>"
      ]
     },
     "metadata": {},
     "output_type": "display_data"
    },
    {
     "data": {
      "text/markdown": [
       "<span style=\"color:#33cc99\">Solution:</span> \n",
       "```python\n",
       "\n",
       "rides_per_month_query = \"\"\"\n",
       "                        SELECT EXTRACT(MONTH FROM trip_start_timestamp) AS month, \n",
       "                               COUNT(1) AS num_trips\n",
       "                        FROM `bigquery-public-data.chicago_taxi_trips.taxi_trips`\n",
       "                        WHERE EXTRACT(YEAR FROM trip_start_timestamp) = 2016\n",
       "                        GROUP BY month\n",
       "                        ORDER BY month\n",
       "                        \"\"\"\n",
       "\n",
       "# Set up the query (cancel the query if it would use too much of \n",
       "# your quota)\n",
       "safe_config = bigquery.QueryJobConfig(maximum_bytes_billed=10**10)\n",
       "rides_per_month_query_job = client.query(rides_per_month_query, job_config=safe_config)\n",
       "\n",
       "# API request - run the query, and return a pandas DataFrame\n",
       "rides_per_month_result = rides_per_month_query_job.to_dataframe()\n",
       "\n",
       "```"
      ],
      "text/plain": [
       "Solution: \n",
       "```python\n",
       "\n",
       "rides_per_month_query = \"\"\"\n",
       "                        SELECT EXTRACT(MONTH FROM trip_start_timestamp) AS month, \n",
       "                               COUNT(1) AS num_trips\n",
       "                        FROM `bigquery-public-data.chicago_taxi_trips.taxi_trips`\n",
       "                        WHERE EXTRACT(YEAR FROM trip_start_timestamp) = 2016\n",
       "                        GROUP BY month\n",
       "                        ORDER BY month\n",
       "                        \"\"\"\n",
       "\n",
       "# Set up the query (cancel the query if it would use too much of \n",
       "# your quota)\n",
       "safe_config = bigquery.QueryJobConfig(maximum_bytes_billed=10**10)\n",
       "rides_per_month_query_job = client.query(rides_per_month_query, job_config=safe_config)\n",
       "\n",
       "# API request - run the query, and return a pandas DataFrame\n",
       "rides_per_month_result = rides_per_month_query_job.to_dataframe()\n",
       "\n",
       "```"
      ]
     },
     "metadata": {},
     "output_type": "display_data"
    }
   ],
   "source": [
    "q_4.hint()\n",
    "q_4.solution()"
   ]
  },
  {
   "cell_type": "markdown",
   "id": "8f1a670c",
   "metadata": {
    "papermill": {
     "duration": 0.00615,
     "end_time": "2025-01-22T16:25:10.781316",
     "exception": false,
     "start_time": "2025-01-22T16:25:10.775166",
     "status": "completed"
    },
    "tags": []
   },
   "source": [
    "### 5) Write the query\n",
    "\n",
    "It's time to step up the sophistication of your queries.  Write a query that shows, for each hour of the day in the dataset, the corresponding number of trips and average speed.\n",
    "\n",
    "Your results should have three columns:\n",
    "- `hour_of_day` - sort by this column, which holds the result of extracting the hour from `trip_start_timestamp`.\n",
    "- `num_trips` - the count of the total number of trips in each hour of the day (e.g. how many trips were started between 6AM and 7AM, independent of which day it occurred on).\n",
    "- `avg_mph` - the average speed, measured in miles per hour, for trips that started in that hour of the day.  Average speed in miles per hour is calculated as `3600 * SUM(trip_miles) / SUM(trip_seconds)`. (The value 3600 is used to convert from seconds to hours.)\n",
    "\n",
    "Restrict your query to data meeting the following criteria:\n",
    "- a `trip_start_timestamp` > **2016-01-01** and < **2016-04-01**\n",
    "- `trip_seconds` > 0 and `trip_miles` > 0\n",
    "\n",
    "You will use a common table expression (CTE) to select just the relevant rides.  Because this dataset is very big, this CTE should select only the columns you'll need to create the final output (though you won't actually create those in the CTE -- instead you'll create those in the later **SELECT** statement below the CTE).\n",
    "\n",
    "This is a much harder query than anything you've written so far.  Good luck!"
   ]
  },
  {
   "cell_type": "code",
   "execution_count": 9,
   "id": "69664461",
   "metadata": {
    "execution": {
     "iopub.execute_input": "2025-01-22T16:25:10.798997Z",
     "iopub.status.busy": "2025-01-22T16:25:10.798468Z",
     "iopub.status.idle": "2025-01-22T16:25:11.691582Z",
     "shell.execute_reply": "2025-01-22T16:25:11.690517Z"
    },
    "papermill": {
     "duration": 0.905668,
     "end_time": "2025-01-22T16:25:11.693020",
     "exception": false,
     "start_time": "2025-01-22T16:25:10.787352",
     "status": "completed"
    },
    "tags": []
   },
   "outputs": [
    {
     "name": "stderr",
     "output_type": "stream",
     "text": [
      "/usr/local/lib/python3.10/dist-packages/google/cloud/bigquery/table.py:1727: UserWarning: BigQuery Storage module not found, fetch data with the REST endpoint instead.\n",
      "  warnings.warn(\n"
     ]
    },
    {
     "name": "stdout",
     "output_type": "stream",
     "text": [
      "    hour_of_day  num_trips    avg_mph\n",
      "0             0     203092  20.191744\n",
      "1             1     178046  18.628598\n",
      "2             2     143447  18.444370\n",
      "3             3     108899  19.273107\n",
      "4             4      80067  27.599669\n",
      "5             5      75786  33.065604\n",
      "6             6     102254  28.533112\n",
      "7             7     187585  19.884592\n",
      "8             8     284223  16.787900\n",
      "9             9     306854  18.434124\n",
      "10           10     279762  20.091309\n",
      "11           11     294006  20.926340\n",
      "12           12     311522  20.063901\n",
      "13           13     317225  19.766321\n",
      "14           14     312629  19.309655\n",
      "15           15     319953  18.515564\n",
      "16           16     349455  17.168814\n",
      "17           17     394324  14.641375\n",
      "18           18     431991  15.381995\n",
      "19           19     416743  17.795008\n",
      "20           20     356279  20.347398\n",
      "21           21     318363  22.584731\n",
      "22           22     289886  21.129847\n",
      "23           23     241690  20.259757\n"
     ]
    },
    {
     "data": {
      "application/javascript": [
       "parent.postMessage({\"jupyterEvent\": \"custom.exercise_interaction\", \"data\": {\"outcomeType\": 1, \"valueTowardsCompletion\": 0.16666666666666666, \"interactionType\": 1, \"questionType\": 2, \"questionId\": \"5_TheLongQuery\", \"learnToolsVersion\": \"0.3.4\", \"failureMessage\": \"\", \"exceptionClass\": \"\", \"trace\": \"\"}}, \"*\")"
      ],
      "text/plain": [
       "<IPython.core.display.Javascript object>"
      ]
     },
     "metadata": {},
     "output_type": "display_data"
    },
    {
     "data": {
      "text/markdown": [
       "<span style=\"color:#33cc33\">Correct</span>"
      ],
      "text/plain": [
       "Correct"
      ]
     },
     "metadata": {},
     "output_type": "display_data"
    }
   ],
   "source": [
    "# Your code goes here\n",
    "speeds_query = \"\"\"\n",
    "               WITH RelevantRides AS\n",
    "               (\n",
    "                   SELECT EXTRACT(HOUR FROM trip_start_timestamp) AS hour_of_day,\n",
    "                       trip_miles, \n",
    "                       trip_seconds\n",
    "                   FROM `bigquery-public-data.chicago_taxi_trips.taxi_trips`\n",
    "                   WHERE trip_start_timestamp > '2016-01-01' AND \n",
    "                       trip_start_timestamp < '2016-04-01' AND\n",
    "                       trip_seconds > 0 AND\n",
    "                       trip_miles > 0\n",
    "               )\n",
    "               SELECT hour_of_day,\n",
    "                   COUNT(1) AS num_trips,\n",
    "                   3600 * SUM(trip_miles) / SUM(trip_seconds) AS avg_mph\n",
    "               FROM RelevantRides\n",
    "               GROUP BY hour_of_day\n",
    "               ORDER BY hour_of_day\n",
    "               \"\"\"\n",
    "\n",
    "# Set up the query\n",
    "safe_config = bigquery.QueryJobConfig(maximum_bytes_billed=10**10)\n",
    "speeds_query_job = client.query(speeds_query, job_config=safe_config)\n",
    "\n",
    "# API request - run the query, and return a pandas DataFrame\n",
    "speeds_result = speeds_query_job.to_dataframe()\n",
    "\n",
    "# View results\n",
    "print(speeds_result)\n",
    "\n",
    "# Check your answer\n",
    "q_5.check()"
   ]
  }
 ],
 "metadata": {
  "kaggle": {
   "accelerator": "none",
   "dataSources": [
    {
     "datasetId": 22219,
     "sourceId": 28536,
     "sourceType": "datasetVersion"
    },
    {
     "datasetId": 11496,
     "sourceId": 285947,
     "sourceType": "datasetVersion"
    }
   ],
   "isGpuEnabled": false,
   "isInternetEnabled": false,
   "language": "python",
   "sourceType": "notebook"
  },
  "kernelspec": {
   "display_name": "Python 3",
   "language": "python",
   "name": "python3"
  },
  "language_info": {
   "codemirror_mode": {
    "name": "ipython",
    "version": 3
   },
   "file_extension": ".py",
   "mimetype": "text/x-python",
   "name": "python",
   "nbconvert_exporter": "python",
   "pygments_lexer": "ipython3",
   "version": "3.10.12"
  },
  "papermill": {
   "default_parameters": {},
   "duration": 59.510622,
   "end_time": "2025-01-22T16:25:13.122503",
   "environment_variables": {},
   "exception": null,
   "input_path": "__notebook__.ipynb",
   "output_path": "__notebook__.ipynb",
   "parameters": {},
   "start_time": "2025-01-22T16:24:13.611881",
   "version": "2.6.0"
  }
 },
 "nbformat": 4,
 "nbformat_minor": 5
}
