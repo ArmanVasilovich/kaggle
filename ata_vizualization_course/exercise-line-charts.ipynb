{
 "cells": [
  {
   "cell_type": "markdown",
   "id": "2f904832",
   "metadata": {
    "papermill": {
     "duration": 0.004931,
     "end_time": "2024-12-03T21:26:58.443336",
     "exception": false,
     "start_time": "2024-12-03T21:26:58.438405",
     "status": "completed"
    },
    "tags": []
   },
   "source": [
    "**This notebook is an exercise in the [Data Visualization](https://www.kaggle.com/learn/data-visualization) course.  You can reference the tutorial at [this link](https://www.kaggle.com/alexisbcook/line-charts).**\n",
    "\n",
    "---\n"
   ]
  },
  {
   "cell_type": "markdown",
   "id": "51bea8c9",
   "metadata": {
    "papermill": {
     "duration": 0.004378,
     "end_time": "2024-12-03T21:26:58.452565",
     "exception": false,
     "start_time": "2024-12-03T21:26:58.448187",
     "status": "completed"
    },
    "tags": []
   },
   "source": [
    "In this exercise, you will use your new knowledge to propose a solution to a real-world scenario. To succeed, you will need to import data into Python, answer questions using the data, and generate **line charts** to understand patterns in the data.\n",
    "\n",
    "## Scenario\n",
    "\n",
    "You have recently been hired to manage the museums in the City of Los Angeles. Your first project focuses on the four museums pictured in the images below.\n",
    "\n",
    "![ex1_museums](https://storage.googleapis.com/kaggle-media/learn/images/pFYL8J1.png)\n",
    "\n",
    "You will leverage data from the Los Angeles [Data Portal](https://data.lacity.org/) that tracks monthly visitors to each museum.  \n",
    "\n",
    "![ex1_xlsx](https://storage.googleapis.com/kaggle-media/learn/images/mGWYlym.png)\n",
    "\n",
    "## Setup\n",
    "\n",
    "Run the next cell to import and configure the Python libraries that you need to complete the exercise."
   ]
  },
  {
   "cell_type": "code",
   "execution_count": 1,
   "id": "25b84bb3",
   "metadata": {
    "execution": {
     "iopub.execute_input": "2024-12-03T21:26:58.462946Z",
     "iopub.status.busy": "2024-12-03T21:26:58.462402Z",
     "iopub.status.idle": "2024-12-03T21:27:01.352933Z",
     "shell.execute_reply": "2024-12-03T21:27:01.351608Z"
    },
    "papermill": {
     "duration": 2.898839,
     "end_time": "2024-12-03T21:27:01.355649",
     "exception": false,
     "start_time": "2024-12-03T21:26:58.456810",
     "status": "completed"
    },
    "tags": []
   },
   "outputs": [
    {
     "name": "stdout",
     "output_type": "stream",
     "text": [
      "Setup Complete\n"
     ]
    }
   ],
   "source": [
    "import pandas as pd\n",
    "pd.plotting.register_matplotlib_converters()\n",
    "import matplotlib.pyplot as plt\n",
    "%matplotlib inline\n",
    "import seaborn as sns\n",
    "print(\"Setup Complete\")"
   ]
  },
  {
   "cell_type": "markdown",
   "id": "a9c06dcc",
   "metadata": {
    "papermill": {
     "duration": 0.005073,
     "end_time": "2024-12-03T21:27:01.365031",
     "exception": false,
     "start_time": "2024-12-03T21:27:01.359958",
     "status": "completed"
    },
    "tags": []
   },
   "source": [
    "The questions below will give you feedback on your work. Run the following cell to set up the feedback system."
   ]
  },
  {
   "cell_type": "code",
   "execution_count": 2,
   "id": "cd3d9955",
   "metadata": {
    "execution": {
     "iopub.execute_input": "2024-12-03T21:27:01.374837Z",
     "iopub.status.busy": "2024-12-03T21:27:01.374349Z",
     "iopub.status.idle": "2024-12-03T21:27:01.447970Z",
     "shell.execute_reply": "2024-12-03T21:27:01.446754Z"
    },
    "papermill": {
     "duration": 0.081629,
     "end_time": "2024-12-03T21:27:01.450744",
     "exception": false,
     "start_time": "2024-12-03T21:27:01.369115",
     "status": "completed"
    },
    "tags": []
   },
   "outputs": [
    {
     "name": "stdout",
     "output_type": "stream",
     "text": [
      "Setup Complete\n"
     ]
    }
   ],
   "source": [
    "# Set up code checking\n",
    "import os\n",
    "if not os.path.exists(\"../input/museum_visitors.csv\"):\n",
    "    os.symlink(\"../input/data-for-datavis/museum_visitors.csv\", \"../input/museum_visitors.csv\") \n",
    "from learntools.core import binder\n",
    "binder.bind(globals())\n",
    "from learntools.data_viz_to_coder.ex2 import *\n",
    "print(\"Setup Complete\")"
   ]
  },
  {
   "cell_type": "markdown",
   "id": "cce3fe21",
   "metadata": {
    "papermill": {
     "duration": 0.00398,
     "end_time": "2024-12-03T21:27:01.459018",
     "exception": false,
     "start_time": "2024-12-03T21:27:01.455038",
     "status": "completed"
    },
    "tags": []
   },
   "source": [
    "## Step 1: Load the data\n",
    "\n",
    "Your first assignment is to read the LA Museum Visitors data file into `museum_data`.  Note that:\n",
    "- The filepath to the dataset is stored as `museum_filepath`.  Please **do not** change the provided value of the filepath.\n",
    "- The name of the column to use as row labels is `\"Date\"`.  (This can be seen in cell A1 when the file is opened in Excel.)\n",
    "\n",
    "To help with this, you may find it useful to revisit some relevant code from the tutorial, which we have pasted below:\n",
    "\n",
    "```python\n",
    "# Path of the file to read\n",
    "spotify_filepath = \"../input/spotify.csv\"\n",
    "\n",
    "# Read the file into a variable spotify_data\n",
    "spotify_data = pd.read_csv(spotify_filepath, index_col=\"Date\", parse_dates=True)\n",
    "```\n",
    "\n",
    "The code you need to write now looks very similar!"
   ]
  },
  {
   "cell_type": "code",
   "execution_count": 3,
   "id": "38bc641a",
   "metadata": {
    "execution": {
     "iopub.execute_input": "2024-12-03T21:27:01.469222Z",
     "iopub.status.busy": "2024-12-03T21:27:01.468825Z",
     "iopub.status.idle": "2024-12-03T21:27:01.482420Z",
     "shell.execute_reply": "2024-12-03T21:27:01.481396Z"
    },
    "papermill": {
     "duration": 0.021498,
     "end_time": "2024-12-03T21:27:01.484620",
     "exception": false,
     "start_time": "2024-12-03T21:27:01.463122",
     "status": "completed"
    },
    "tags": []
   },
   "outputs": [
    {
     "data": {
      "application/javascript": [
       "parent.postMessage({\"jupyterEvent\": \"custom.exercise_interaction\", \"data\": {\"outcomeType\": 1, \"valueTowardsCompletion\": 0.3333333333333333, \"interactionType\": 1, \"questionType\": 1, \"questionId\": \"1_LoadMuseumData\", \"learnToolsVersion\": \"0.3.4\", \"failureMessage\": \"\", \"exceptionClass\": \"\", \"trace\": \"\"}}, \"*\")"
      ],
      "text/plain": [
       "<IPython.core.display.Javascript object>"
      ]
     },
     "metadata": {},
     "output_type": "display_data"
    },
    {
     "data": {
      "text/markdown": [
       "<span style=\"color:#33cc33\">Correct</span>"
      ],
      "text/plain": [
       "Correct"
      ]
     },
     "metadata": {},
     "output_type": "display_data"
    }
   ],
   "source": [
    "museum_filepath = \"../input/museum_visitors.csv\"\n",
    "museum_data = pd.read_csv(museum_filepath, index_col='Date', parse_dates=True)\n",
    "step_1.check()"
   ]
  },
  {
   "cell_type": "markdown",
   "id": "e53812ca",
   "metadata": {
    "papermill": {
     "duration": 0.004086,
     "end_time": "2024-12-03T21:27:01.493263",
     "exception": false,
     "start_time": "2024-12-03T21:27:01.489177",
     "status": "completed"
    },
    "tags": []
   },
   "source": [
    "## Step 2: Review the data\n",
    "\n",
    "Use a Python command to print the last 5 rows of the data."
   ]
  },
  {
   "cell_type": "code",
   "execution_count": 4,
   "id": "78e8895b",
   "metadata": {
    "execution": {
     "iopub.execute_input": "2024-12-03T21:27:01.503505Z",
     "iopub.status.busy": "2024-12-03T21:27:01.503106Z",
     "iopub.status.idle": "2024-12-03T21:27:01.510114Z",
     "shell.execute_reply": "2024-12-03T21:27:01.509013Z"
    },
    "papermill": {
     "duration": 0.014664,
     "end_time": "2024-12-03T21:27:01.512135",
     "exception": false,
     "start_time": "2024-12-03T21:27:01.497471",
     "status": "completed"
    },
    "tags": []
   },
   "outputs": [
    {
     "data": {
      "text/markdown": [],
      "text/plain": [
       "<learntools.core.constants.PlaceholderValue at 0x7d5847e34f70>"
      ]
     },
     "execution_count": 4,
     "metadata": {},
     "output_type": "execute_result"
    }
   ],
   "source": [
    "# Print the last five rows of the data \n",
    "____ # Your code here"
   ]
  },
  {
   "cell_type": "markdown",
   "id": "1819fa03",
   "metadata": {
    "papermill": {
     "duration": 0.004592,
     "end_time": "2024-12-03T21:27:01.521276",
     "exception": false,
     "start_time": "2024-12-03T21:27:01.516684",
     "status": "completed"
    },
    "tags": []
   },
   "source": [
    "The last row (for `2018-11-01`) tracks the number of visitors to each museum in November 2018, the next-to-last row (for `2018-10-01`) tracks the number of visitors to each museum in October 2018, _and so on_.\n",
    "\n",
    "Use the last 5 rows of the data to answer the questions below."
   ]
  },
  {
   "cell_type": "code",
   "execution_count": 5,
   "id": "08cb7782",
   "metadata": {
    "execution": {
     "iopub.execute_input": "2024-12-03T21:27:01.532585Z",
     "iopub.status.busy": "2024-12-03T21:27:01.532213Z",
     "iopub.status.idle": "2024-12-03T21:27:01.540923Z",
     "shell.execute_reply": "2024-12-03T21:27:01.539938Z"
    },
    "papermill": {
     "duration": 0.017245,
     "end_time": "2024-12-03T21:27:01.543183",
     "exception": false,
     "start_time": "2024-12-03T21:27:01.525938",
     "status": "completed"
    },
    "tags": []
   },
   "outputs": [
    {
     "data": {
      "application/javascript": [
       "parent.postMessage({\"jupyterEvent\": \"custom.exercise_interaction\", \"data\": {\"outcomeType\": 4, \"interactionType\": 1, \"questionType\": 1, \"questionId\": \"2_ReviewData\", \"learnToolsVersion\": \"0.3.4\", \"valueTowardsCompletion\": 0.0, \"failureMessage\": \"\", \"exceptionClass\": \"\", \"trace\": \"\"}}, \"*\")"
      ],
      "text/plain": [
       "<IPython.core.display.Javascript object>"
      ]
     },
     "metadata": {},
     "output_type": "display_data"
    },
    {
     "data": {
      "text/markdown": [
       "<span style=\"color:#ccaa33\">Check:</span> When you've updated the starter code, `check()` will tell you whether your code is correct. You need to update the code that creates variables `ca_museum_jul18`, `avila_oct18`"
      ],
      "text/plain": [
       "Check: When you've updated the starter code, `check()` will tell you whether your code is correct. You need to update the code that creates variables `ca_museum_jul18`, `avila_oct18`"
      ]
     },
     "metadata": {},
     "output_type": "display_data"
    }
   ],
   "source": [
    "# Fill in the line below: How many visitors did the Chinese American Museum \n",
    "# receive in July 2018?\n",
    "ca_museum_jul18 = ____ \n",
    "\n",
    "# Fill in the line below: In October 2018, how many more visitors did Avila \n",
    "# Adobe receive than the Firehouse Museum?\n",
    "avila_oct18 = ____\n",
    "\n",
    "# Check your answers\n",
    "step_2.check()"
   ]
  },
  {
   "cell_type": "code",
   "execution_count": 6,
   "id": "b938fe5a",
   "metadata": {
    "execution": {
     "iopub.execute_input": "2024-12-03T21:27:01.555124Z",
     "iopub.status.busy": "2024-12-03T21:27:01.554185Z",
     "iopub.status.idle": "2024-12-03T21:27:01.558667Z",
     "shell.execute_reply": "2024-12-03T21:27:01.557640Z"
    },
    "papermill": {
     "duration": 0.012668,
     "end_time": "2024-12-03T21:27:01.560704",
     "exception": false,
     "start_time": "2024-12-03T21:27:01.548036",
     "status": "completed"
    },
    "tags": []
   },
   "outputs": [],
   "source": [
    "# Lines below will give you a hint or solution code\n",
    "#step_2.hint()\n",
    "#step_2.solution()"
   ]
  },
  {
   "cell_type": "markdown",
   "id": "d4518295",
   "metadata": {
    "papermill": {
     "duration": 0.004576,
     "end_time": "2024-12-03T21:27:01.570140",
     "exception": false,
     "start_time": "2024-12-03T21:27:01.565564",
     "status": "completed"
    },
    "tags": []
   },
   "source": [
    "## Step 3: Convince the museum board \n",
    "\n",
    "The Firehouse Museum claims they ran an event in 2014 that brought an incredible number of visitors, and that they should get extra budget to run a similar event again.  The other museums think these types of events aren't that important, and budgets should be split purely based on recent visitors on an average day.  \n",
    "\n",
    "To show the museum board how the event compared to regular traffic at each museum, create a line chart that shows how the number of visitors to each museum evolved over time.  Your figure should have four lines (one for each museum).\n",
    "\n",
    "> **(Optional) Note**: If you have some prior experience with plotting figures in Python, you might be familiar with the `plt.show()` command.  If you decide to use this command, please place it **after** the line of code that checks your answer (in this case, place it after `step_3.check()` below) -- otherwise, the checking code will return an error!"
   ]
  },
  {
   "cell_type": "code",
   "execution_count": 7,
   "id": "a66ea806",
   "metadata": {
    "execution": {
     "iopub.execute_input": "2024-12-03T21:27:01.582086Z",
     "iopub.status.busy": "2024-12-03T21:27:01.580802Z",
     "iopub.status.idle": "2024-12-03T21:27:01.602037Z",
     "shell.execute_reply": "2024-12-03T21:27:01.600724Z"
    },
    "papermill": {
     "duration": 0.029601,
     "end_time": "2024-12-03T21:27:01.604457",
     "exception": false,
     "start_time": "2024-12-03T21:27:01.574856",
     "status": "completed"
    },
    "tags": []
   },
   "outputs": [
    {
     "data": {
      "application/javascript": [
       "parent.postMessage({\"jupyterEvent\": \"custom.exercise_interaction\", \"data\": {\"outcomeType\": 2, \"failureMessage\": \"After you've written code to create a line chart, `check()` will tell you whether your code is correct.\", \"interactionType\": 1, \"questionType\": 2, \"questionId\": \"3_PlotAll\", \"learnToolsVersion\": \"0.3.4\", \"valueTowardsCompletion\": 0.0, \"exceptionClass\": \"\", \"trace\": \"\"}}, \"*\")"
      ],
      "text/plain": [
       "<IPython.core.display.Javascript object>"
      ]
     },
     "metadata": {},
     "output_type": "display_data"
    },
    {
     "data": {
      "text/markdown": [
       "<span style=\"color:#cc3333\">Incorrect:</span> After you've written code to create a line chart, `check()` will tell you whether your code is correct."
      ],
      "text/plain": [
       "Incorrect: After you've written code to create a line chart, `check()` will tell you whether your code is correct."
      ]
     },
     "metadata": {},
     "output_type": "display_data"
    },
    {
     "data": {
      "text/plain": [
       "<Figure size 640x480 with 0 Axes>"
      ]
     },
     "metadata": {},
     "output_type": "display_data"
    }
   ],
   "source": [
    "# Line chart showing the number of visitors to each museum over time\n",
    "____ # Your code here\n",
    "\n",
    "# Check your answer\n",
    "step_3.check()"
   ]
  },
  {
   "cell_type": "code",
   "execution_count": 8,
   "id": "597604c9",
   "metadata": {
    "execution": {
     "iopub.execute_input": "2024-12-03T21:27:01.616985Z",
     "iopub.status.busy": "2024-12-03T21:27:01.616589Z",
     "iopub.status.idle": "2024-12-03T21:27:01.621434Z",
     "shell.execute_reply": "2024-12-03T21:27:01.620227Z"
    },
    "papermill": {
     "duration": 0.013937,
     "end_time": "2024-12-03T21:27:01.623740",
     "exception": false,
     "start_time": "2024-12-03T21:27:01.609803",
     "status": "completed"
    },
    "tags": []
   },
   "outputs": [],
   "source": [
    "# Lines below will give you a hint or solution code\n",
    "#step_3.hint()\n",
    "#step_3.solution_plot()"
   ]
  },
  {
   "cell_type": "markdown",
   "id": "dd567864",
   "metadata": {
    "papermill": {
     "duration": 0.005044,
     "end_time": "2024-12-03T21:27:01.634048",
     "exception": false,
     "start_time": "2024-12-03T21:27:01.629004",
     "status": "completed"
    },
    "tags": []
   },
   "source": [
    "## Step 4: Assess seasonality\n",
    "\n",
    "When meeting with the employees at Avila Adobe, you hear that one major pain point is that the number of museum visitors varies greatly with the seasons, with low seasons (when the employees are perfectly staffed and happy) and also high seasons (when the employees are understaffed and stressed).  You realize that if you can predict these high and low seasons, you can plan ahead to hire some additional seasonal employees to help out with the extra work.\n",
    "\n",
    "#### Part A\n",
    "Create a line chart that shows how the number of visitors to Avila Adobe has evolved over time.  (_If your code returns an error, the first thing that you should check is that you've spelled the name of the column correctly!  You must write the name of the column exactly as it appears in the dataset._)"
   ]
  },
  {
   "cell_type": "code",
   "execution_count": 9,
   "id": "3e8674d2",
   "metadata": {
    "execution": {
     "iopub.execute_input": "2024-12-03T21:27:01.646157Z",
     "iopub.status.busy": "2024-12-03T21:27:01.645771Z",
     "iopub.status.idle": "2024-12-03T21:27:01.659480Z",
     "shell.execute_reply": "2024-12-03T21:27:01.658322Z"
    },
    "papermill": {
     "duration": 0.022523,
     "end_time": "2024-12-03T21:27:01.661760",
     "exception": false,
     "start_time": "2024-12-03T21:27:01.639237",
     "status": "completed"
    },
    "tags": []
   },
   "outputs": [
    {
     "data": {
      "application/javascript": [
       "parent.postMessage({\"jupyterEvent\": \"custom.exercise_interaction\", \"data\": {\"outcomeType\": 2, \"failureMessage\": \"After you've written code to create a line chart, `check()` will tell you whether your code is correct.\", \"interactionType\": 1, \"questionType\": 2, \"questionId\": \"4.1_PlotAvila\", \"learnToolsVersion\": \"0.3.4\", \"valueTowardsCompletion\": 0.0, \"exceptionClass\": \"\", \"trace\": \"\"}}, \"*\")"
      ],
      "text/plain": [
       "<IPython.core.display.Javascript object>"
      ]
     },
     "metadata": {},
     "output_type": "display_data"
    },
    {
     "data": {
      "text/markdown": [
       "<span style=\"color:#cc3333\">Incorrect:</span> After you've written code to create a line chart, `check()` will tell you whether your code is correct."
      ],
      "text/plain": [
       "Incorrect: After you've written code to create a line chart, `check()` will tell you whether your code is correct."
      ]
     },
     "metadata": {},
     "output_type": "display_data"
    },
    {
     "data": {
      "text/plain": [
       "<Figure size 640x480 with 0 Axes>"
      ]
     },
     "metadata": {},
     "output_type": "display_data"
    }
   ],
   "source": [
    "# Line plot showing the number of visitors to Avila Adobe over time\n",
    "____ # Your code here\n",
    "\n",
    "# Check your answer\n",
    "step_4.a.check()"
   ]
  },
  {
   "cell_type": "code",
   "execution_count": 10,
   "id": "d549e562",
   "metadata": {
    "execution": {
     "iopub.execute_input": "2024-12-03T21:27:01.674594Z",
     "iopub.status.busy": "2024-12-03T21:27:01.674215Z",
     "iopub.status.idle": "2024-12-03T21:27:01.678923Z",
     "shell.execute_reply": "2024-12-03T21:27:01.677854Z"
    },
    "papermill": {
     "duration": 0.013754,
     "end_time": "2024-12-03T21:27:01.681111",
     "exception": false,
     "start_time": "2024-12-03T21:27:01.667357",
     "status": "completed"
    },
    "tags": []
   },
   "outputs": [],
   "source": [
    "# Lines below will give you a hint or solution code\n",
    "#step_4.a.hint()\n",
    "#step_4.a.solution_plot()"
   ]
  },
  {
   "cell_type": "markdown",
   "id": "fdffe7e2",
   "metadata": {
    "papermill": {
     "duration": 0.005398,
     "end_time": "2024-12-03T21:27:01.692275",
     "exception": false,
     "start_time": "2024-12-03T21:27:01.686877",
     "status": "completed"
    },
    "tags": []
   },
   "source": [
    "#### Part B\n",
    "\n",
    "Does Avila Adobe get more visitors:\n",
    "- in September-February (in LA, the fall and winter months), or \n",
    "- in March-August (in LA, the spring and summer)?  \n",
    "\n",
    "Using this information, when should the museum staff additional seasonal employees?"
   ]
  },
  {
   "cell_type": "code",
   "execution_count": 11,
   "id": "96c3f92e",
   "metadata": {
    "execution": {
     "iopub.execute_input": "2024-12-03T21:27:01.706409Z",
     "iopub.status.busy": "2024-12-03T21:27:01.705036Z",
     "iopub.status.idle": "2024-12-03T21:27:01.710333Z",
     "shell.execute_reply": "2024-12-03T21:27:01.709260Z"
    },
    "papermill": {
     "duration": 0.01472,
     "end_time": "2024-12-03T21:27:01.712670",
     "exception": false,
     "start_time": "2024-12-03T21:27:01.697950",
     "status": "completed"
    },
    "tags": []
   },
   "outputs": [],
   "source": [
    "#step_4.b.hint()"
   ]
  },
  {
   "cell_type": "code",
   "execution_count": 12,
   "id": "3e082766",
   "metadata": {
    "execution": {
     "iopub.execute_input": "2024-12-03T21:27:01.725907Z",
     "iopub.status.busy": "2024-12-03T21:27:01.725395Z",
     "iopub.status.idle": "2024-12-03T21:27:01.734851Z",
     "shell.execute_reply": "2024-12-03T21:27:01.733503Z"
    },
    "papermill": {
     "duration": 0.018936,
     "end_time": "2024-12-03T21:27:01.737373",
     "exception": false,
     "start_time": "2024-12-03T21:27:01.718437",
     "status": "completed"
    },
    "tags": []
   },
   "outputs": [
    {
     "data": {
      "application/javascript": [
       "parent.postMessage({\"jupyterEvent\": \"custom.exercise_interaction\", \"data\": {\"interactionType\": 3, \"questionType\": 4, \"questionId\": \"4.2_ThinkAvila\", \"learnToolsVersion\": \"0.3.4\", \"valueTowardsCompletion\": 0.0, \"failureMessage\": \"\", \"exceptionClass\": \"\", \"trace\": \"\", \"outcomeType\": 4}}, \"*\")"
      ],
      "text/plain": [
       "<IPython.core.display.Javascript object>"
      ]
     },
     "metadata": {},
     "output_type": "display_data"
    },
    {
     "data": {
      "text/markdown": [
       "<span style=\"color:#33cc99\">Solution:</span> The line chart generally dips to relatively low values around the early part of each year (in December and January), and reaches its highest values in the middle of the year (especially around May and June).  Thus, Avila Adobe usually gets more visitors in March-August (or the spring and summer months).  With this in mind, Avila Adobe could definitely benefit from hiring more seasonal employees to help with the extra work in March-August (the spring and summer)!"
      ],
      "text/plain": [
       "Solution: The line chart generally dips to relatively low values around the early part of each year (in December and January), and reaches its highest values in the middle of the year (especially around May and June).  Thus, Avila Adobe usually gets more visitors in March-August (or the spring and summer months).  With this in mind, Avila Adobe could definitely benefit from hiring more seasonal employees to help with the extra work in March-August (the spring and summer)!"
      ]
     },
     "metadata": {},
     "output_type": "display_data"
    }
   ],
   "source": [
    "# Check your answer (Run this code cell to receive credit!)\n",
    "step_4.b.solution()"
   ]
  },
  {
   "cell_type": "markdown",
   "id": "745b2de5",
   "metadata": {
    "papermill": {
     "duration": 0.005539,
     "end_time": "2024-12-03T21:27:01.749159",
     "exception": false,
     "start_time": "2024-12-03T21:27:01.743620",
     "status": "completed"
    },
    "tags": []
   },
   "source": [
    "# Keep going\n",
    "\n",
    "Move on to learn about **[bar charts and heatmaps](https://www.kaggle.com/alexisbcook/bar-charts-and-heatmaps)** with a new dataset!"
   ]
  },
  {
   "cell_type": "markdown",
   "id": "a19db61d",
   "metadata": {
    "papermill": {
     "duration": 0.006364,
     "end_time": "2024-12-03T21:27:01.761354",
     "exception": false,
     "start_time": "2024-12-03T21:27:01.754990",
     "status": "completed"
    },
    "tags": []
   },
   "source": [
    "---\n",
    "\n",
    "\n",
    "\n",
    "\n",
    "*Have questions or comments? Visit the [course discussion forum](https://www.kaggle.com/learn/data-visualization/discussion) to chat with other learners.*"
   ]
  }
 ],
 "metadata": {
  "kaggle": {
   "accelerator": "none",
   "dataSources": [
    {
     "datasetId": 116573,
     "sourceId": 3551030,
     "sourceType": "datasetVersion"
    }
   ],
   "isGpuEnabled": false,
   "isInternetEnabled": false,
   "language": "python",
   "sourceType": "notebook"
  },
  "kernelspec": {
   "display_name": "Python 3",
   "language": "python",
   "name": "python3"
  },
  "language_info": {
   "codemirror_mode": {
    "name": "ipython",
    "version": 3
   },
   "file_extension": ".py",
   "mimetype": "text/x-python",
   "name": "python",
   "nbconvert_exporter": "python",
   "pygments_lexer": "ipython3",
   "version": "3.10.14"
  },
  "papermill": {
   "default_parameters": {},
   "duration": 6.774336,
   "end_time": "2024-12-03T21:27:02.389874",
   "environment_variables": {},
   "exception": null,
   "input_path": "__notebook__.ipynb",
   "output_path": "__notebook__.ipynb",
   "parameters": {},
   "start_time": "2024-12-03T21:26:55.615538",
   "version": "2.6.0"
  }
 },
 "nbformat": 4,
 "nbformat_minor": 5
}
