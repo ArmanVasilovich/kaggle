{
 "cells": [
  {
   "cell_type": "markdown",
   "id": "d85cae52",
   "metadata": {
    "papermill": {
     "duration": 0.005039,
     "end_time": "2024-12-03T21:44:58.576178",
     "exception": false,
     "start_time": "2024-12-03T21:44:58.571139",
     "status": "completed"
    },
    "tags": []
   },
   "source": [
    "**This notebook is an exercise in the [Data Visualization](https://www.kaggle.com/learn/data-visualization) course.  You can reference the tutorial at [this link](https://www.kaggle.com/alexisbcook/line-charts).**\n",
    "\n",
    "---\n"
   ]
  },
  {
   "cell_type": "markdown",
   "id": "811ec447",
   "metadata": {
    "papermill": {
     "duration": 0.003877,
     "end_time": "2024-12-03T21:44:58.584604",
     "exception": false,
     "start_time": "2024-12-03T21:44:58.580727",
     "status": "completed"
    },
    "tags": []
   },
   "source": [
    "In this exercise, you will use your new knowledge to propose a solution to a real-world scenario. To succeed, you will need to import data into Python, answer questions using the data, and generate **line charts** to understand patterns in the data.\n",
    "\n",
    "## Scenario\n",
    "\n",
    "You have recently been hired to manage the museums in the City of Los Angeles. Your first project focuses on the four museums pictured in the images below.\n",
    "\n",
    "![ex1_museums](https://storage.googleapis.com/kaggle-media/learn/images/pFYL8J1.png)\n",
    "\n",
    "You will leverage data from the Los Angeles [Data Portal](https://data.lacity.org/) that tracks monthly visitors to each museum.  \n",
    "\n",
    "![ex1_xlsx](https://storage.googleapis.com/kaggle-media/learn/images/mGWYlym.png)\n",
    "\n",
    "## Setup\n",
    "\n",
    "Run the next cell to import and configure the Python libraries that you need to complete the exercise."
   ]
  },
  {
   "cell_type": "code",
   "execution_count": 1,
   "id": "fbd42253",
   "metadata": {
    "execution": {
     "iopub.execute_input": "2024-12-03T21:44:58.594397Z",
     "iopub.status.busy": "2024-12-03T21:44:58.594006Z",
     "iopub.status.idle": "2024-12-03T21:45:00.957345Z",
     "shell.execute_reply": "2024-12-03T21:45:00.956228Z"
    },
    "papermill": {
     "duration": 2.370691,
     "end_time": "2024-12-03T21:45:00.959567",
     "exception": false,
     "start_time": "2024-12-03T21:44:58.588876",
     "status": "completed"
    },
    "tags": []
   },
   "outputs": [
    {
     "name": "stdout",
     "output_type": "stream",
     "text": [
      "Setup Complete\n"
     ]
    }
   ],
   "source": [
    "import pandas as pd\n",
    "pd.plotting.register_matplotlib_converters()\n",
    "import matplotlib.pyplot as plt\n",
    "%matplotlib inline\n",
    "import seaborn as sns\n",
    "print(\"Setup Complete\")"
   ]
  },
  {
   "cell_type": "markdown",
   "id": "002b58b3",
   "metadata": {
    "papermill": {
     "duration": 0.005235,
     "end_time": "2024-12-03T21:45:00.969146",
     "exception": false,
     "start_time": "2024-12-03T21:45:00.963911",
     "status": "completed"
    },
    "tags": []
   },
   "source": [
    "The questions below will give you feedback on your work. Run the following cell to set up the feedback system."
   ]
  },
  {
   "cell_type": "code",
   "execution_count": 2,
   "id": "3edc49cb",
   "metadata": {
    "execution": {
     "iopub.execute_input": "2024-12-03T21:45:00.979190Z",
     "iopub.status.busy": "2024-12-03T21:45:00.978679Z",
     "iopub.status.idle": "2024-12-03T21:45:01.037886Z",
     "shell.execute_reply": "2024-12-03T21:45:01.036853Z"
    },
    "papermill": {
     "duration": 0.066895,
     "end_time": "2024-12-03T21:45:01.040277",
     "exception": false,
     "start_time": "2024-12-03T21:45:00.973382",
     "status": "completed"
    },
    "tags": []
   },
   "outputs": [
    {
     "name": "stdout",
     "output_type": "stream",
     "text": [
      "Setup Complete\n"
     ]
    }
   ],
   "source": [
    "# Set up code checking\n",
    "import os\n",
    "if not os.path.exists(\"../input/museum_visitors.csv\"):\n",
    "    os.symlink(\"../input/data-for-datavis/museum_visitors.csv\", \"../input/museum_visitors.csv\") \n",
    "from learntools.core import binder\n",
    "binder.bind(globals())\n",
    "from learntools.data_viz_to_coder.ex2 import *\n",
    "print(\"Setup Complete\")"
   ]
  },
  {
   "cell_type": "markdown",
   "id": "ff3631f4",
   "metadata": {
    "papermill": {
     "duration": 0.00406,
     "end_time": "2024-12-03T21:45:01.048811",
     "exception": false,
     "start_time": "2024-12-03T21:45:01.044751",
     "status": "completed"
    },
    "tags": []
   },
   "source": [
    "## Step 1: Load the data\n",
    "\n",
    "Your first assignment is to read the LA Museum Visitors data file into `museum_data`.  Note that:\n",
    "- The filepath to the dataset is stored as `museum_filepath`.  Please **do not** change the provided value of the filepath.\n",
    "- The name of the column to use as row labels is `\"Date\"`.  (This can be seen in cell A1 when the file is opened in Excel.)\n",
    "\n",
    "To help with this, you may find it useful to revisit some relevant code from the tutorial, which we have pasted below:\n",
    "\n",
    "```python\n",
    "# Path of the file to read\n",
    "spotify_filepath = \"../input/spotify.csv\"\n",
    "\n",
    "# Read the file into a variable spotify_data\n",
    "spotify_data = pd.read_csv(spotify_filepath, index_col=\"Date\", parse_dates=True)\n",
    "```\n",
    "\n",
    "The code you need to write now looks very similar!"
   ]
  },
  {
   "cell_type": "code",
   "execution_count": 3,
   "id": "84e1bf89",
   "metadata": {
    "execution": {
     "iopub.execute_input": "2024-12-03T21:45:01.059646Z",
     "iopub.status.busy": "2024-12-03T21:45:01.058890Z",
     "iopub.status.idle": "2024-12-03T21:45:01.072081Z",
     "shell.execute_reply": "2024-12-03T21:45:01.071189Z"
    },
    "papermill": {
     "duration": 0.021086,
     "end_time": "2024-12-03T21:45:01.074104",
     "exception": false,
     "start_time": "2024-12-03T21:45:01.053018",
     "status": "completed"
    },
    "tags": []
   },
   "outputs": [
    {
     "data": {
      "application/javascript": [
       "parent.postMessage({\"jupyterEvent\": \"custom.exercise_interaction\", \"data\": {\"outcomeType\": 1, \"valueTowardsCompletion\": 0.3333333333333333, \"interactionType\": 1, \"questionType\": 1, \"questionId\": \"1_LoadMuseumData\", \"learnToolsVersion\": \"0.3.4\", \"failureMessage\": \"\", \"exceptionClass\": \"\", \"trace\": \"\"}}, \"*\")"
      ],
      "text/plain": [
       "<IPython.core.display.Javascript object>"
      ]
     },
     "metadata": {},
     "output_type": "display_data"
    },
    {
     "data": {
      "text/markdown": [
       "<span style=\"color:#33cc33\">Correct</span>"
      ],
      "text/plain": [
       "Correct"
      ]
     },
     "metadata": {},
     "output_type": "display_data"
    }
   ],
   "source": [
    "museum_filepath = \"../input/museum_visitors.csv\"\n",
    "museum_data = pd.read_csv(museum_filepath, index_col='Date', parse_dates=True)\n",
    "step_1.check()"
   ]
  },
  {
   "cell_type": "markdown",
   "id": "846cc188",
   "metadata": {
    "papermill": {
     "duration": 0.004195,
     "end_time": "2024-12-03T21:45:01.082803",
     "exception": false,
     "start_time": "2024-12-03T21:45:01.078608",
     "status": "completed"
    },
    "tags": []
   },
   "source": [
    "## Step 2: Review the data\n",
    "\n",
    "Use a Python command to print the last 5 rows of the data."
   ]
  },
  {
   "cell_type": "code",
   "execution_count": 4,
   "id": "247df076",
   "metadata": {
    "execution": {
     "iopub.execute_input": "2024-12-03T21:45:01.093557Z",
     "iopub.status.busy": "2024-12-03T21:45:01.092727Z",
     "iopub.status.idle": "2024-12-03T21:45:01.109305Z",
     "shell.execute_reply": "2024-12-03T21:45:01.108374Z"
    },
    "papermill": {
     "duration": 0.02443,
     "end_time": "2024-12-03T21:45:01.111557",
     "exception": false,
     "start_time": "2024-12-03T21:45:01.087127",
     "status": "completed"
    },
    "tags": []
   },
   "outputs": [
    {
     "data": {
      "text/html": [
       "<div>\n",
       "<style scoped>\n",
       "    .dataframe tbody tr th:only-of-type {\n",
       "        vertical-align: middle;\n",
       "    }\n",
       "\n",
       "    .dataframe tbody tr th {\n",
       "        vertical-align: top;\n",
       "    }\n",
       "\n",
       "    .dataframe thead th {\n",
       "        text-align: right;\n",
       "    }\n",
       "</style>\n",
       "<table border=\"1\" class=\"dataframe\">\n",
       "  <thead>\n",
       "    <tr style=\"text-align: right;\">\n",
       "      <th></th>\n",
       "      <th>Avila Adobe</th>\n",
       "      <th>Firehouse Museum</th>\n",
       "      <th>Chinese American Museum</th>\n",
       "      <th>America Tropical Interpretive Center</th>\n",
       "    </tr>\n",
       "    <tr>\n",
       "      <th>Date</th>\n",
       "      <th></th>\n",
       "      <th></th>\n",
       "      <th></th>\n",
       "      <th></th>\n",
       "    </tr>\n",
       "  </thead>\n",
       "  <tbody>\n",
       "    <tr>\n",
       "      <th>2018-07-01</th>\n",
       "      <td>23136</td>\n",
       "      <td>4191</td>\n",
       "      <td>2620</td>\n",
       "      <td>4718</td>\n",
       "    </tr>\n",
       "    <tr>\n",
       "      <th>2018-08-01</th>\n",
       "      <td>20815</td>\n",
       "      <td>4866</td>\n",
       "      <td>2409</td>\n",
       "      <td>3891</td>\n",
       "    </tr>\n",
       "    <tr>\n",
       "      <th>2018-09-01</th>\n",
       "      <td>21020</td>\n",
       "      <td>4956</td>\n",
       "      <td>2146</td>\n",
       "      <td>3180</td>\n",
       "    </tr>\n",
       "    <tr>\n",
       "      <th>2018-10-01</th>\n",
       "      <td>19280</td>\n",
       "      <td>4622</td>\n",
       "      <td>2364</td>\n",
       "      <td>3775</td>\n",
       "    </tr>\n",
       "    <tr>\n",
       "      <th>2018-11-01</th>\n",
       "      <td>17163</td>\n",
       "      <td>4082</td>\n",
       "      <td>2385</td>\n",
       "      <td>4562</td>\n",
       "    </tr>\n",
       "  </tbody>\n",
       "</table>\n",
       "</div>"
      ],
      "text/plain": [
       "            Avila Adobe  Firehouse Museum  Chinese American Museum  \\\n",
       "Date                                                                 \n",
       "2018-07-01        23136              4191                     2620   \n",
       "2018-08-01        20815              4866                     2409   \n",
       "2018-09-01        21020              4956                     2146   \n",
       "2018-10-01        19280              4622                     2364   \n",
       "2018-11-01        17163              4082                     2385   \n",
       "\n",
       "            America Tropical Interpretive Center  \n",
       "Date                                              \n",
       "2018-07-01                                  4718  \n",
       "2018-08-01                                  3891  \n",
       "2018-09-01                                  3180  \n",
       "2018-10-01                                  3775  \n",
       "2018-11-01                                  4562  "
      ]
     },
     "execution_count": 4,
     "metadata": {},
     "output_type": "execute_result"
    }
   ],
   "source": [
    "museum_data.tail()"
   ]
  },
  {
   "cell_type": "markdown",
   "id": "41f13c9f",
   "metadata": {
    "papermill": {
     "duration": 0.004454,
     "end_time": "2024-12-03T21:45:01.120853",
     "exception": false,
     "start_time": "2024-12-03T21:45:01.116399",
     "status": "completed"
    },
    "tags": []
   },
   "source": [
    "The last row (for `2018-11-01`) tracks the number of visitors to each museum in November 2018, the next-to-last row (for `2018-10-01`) tracks the number of visitors to each museum in October 2018, _and so on_.\n",
    "\n",
    "Use the last 5 rows of the data to answer the questions below."
   ]
  },
  {
   "cell_type": "code",
   "execution_count": 5,
   "id": "b63a1366",
   "metadata": {
    "execution": {
     "iopub.execute_input": "2024-12-03T21:45:01.132038Z",
     "iopub.status.busy": "2024-12-03T21:45:01.131111Z",
     "iopub.status.idle": "2024-12-03T21:45:01.139263Z",
     "shell.execute_reply": "2024-12-03T21:45:01.138276Z"
    },
    "papermill": {
     "duration": 0.015652,
     "end_time": "2024-12-03T21:45:01.141178",
     "exception": false,
     "start_time": "2024-12-03T21:45:01.125526",
     "status": "completed"
    },
    "tags": []
   },
   "outputs": [
    {
     "data": {
      "application/javascript": [
       "parent.postMessage({\"jupyterEvent\": \"custom.exercise_interaction\", \"data\": {\"outcomeType\": 1, \"valueTowardsCompletion\": 0.3333333333333333, \"interactionType\": 1, \"questionType\": 1, \"questionId\": \"2_ReviewData\", \"learnToolsVersion\": \"0.3.4\", \"failureMessage\": \"\", \"exceptionClass\": \"\", \"trace\": \"\"}}, \"*\")"
      ],
      "text/plain": [
       "<IPython.core.display.Javascript object>"
      ]
     },
     "metadata": {},
     "output_type": "display_data"
    },
    {
     "data": {
      "text/markdown": [
       "<span style=\"color:#33cc33\">Correct</span>"
      ],
      "text/plain": [
       "Correct"
      ]
     },
     "metadata": {},
     "output_type": "display_data"
    }
   ],
   "source": [
    "ca_museum_jul18 = 2620\n",
    "avila_oct18 = 19280 - 4622\n",
    "\n",
    "step_2.check()"
   ]
  },
  {
   "cell_type": "code",
   "execution_count": 6,
   "id": "45ca117f",
   "metadata": {
    "execution": {
     "iopub.execute_input": "2024-12-03T21:45:01.152890Z",
     "iopub.status.busy": "2024-12-03T21:45:01.151905Z",
     "iopub.status.idle": "2024-12-03T21:45:01.156532Z",
     "shell.execute_reply": "2024-12-03T21:45:01.155606Z"
    },
    "papermill": {
     "duration": 0.0126,
     "end_time": "2024-12-03T21:45:01.158551",
     "exception": false,
     "start_time": "2024-12-03T21:45:01.145951",
     "status": "completed"
    },
    "tags": []
   },
   "outputs": [],
   "source": [
    "# Lines below will give you a hint or solution code\n",
    "#step_2.hint()\n",
    "#step_2.solution()"
   ]
  },
  {
   "cell_type": "markdown",
   "id": "52ead4a9",
   "metadata": {
    "papermill": {
     "duration": 0.004866,
     "end_time": "2024-12-03T21:45:01.168255",
     "exception": false,
     "start_time": "2024-12-03T21:45:01.163389",
     "status": "completed"
    },
    "tags": []
   },
   "source": [
    "## Step 3: Convince the museum board \n",
    "\n",
    "The Firehouse Museum claims they ran an event in 2014 that brought an incredible number of visitors, and that they should get extra budget to run a similar event again.  The other museums think these types of events aren't that important, and budgets should be split purely based on recent visitors on an average day.  \n",
    "\n",
    "To show the museum board how the event compared to regular traffic at each museum, create a line chart that shows how the number of visitors to each museum evolved over time.  Your figure should have four lines (one for each museum).\n",
    "\n",
    "> **(Optional) Note**: If you have some prior experience with plotting figures in Python, you might be familiar with the `plt.show()` command.  If you decide to use this command, please place it **after** the line of code that checks your answer (in this case, place it after `step_3.check()` below) -- otherwise, the checking code will return an error!"
   ]
  },
  {
   "cell_type": "code",
   "execution_count": 7,
   "id": "6b1abd0b",
   "metadata": {
    "execution": {
     "iopub.execute_input": "2024-12-03T21:45:01.179410Z",
     "iopub.status.busy": "2024-12-03T21:45:01.179048Z",
     "iopub.status.idle": "2024-12-03T21:45:01.196151Z",
     "shell.execute_reply": "2024-12-03T21:45:01.195216Z"
    },
    "papermill": {
     "duration": 0.024974,
     "end_time": "2024-12-03T21:45:01.198073",
     "exception": false,
     "start_time": "2024-12-03T21:45:01.173099",
     "status": "completed"
    },
    "tags": []
   },
   "outputs": [
    {
     "data": {
      "application/javascript": [
       "parent.postMessage({\"jupyterEvent\": \"custom.exercise_interaction\", \"data\": {\"outcomeType\": 2, \"failureMessage\": \"After you've written code to create a line chart, `check()` will tell you whether your code is correct.\", \"interactionType\": 1, \"questionType\": 2, \"questionId\": \"3_PlotAll\", \"learnToolsVersion\": \"0.3.4\", \"valueTowardsCompletion\": 0.0, \"exceptionClass\": \"\", \"trace\": \"\"}}, \"*\")"
      ],
      "text/plain": [
       "<IPython.core.display.Javascript object>"
      ]
     },
     "metadata": {},
     "output_type": "display_data"
    },
    {
     "data": {
      "text/markdown": [
       "<span style=\"color:#cc3333\">Incorrect:</span> After you've written code to create a line chart, `check()` will tell you whether your code is correct."
      ],
      "text/plain": [
       "Incorrect: After you've written code to create a line chart, `check()` will tell you whether your code is correct."
      ]
     },
     "metadata": {},
     "output_type": "display_data"
    },
    {
     "data": {
      "text/plain": [
       "<Figure size 640x480 with 0 Axes>"
      ]
     },
     "metadata": {},
     "output_type": "display_data"
    }
   ],
   "source": [
    "# Line chart showing the number of visitors to each museum over time\n",
    "____ # Your code here\n",
    "\n",
    "# Check your answer\n",
    "step_3.check()"
   ]
  },
  {
   "cell_type": "code",
   "execution_count": 8,
   "id": "b8d06c6f",
   "metadata": {
    "execution": {
     "iopub.execute_input": "2024-12-03T21:45:01.210140Z",
     "iopub.status.busy": "2024-12-03T21:45:01.209440Z",
     "iopub.status.idle": "2024-12-03T21:45:01.213524Z",
     "shell.execute_reply": "2024-12-03T21:45:01.212531Z"
    },
    "papermill": {
     "duration": 0.012162,
     "end_time": "2024-12-03T21:45:01.215464",
     "exception": false,
     "start_time": "2024-12-03T21:45:01.203302",
     "status": "completed"
    },
    "tags": []
   },
   "outputs": [],
   "source": [
    "# Lines below will give you a hint or solution code\n",
    "#step_3.hint()\n",
    "#step_3.solution_plot()"
   ]
  },
  {
   "cell_type": "markdown",
   "id": "a696ab71",
   "metadata": {
    "papermill": {
     "duration": 0.00485,
     "end_time": "2024-12-03T21:45:01.225436",
     "exception": false,
     "start_time": "2024-12-03T21:45:01.220586",
     "status": "completed"
    },
    "tags": []
   },
   "source": [
    "## Step 4: Assess seasonality\n",
    "\n",
    "When meeting with the employees at Avila Adobe, you hear that one major pain point is that the number of museum visitors varies greatly with the seasons, with low seasons (when the employees are perfectly staffed and happy) and also high seasons (when the employees are understaffed and stressed).  You realize that if you can predict these high and low seasons, you can plan ahead to hire some additional seasonal employees to help out with the extra work.\n",
    "\n",
    "#### Part A\n",
    "Create a line chart that shows how the number of visitors to Avila Adobe has evolved over time.  (_If your code returns an error, the first thing that you should check is that you've spelled the name of the column correctly!  You must write the name of the column exactly as it appears in the dataset._)"
   ]
  },
  {
   "cell_type": "code",
   "execution_count": 9,
   "id": "e87a8f80",
   "metadata": {
    "execution": {
     "iopub.execute_input": "2024-12-03T21:45:01.237783Z",
     "iopub.status.busy": "2024-12-03T21:45:01.236864Z",
     "iopub.status.idle": "2024-12-03T21:45:01.249374Z",
     "shell.execute_reply": "2024-12-03T21:45:01.248349Z"
    },
    "papermill": {
     "duration": 0.020738,
     "end_time": "2024-12-03T21:45:01.251229",
     "exception": false,
     "start_time": "2024-12-03T21:45:01.230491",
     "status": "completed"
    },
    "tags": []
   },
   "outputs": [
    {
     "data": {
      "application/javascript": [
       "parent.postMessage({\"jupyterEvent\": \"custom.exercise_interaction\", \"data\": {\"outcomeType\": 2, \"failureMessage\": \"After you've written code to create a line chart, `check()` will tell you whether your code is correct.\", \"interactionType\": 1, \"questionType\": 2, \"questionId\": \"4.1_PlotAvila\", \"learnToolsVersion\": \"0.3.4\", \"valueTowardsCompletion\": 0.0, \"exceptionClass\": \"\", \"trace\": \"\"}}, \"*\")"
      ],
      "text/plain": [
       "<IPython.core.display.Javascript object>"
      ]
     },
     "metadata": {},
     "output_type": "display_data"
    },
    {
     "data": {
      "text/markdown": [
       "<span style=\"color:#cc3333\">Incorrect:</span> After you've written code to create a line chart, `check()` will tell you whether your code is correct."
      ],
      "text/plain": [
       "Incorrect: After you've written code to create a line chart, `check()` will tell you whether your code is correct."
      ]
     },
     "metadata": {},
     "output_type": "display_data"
    },
    {
     "data": {
      "text/plain": [
       "<Figure size 640x480 with 0 Axes>"
      ]
     },
     "metadata": {},
     "output_type": "display_data"
    }
   ],
   "source": [
    "# Line plot showing the number of visitors to Avila Adobe over time\n",
    "____ # Your code here\n",
    "\n",
    "# Check your answer\n",
    "step_4.a.check()"
   ]
  },
  {
   "cell_type": "code",
   "execution_count": 10,
   "id": "151c6542",
   "metadata": {
    "execution": {
     "iopub.execute_input": "2024-12-03T21:45:01.264590Z",
     "iopub.status.busy": "2024-12-03T21:45:01.263880Z",
     "iopub.status.idle": "2024-12-03T21:45:01.268137Z",
     "shell.execute_reply": "2024-12-03T21:45:01.267222Z"
    },
    "papermill": {
     "duration": 0.012916,
     "end_time": "2024-12-03T21:45:01.269990",
     "exception": false,
     "start_time": "2024-12-03T21:45:01.257074",
     "status": "completed"
    },
    "tags": []
   },
   "outputs": [],
   "source": [
    "# Lines below will give you a hint or solution code\n",
    "#step_4.a.hint()\n",
    "#step_4.a.solution_plot()"
   ]
  },
  {
   "cell_type": "markdown",
   "id": "710316c4",
   "metadata": {
    "papermill": {
     "duration": 0.00537,
     "end_time": "2024-12-03T21:45:01.280941",
     "exception": false,
     "start_time": "2024-12-03T21:45:01.275571",
     "status": "completed"
    },
    "tags": []
   },
   "source": [
    "#### Part B\n",
    "\n",
    "Does Avila Adobe get more visitors:\n",
    "- in September-February (in LA, the fall and winter months), or \n",
    "- in March-August (in LA, the spring and summer)?  \n",
    "\n",
    "Using this information, when should the museum staff additional seasonal employees?"
   ]
  },
  {
   "cell_type": "code",
   "execution_count": 11,
   "id": "47761674",
   "metadata": {
    "execution": {
     "iopub.execute_input": "2024-12-03T21:45:01.294094Z",
     "iopub.status.busy": "2024-12-03T21:45:01.293250Z",
     "iopub.status.idle": "2024-12-03T21:45:01.297932Z",
     "shell.execute_reply": "2024-12-03T21:45:01.296923Z"
    },
    "papermill": {
     "duration": 0.013538,
     "end_time": "2024-12-03T21:45:01.299998",
     "exception": false,
     "start_time": "2024-12-03T21:45:01.286460",
     "status": "completed"
    },
    "tags": []
   },
   "outputs": [],
   "source": [
    "#step_4.b.hint()"
   ]
  },
  {
   "cell_type": "code",
   "execution_count": 12,
   "id": "b93b99bc",
   "metadata": {
    "execution": {
     "iopub.execute_input": "2024-12-03T21:45:01.313311Z",
     "iopub.status.busy": "2024-12-03T21:45:01.312662Z",
     "iopub.status.idle": "2024-12-03T21:45:01.320623Z",
     "shell.execute_reply": "2024-12-03T21:45:01.319669Z"
    },
    "papermill": {
     "duration": 0.016882,
     "end_time": "2024-12-03T21:45:01.322605",
     "exception": false,
     "start_time": "2024-12-03T21:45:01.305723",
     "status": "completed"
    },
    "tags": []
   },
   "outputs": [
    {
     "data": {
      "application/javascript": [
       "parent.postMessage({\"jupyterEvent\": \"custom.exercise_interaction\", \"data\": {\"interactionType\": 3, \"questionType\": 4, \"questionId\": \"4.2_ThinkAvila\", \"learnToolsVersion\": \"0.3.4\", \"valueTowardsCompletion\": 0.0, \"failureMessage\": \"\", \"exceptionClass\": \"\", \"trace\": \"\", \"outcomeType\": 4}}, \"*\")"
      ],
      "text/plain": [
       "<IPython.core.display.Javascript object>"
      ]
     },
     "metadata": {},
     "output_type": "display_data"
    },
    {
     "data": {
      "text/markdown": [
       "<span style=\"color:#33cc99\">Solution:</span> The line chart generally dips to relatively low values around the early part of each year (in December and January), and reaches its highest values in the middle of the year (especially around May and June).  Thus, Avila Adobe usually gets more visitors in March-August (or the spring and summer months).  With this in mind, Avila Adobe could definitely benefit from hiring more seasonal employees to help with the extra work in March-August (the spring and summer)!"
      ],
      "text/plain": [
       "Solution: The line chart generally dips to relatively low values around the early part of each year (in December and January), and reaches its highest values in the middle of the year (especially around May and June).  Thus, Avila Adobe usually gets more visitors in March-August (or the spring and summer months).  With this in mind, Avila Adobe could definitely benefit from hiring more seasonal employees to help with the extra work in March-August (the spring and summer)!"
      ]
     },
     "metadata": {},
     "output_type": "display_data"
    }
   ],
   "source": [
    "# Check your answer (Run this code cell to receive credit!)\n",
    "step_4.b.solution()"
   ]
  },
  {
   "cell_type": "markdown",
   "id": "07872909",
   "metadata": {
    "papermill": {
     "duration": 0.005564,
     "end_time": "2024-12-03T21:45:01.334025",
     "exception": false,
     "start_time": "2024-12-03T21:45:01.328461",
     "status": "completed"
    },
    "tags": []
   },
   "source": [
    "# Keep going\n",
    "\n",
    "Move on to learn about **[bar charts and heatmaps](https://www.kaggle.com/alexisbcook/bar-charts-and-heatmaps)** with a new dataset!"
   ]
  },
  {
   "cell_type": "markdown",
   "id": "29b572b4",
   "metadata": {
    "papermill": {
     "duration": 0.005617,
     "end_time": "2024-12-03T21:45:01.345390",
     "exception": false,
     "start_time": "2024-12-03T21:45:01.339773",
     "status": "completed"
    },
    "tags": []
   },
   "source": [
    "---\n",
    "\n",
    "\n",
    "\n",
    "\n",
    "*Have questions or comments? Visit the [course discussion forum](https://www.kaggle.com/learn/data-visualization/discussion) to chat with other learners.*"
   ]
  }
 ],
 "metadata": {
  "kaggle": {
   "accelerator": "none",
   "dataSources": [
    {
     "datasetId": 116573,
     "sourceId": 3551030,
     "sourceType": "datasetVersion"
    }
   ],
   "isGpuEnabled": false,
   "isInternetEnabled": false,
   "language": "python",
   "sourceType": "notebook"
  },
  "kernelspec": {
   "display_name": "Python 3",
   "language": "python",
   "name": "python3"
  },
  "language_info": {
   "codemirror_mode": {
    "name": "ipython",
    "version": 3
   },
   "file_extension": ".py",
   "mimetype": "text/x-python",
   "name": "python",
   "nbconvert_exporter": "python",
   "pygments_lexer": "ipython3",
   "version": "3.10.14"
  },
  "papermill": {
   "default_parameters": {},
   "duration": 5.927084,
   "end_time": "2024-12-03T21:45:01.971768",
   "environment_variables": {},
   "exception": null,
   "input_path": "__notebook__.ipynb",
   "output_path": "__notebook__.ipynb",
   "parameters": {},
   "start_time": "2024-12-03T21:44:56.044684",
   "version": "2.6.0"
  }
 },
 "nbformat": 4,
 "nbformat_minor": 5
}
