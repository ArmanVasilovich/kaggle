{
 "cells": [
  {
   "cell_type": "markdown",
   "id": "8ac7e111",
   "metadata": {
    "papermill": {
     "duration": 0.002952,
     "end_time": "2025-01-20T10:36:25.885312",
     "exception": false,
     "start_time": "2025-01-20T10:36:25.882360",
     "status": "completed"
    },
    "tags": []
   },
   "source": [
    "**This notebook is an exercise in the [SQL](https://www.kaggle.com/learn/intro-to-sql) course.  You can reference the tutorial at [this link](https://www.kaggle.com/dansbecker/getting-started-with-sql-and-bigquery).**\n",
    "\n",
    "---\n"
   ]
  },
  {
   "cell_type": "markdown",
   "id": "ad949c59",
   "metadata": {
    "papermill": {
     "duration": 0.002201,
     "end_time": "2025-01-20T10:36:25.890388",
     "exception": false,
     "start_time": "2025-01-20T10:36:25.888187",
     "status": "completed"
    },
    "tags": []
   },
   "source": [
    "# Introduction\n",
    "\n",
    "The first test of your new data exploration skills uses data describing crime in the city of Chicago.\n",
    "\n",
    "Before you get started, run the following cell. It sets up the automated feedback system to review your answers."
   ]
  },
  {
   "cell_type": "code",
   "execution_count": 1,
   "id": "fe92abdd",
   "metadata": {
    "execution": {
     "iopub.execute_input": "2025-01-20T10:36:25.896286Z",
     "iopub.status.busy": "2025-01-20T10:36:25.895988Z",
     "iopub.status.idle": "2025-01-20T10:36:41.834849Z",
     "shell.execute_reply": "2025-01-20T10:36:41.833975Z"
    },
    "papermill": {
     "duration": 15.943509,
     "end_time": "2025-01-20T10:36:41.836272",
     "exception": false,
     "start_time": "2025-01-20T10:36:25.892763",
     "status": "completed"
    },
    "tags": []
   },
   "outputs": [
    {
     "name": "stderr",
     "output_type": "stream",
     "text": [
      "/usr/local/lib/python3.10/dist-packages/learntools/sql/ex1.py:64: SyntaxWarning: assertion is always true, perhaps remove parentheses?\n",
      "  assert (type(fields_for_plotting[0] == str), \"The first item in `fields_for_plotting` should be a string.\")\n",
      "/usr/local/lib/python3.10/dist-packages/learntools/sql/ex1.py:65: SyntaxWarning: assertion is always true, perhaps remove parentheses?\n",
      "  assert (type(fields_for_plotting[1] == str), \"The second item in `fields_for_plotting` should be a string.\")\n"
     ]
    },
    {
     "name": "stdout",
     "output_type": "stream",
     "text": [
      "Using Kaggle's public dataset BigQuery integration.\n",
      "Setup Complete\n"
     ]
    }
   ],
   "source": [
    "# Set up feedack system\n",
    "from learntools.core import binder\n",
    "binder.bind(globals())\n",
    "from learntools.sql.ex1 import *\n",
    "print(\"Setup Complete\")"
   ]
  },
  {
   "cell_type": "markdown",
   "id": "b652b0bb",
   "metadata": {
    "papermill": {
     "duration": 0.002532,
     "end_time": "2025-01-20T10:36:41.841792",
     "exception": false,
     "start_time": "2025-01-20T10:36:41.839260",
     "status": "completed"
    },
    "tags": []
   },
   "source": [
    "Use the next code cell to fetch the dataset."
   ]
  },
  {
   "cell_type": "code",
   "execution_count": 2,
   "id": "cfd9797a",
   "metadata": {
    "execution": {
     "iopub.execute_input": "2025-01-20T10:36:41.848541Z",
     "iopub.status.busy": "2025-01-20T10:36:41.847972Z",
     "iopub.status.idle": "2025-01-20T10:36:42.145073Z",
     "shell.execute_reply": "2025-01-20T10:36:42.140979Z"
    },
    "papermill": {
     "duration": 0.303685,
     "end_time": "2025-01-20T10:36:42.148285",
     "exception": false,
     "start_time": "2025-01-20T10:36:41.844600",
     "status": "completed"
    },
    "tags": []
   },
   "outputs": [
    {
     "name": "stdout",
     "output_type": "stream",
     "text": [
      "Using Kaggle's public dataset BigQuery integration.\n"
     ]
    }
   ],
   "source": [
    "from google.cloud import bigquery\n",
    "\n",
    "# Create a \"Client\" object\n",
    "client = bigquery.Client()\n",
    "\n",
    "# Construct a reference to the \"chicago_crime\" dataset\n",
    "dataset_ref = client.dataset(\"chicago_crime\", project=\"bigquery-public-data\")\n",
    "\n",
    "# API request - fetch the dataset\n",
    "dataset = client.get_dataset(dataset_ref)"
   ]
  },
  {
   "cell_type": "markdown",
   "id": "6116613f",
   "metadata": {
    "papermill": {
     "duration": 0.005228,
     "end_time": "2025-01-20T10:36:42.159591",
     "exception": false,
     "start_time": "2025-01-20T10:36:42.154363",
     "status": "completed"
    },
    "tags": []
   },
   "source": [
    "# Exercises\n",
    "\n",
    "### 1) Count tables in the dataset\n",
    "\n",
    "How many tables are in the Chicago Crime dataset?"
   ]
  },
  {
   "cell_type": "code",
   "execution_count": 3,
   "id": "d96177d0",
   "metadata": {
    "execution": {
     "iopub.execute_input": "2025-01-20T10:36:42.172395Z",
     "iopub.status.busy": "2025-01-20T10:36:42.172110Z",
     "iopub.status.idle": "2025-01-20T10:36:42.378572Z",
     "shell.execute_reply": "2025-01-20T10:36:42.377409Z"
    },
    "papermill": {
     "duration": 0.215072,
     "end_time": "2025-01-20T10:36:42.380623",
     "exception": false,
     "start_time": "2025-01-20T10:36:42.165551",
     "status": "completed"
    },
    "tags": []
   },
   "outputs": [
    {
     "data": {
      "application/javascript": [
       "parent.postMessage({\"jupyterEvent\": \"custom.exercise_interaction\", \"data\": {\"outcomeType\": 1, \"valueTowardsCompletion\": 0.3333333333333333, \"interactionType\": 1, \"questionType\": 1, \"questionId\": \"1_CountTables\", \"learnToolsVersion\": \"0.3.4\", \"failureMessage\": \"\", \"exceptionClass\": \"\", \"trace\": \"\"}}, \"*\")"
      ],
      "text/plain": [
       "<IPython.core.display.Javascript object>"
      ]
     },
     "metadata": {},
     "output_type": "display_data"
    },
    {
     "data": {
      "text/markdown": [
       "<span style=\"color:#33cc33\">Correct</span>"
      ],
      "text/plain": [
       "Correct"
      ]
     },
     "metadata": {},
     "output_type": "display_data"
    }
   ],
   "source": [
    "tables = list(client.list_tables(dataset))\n",
    "num_tables = len(tables)\n",
    "\n",
    "q_1.check()"
   ]
  },
  {
   "cell_type": "markdown",
   "id": "22ec11d7",
   "metadata": {
    "papermill": {
     "duration": 0.004484,
     "end_time": "2025-01-20T10:36:42.390339",
     "exception": false,
     "start_time": "2025-01-20T10:36:42.385855",
     "status": "completed"
    },
    "tags": []
   },
   "source": [
    "For a hint or the solution, uncomment the appropriate line below."
   ]
  },
  {
   "cell_type": "markdown",
   "id": "fb207021",
   "metadata": {
    "papermill": {
     "duration": 0.002737,
     "end_time": "2025-01-20T10:36:42.396097",
     "exception": false,
     "start_time": "2025-01-20T10:36:42.393360",
     "status": "completed"
    },
    "tags": []
   },
   "source": [
    "### 2) Explore the table schema\n",
    "\n",
    "How many columns in the `crime` table have `TIMESTAMP` data?"
   ]
  },
  {
   "cell_type": "code",
   "execution_count": 4,
   "id": "81ba5677",
   "metadata": {
    "execution": {
     "iopub.execute_input": "2025-01-20T10:36:42.403474Z",
     "iopub.status.busy": "2025-01-20T10:36:42.402994Z",
     "iopub.status.idle": "2025-01-20T10:36:42.654875Z",
     "shell.execute_reply": "2025-01-20T10:36:42.653878Z"
    },
    "papermill": {
     "duration": 0.257291,
     "end_time": "2025-01-20T10:36:42.656385",
     "exception": false,
     "start_time": "2025-01-20T10:36:42.399094",
     "status": "completed"
    },
    "tags": []
   },
   "outputs": [
    {
     "data": {
      "application/javascript": [
       "parent.postMessage({\"jupyterEvent\": \"custom.exercise_interaction\", \"data\": {\"outcomeType\": 1, \"valueTowardsCompletion\": 0.3333333333333333, \"interactionType\": 1, \"questionType\": 1, \"questionId\": \"2_CountTimestampFields\", \"learnToolsVersion\": \"0.3.4\", \"failureMessage\": \"\", \"exceptionClass\": \"\", \"trace\": \"\"}}, \"*\")"
      ],
      "text/plain": [
       "<IPython.core.display.Javascript object>"
      ]
     },
     "metadata": {},
     "output_type": "display_data"
    },
    {
     "data": {
      "text/markdown": [
       "<span style=\"color:#33cc33\">Correct</span>"
      ],
      "text/plain": [
       "Correct"
      ]
     },
     "metadata": {},
     "output_type": "display_data"
    }
   ],
   "source": [
    "table_ref = dataset_ref.table(\"crime\")\n",
    "table = client.get_table(table_ref)\n",
    "table.schema\n",
    "\n",
    "num_timestamp_fields = 2;\n",
    "\n",
    "q_2.check()"
   ]
  },
  {
   "cell_type": "markdown",
   "id": "137d5073",
   "metadata": {
    "papermill": {
     "duration": 0.002916,
     "end_time": "2025-01-20T10:36:42.662670",
     "exception": false,
     "start_time": "2025-01-20T10:36:42.659754",
     "status": "completed"
    },
    "tags": []
   },
   "source": [
    "For a hint or the solution, uncomment the appropriate line below."
   ]
  },
  {
   "cell_type": "markdown",
   "id": "58a63cc3",
   "metadata": {
    "papermill": {
     "duration": 0.002841,
     "end_time": "2025-01-20T10:36:42.668726",
     "exception": false,
     "start_time": "2025-01-20T10:36:42.665885",
     "status": "completed"
    },
    "tags": []
   },
   "source": [
    "### 3) Create a crime map\n",
    "\n",
    "If you wanted to create a map with a dot at the location of each crime, what are the names of the two fields you likely need to pull out of the `crime` table to plot the crimes on a map?"
   ]
  },
  {
   "cell_type": "code",
   "execution_count": 5,
   "id": "6bb7c587",
   "metadata": {
    "execution": {
     "iopub.execute_input": "2025-01-20T10:36:42.676303Z",
     "iopub.status.busy": "2025-01-20T10:36:42.675849Z",
     "iopub.status.idle": "2025-01-20T10:36:42.680122Z",
     "shell.execute_reply": "2025-01-20T10:36:42.679268Z"
    },
    "papermill": {
     "duration": 0.009588,
     "end_time": "2025-01-20T10:36:42.681359",
     "exception": false,
     "start_time": "2025-01-20T10:36:42.671771",
     "status": "completed"
    },
    "tags": []
   },
   "outputs": [],
   "source": [
    "# Write the code here to explore the data so you can find the answer"
   ]
  },
  {
   "cell_type": "code",
   "execution_count": 6,
   "id": "895b8442",
   "metadata": {
    "execution": {
     "iopub.execute_input": "2025-01-20T10:36:42.688697Z",
     "iopub.status.busy": "2025-01-20T10:36:42.688405Z",
     "iopub.status.idle": "2025-01-20T10:36:42.695467Z",
     "shell.execute_reply": "2025-01-20T10:36:42.694571Z"
    },
    "papermill": {
     "duration": 0.012662,
     "end_time": "2025-01-20T10:36:42.697342",
     "exception": false,
     "start_time": "2025-01-20T10:36:42.684680",
     "status": "completed"
    },
    "tags": []
   },
   "outputs": [
    {
     "data": {
      "application/javascript": [
       "parent.postMessage({\"jupyterEvent\": \"custom.exercise_interaction\", \"data\": {\"outcomeType\": 1, \"valueTowardsCompletion\": 0.3333333333333333, \"interactionType\": 1, \"questionType\": 2, \"questionId\": \"3_IdentifyFieldsForPlotting\", \"learnToolsVersion\": \"0.3.4\", \"failureMessage\": \"\", \"exceptionClass\": \"\", \"trace\": \"\"}}, \"*\")"
      ],
      "text/plain": [
       "<IPython.core.display.Javascript object>"
      ]
     },
     "metadata": {},
     "output_type": "display_data"
    },
    {
     "data": {
      "text/markdown": [
       "<span style=\"color:#33cc33\">Correct</span>"
      ],
      "text/plain": [
       "Correct"
      ]
     },
     "metadata": {},
     "output_type": "display_data"
    }
   ],
   "source": [
    "fields_for_plotting = ['latitude', 'longitude']\n",
    "table.schema\n",
    "\n",
    "q_3.check()"
   ]
  }
 ],
 "metadata": {
  "kaggle": {
   "accelerator": "none",
   "dataSources": [
    {
     "datasetId": 22090,
     "sourceId": 28376,
     "sourceType": "datasetVersion"
    },
    {
     "datasetId": 6057,
     "sourceId": 285982,
     "sourceType": "datasetVersion"
    }
   ],
   "isGpuEnabled": false,
   "isInternetEnabled": false,
   "language": "python",
   "sourceType": "notebook"
  },
  "kernelspec": {
   "display_name": "Python 3",
   "language": "python",
   "name": "python3"
  },
  "language_info": {
   "codemirror_mode": {
    "name": "ipython",
    "version": 3
   },
   "file_extension": ".py",
   "mimetype": "text/x-python",
   "name": "python",
   "nbconvert_exporter": "python",
   "pygments_lexer": "ipython3",
   "version": "3.10.12"
  },
  "papermill": {
   "default_parameters": {},
   "duration": 20.50045,
   "end_time": "2025-01-20T10:36:43.824943",
   "environment_variables": {},
   "exception": null,
   "input_path": "__notebook__.ipynb",
   "output_path": "__notebook__.ipynb",
   "parameters": {},
   "start_time": "2025-01-20T10:36:23.324493",
   "version": "2.6.0"
  }
 },
 "nbformat": 4,
 "nbformat_minor": 5
}
