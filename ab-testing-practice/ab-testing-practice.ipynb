{
 "cells": [
  {
   "cell_type": "code",
   "execution_count": 1,
   "id": "1f9ab542",
   "metadata": {
    "_cell_guid": "b1076dfc-b9ad-4769-8c92-a6c4dae69d19",
    "_uuid": "8f2839f25d086af736a60e9eeb907d3b93b6e0e5",
    "execution": {
     "iopub.execute_input": "2024-12-03T19:45:32.284683Z",
     "iopub.status.busy": "2024-12-03T19:45:32.284271Z",
     "iopub.status.idle": "2024-12-03T19:45:35.057829Z",
     "shell.execute_reply": "2024-12-03T19:45:35.056825Z"
    },
    "papermill": {
     "duration": 2.781467,
     "end_time": "2024-12-03T19:45:35.060315",
     "exception": false,
     "start_time": "2024-12-03T19:45:32.278848",
     "status": "completed"
    },
    "tags": []
   },
   "outputs": [],
   "source": [
    "import numpy as np\n",
    "import pandas as pd\n",
    "import matplotlib.pyplot as plt\n",
    "import seaborn as sns"
   ]
  },
  {
   "cell_type": "code",
   "execution_count": 2,
   "id": "9419f9ba",
   "metadata": {
    "execution": {
     "iopub.execute_input": "2024-12-03T19:45:35.069759Z",
     "iopub.status.busy": "2024-12-03T19:45:35.069210Z",
     "iopub.status.idle": "2024-12-03T19:45:35.116261Z",
     "shell.execute_reply": "2024-12-03T19:45:35.115022Z"
    },
    "papermill": {
     "duration": 0.05447,
     "end_time": "2024-12-03T19:45:35.118825",
     "exception": false,
     "start_time": "2024-12-03T19:45:35.064355",
     "status": "completed"
    },
    "tags": []
   },
   "outputs": [
    {
     "data": {
      "text/html": [
       "<div>\n",
       "<style scoped>\n",
       "    .dataframe tbody tr th:only-of-type {\n",
       "        vertical-align: middle;\n",
       "    }\n",
       "\n",
       "    .dataframe tbody tr th {\n",
       "        vertical-align: top;\n",
       "    }\n",
       "\n",
       "    .dataframe thead th {\n",
       "        text-align: right;\n",
       "    }\n",
       "</style>\n",
       "<table border=\"1\" class=\"dataframe\">\n",
       "  <thead>\n",
       "    <tr style=\"text-align: right;\">\n",
       "      <th></th>\n",
       "      <th>User ID</th>\n",
       "      <th>Group</th>\n",
       "      <th>Page Views</th>\n",
       "      <th>Time Spent</th>\n",
       "      <th>Conversion</th>\n",
       "      <th>Device</th>\n",
       "      <th>Location</th>\n",
       "    </tr>\n",
       "  </thead>\n",
       "  <tbody>\n",
       "    <tr>\n",
       "      <th>0</th>\n",
       "      <td>14292</td>\n",
       "      <td>B</td>\n",
       "      <td>3</td>\n",
       "      <td>424</td>\n",
       "      <td>No</td>\n",
       "      <td>Mobile</td>\n",
       "      <td>Northern Ireland</td>\n",
       "    </tr>\n",
       "    <tr>\n",
       "      <th>1</th>\n",
       "      <td>11682</td>\n",
       "      <td>A</td>\n",
       "      <td>9</td>\n",
       "      <td>342</td>\n",
       "      <td>No</td>\n",
       "      <td>Mobile</td>\n",
       "      <td>Scotland</td>\n",
       "    </tr>\n",
       "    <tr>\n",
       "      <th>2</th>\n",
       "      <td>19825</td>\n",
       "      <td>A</td>\n",
       "      <td>2</td>\n",
       "      <td>396</td>\n",
       "      <td>No</td>\n",
       "      <td>Desktop</td>\n",
       "      <td>Northern Ireland</td>\n",
       "    </tr>\n",
       "    <tr>\n",
       "      <th>3</th>\n",
       "      <td>16080</td>\n",
       "      <td>B</td>\n",
       "      <td>4</td>\n",
       "      <td>318</td>\n",
       "      <td>No</td>\n",
       "      <td>Desktop</td>\n",
       "      <td>Wales</td>\n",
       "    </tr>\n",
       "    <tr>\n",
       "      <th>4</th>\n",
       "      <td>18851</td>\n",
       "      <td>A</td>\n",
       "      <td>1</td>\n",
       "      <td>338</td>\n",
       "      <td>Yes</td>\n",
       "      <td>Desktop</td>\n",
       "      <td>Scotland</td>\n",
       "    </tr>\n",
       "  </tbody>\n",
       "</table>\n",
       "</div>"
      ],
      "text/plain": [
       "   User ID Group  Page Views  Time Spent Conversion   Device          Location\n",
       "0    14292     B           3         424         No   Mobile  Northern Ireland\n",
       "1    11682     A           9         342         No   Mobile          Scotland\n",
       "2    19825     A           2         396         No  Desktop  Northern Ireland\n",
       "3    16080     B           4         318         No  Desktop             Wales\n",
       "4    18851     A           1         338        Yes  Desktop          Scotland"
      ]
     },
     "execution_count": 2,
     "metadata": {},
     "output_type": "execute_result"
    }
   ],
   "source": [
    "df = pd.read_csv('/kaggle/input/ab-testing-practice/ab_testing.csv')\n",
    "df.head()"
   ]
  },
  {
   "cell_type": "code",
   "execution_count": 3,
   "id": "86aead98",
   "metadata": {
    "execution": {
     "iopub.execute_input": "2024-12-03T19:45:35.128652Z",
     "iopub.status.busy": "2024-12-03T19:45:35.128241Z",
     "iopub.status.idle": "2024-12-03T19:45:35.136727Z",
     "shell.execute_reply": "2024-12-03T19:45:35.135256Z"
    },
    "papermill": {
     "duration": 0.016571,
     "end_time": "2024-12-03T19:45:35.139099",
     "exception": false,
     "start_time": "2024-12-03T19:45:35.122528",
     "status": "completed"
    },
    "tags": []
   },
   "outputs": [
    {
     "data": {
      "text/plain": [
       "(5000, 7)"
      ]
     },
     "execution_count": 3,
     "metadata": {},
     "output_type": "execute_result"
    }
   ],
   "source": [
    "df.shape"
   ]
  },
  {
   "cell_type": "code",
   "execution_count": 4,
   "id": "27cd5062",
   "metadata": {
    "execution": {
     "iopub.execute_input": "2024-12-03T19:45:35.148454Z",
     "iopub.status.busy": "2024-12-03T19:45:35.148019Z",
     "iopub.status.idle": "2024-12-03T19:45:35.160812Z",
     "shell.execute_reply": "2024-12-03T19:45:35.159374Z"
    },
    "papermill": {
     "duration": 0.020395,
     "end_time": "2024-12-03T19:45:35.163353",
     "exception": false,
     "start_time": "2024-12-03T19:45:35.142958",
     "status": "completed"
    },
    "tags": []
   },
   "outputs": [
    {
     "data": {
      "text/plain": [
       "User ID       0\n",
       "Group         0\n",
       "Page Views    0\n",
       "Time Spent    0\n",
       "Conversion    0\n",
       "Device        0\n",
       "Location      0\n",
       "dtype: int64"
      ]
     },
     "execution_count": 4,
     "metadata": {},
     "output_type": "execute_result"
    }
   ],
   "source": [
    "df.isna().sum()"
   ]
  },
  {
   "cell_type": "code",
   "execution_count": 5,
   "id": "3a91d1d6",
   "metadata": {
    "execution": {
     "iopub.execute_input": "2024-12-03T19:45:35.172833Z",
     "iopub.status.busy": "2024-12-03T19:45:35.172413Z",
     "iopub.status.idle": "2024-12-03T19:45:35.198249Z",
     "shell.execute_reply": "2024-12-03T19:45:35.196884Z"
    },
    "papermill": {
     "duration": 0.033263,
     "end_time": "2024-12-03T19:45:35.200571",
     "exception": false,
     "start_time": "2024-12-03T19:45:35.167308",
     "status": "completed"
    },
    "tags": []
   },
   "outputs": [
    {
     "name": "stdout",
     "output_type": "stream",
     "text": [
      "<class 'pandas.core.frame.DataFrame'>\n",
      "RangeIndex: 5000 entries, 0 to 4999\n",
      "Data columns (total 7 columns):\n",
      " #   Column      Non-Null Count  Dtype \n",
      "---  ------      --------------  ----- \n",
      " 0   User ID     5000 non-null   int64 \n",
      " 1   Group       5000 non-null   object\n",
      " 2   Page Views  5000 non-null   int64 \n",
      " 3   Time Spent  5000 non-null   int64 \n",
      " 4   Conversion  5000 non-null   object\n",
      " 5   Device      5000 non-null   object\n",
      " 6   Location    5000 non-null   object\n",
      "dtypes: int64(3), object(4)\n",
      "memory usage: 273.6+ KB\n"
     ]
    }
   ],
   "source": [
    "df.info()"
   ]
  },
  {
   "cell_type": "code",
   "execution_count": 6,
   "id": "e67d2d31",
   "metadata": {
    "execution": {
     "iopub.execute_input": "2024-12-03T19:45:35.211001Z",
     "iopub.status.busy": "2024-12-03T19:45:35.210622Z",
     "iopub.status.idle": "2024-12-03T19:45:35.236953Z",
     "shell.execute_reply": "2024-12-03T19:45:35.235493Z"
    },
    "papermill": {
     "duration": 0.034081,
     "end_time": "2024-12-03T19:45:35.239421",
     "exception": false,
     "start_time": "2024-12-03T19:45:35.205340",
     "status": "completed"
    },
    "tags": []
   },
   "outputs": [
    {
     "data": {
      "text/html": [
       "<div>\n",
       "<style scoped>\n",
       "    .dataframe tbody tr th:only-of-type {\n",
       "        vertical-align: middle;\n",
       "    }\n",
       "\n",
       "    .dataframe tbody tr th {\n",
       "        vertical-align: top;\n",
       "    }\n",
       "\n",
       "    .dataframe thead th {\n",
       "        text-align: right;\n",
       "    }\n",
       "</style>\n",
       "<table border=\"1\" class=\"dataframe\">\n",
       "  <thead>\n",
       "    <tr style=\"text-align: right;\">\n",
       "      <th></th>\n",
       "      <th>User ID</th>\n",
       "      <th>Page Views</th>\n",
       "      <th>Time Spent</th>\n",
       "    </tr>\n",
       "  </thead>\n",
       "  <tbody>\n",
       "    <tr>\n",
       "      <th>count</th>\n",
       "      <td>5000.000000</td>\n",
       "      <td>5000.000000</td>\n",
       "      <td>5000.000000</td>\n",
       "    </tr>\n",
       "    <tr>\n",
       "      <th>mean</th>\n",
       "      <td>14925.159000</td>\n",
       "      <td>7.537600</td>\n",
       "      <td>242.512600</td>\n",
       "    </tr>\n",
       "    <tr>\n",
       "      <th>std</th>\n",
       "      <td>2869.153773</td>\n",
       "      <td>4.022465</td>\n",
       "      <td>118.254153</td>\n",
       "    </tr>\n",
       "    <tr>\n",
       "      <th>min</th>\n",
       "      <td>10001.000000</td>\n",
       "      <td>1.000000</td>\n",
       "      <td>40.000000</td>\n",
       "    </tr>\n",
       "    <tr>\n",
       "      <th>25%</th>\n",
       "      <td>12456.250000</td>\n",
       "      <td>4.000000</td>\n",
       "      <td>137.000000</td>\n",
       "    </tr>\n",
       "    <tr>\n",
       "      <th>50%</th>\n",
       "      <td>14858.500000</td>\n",
       "      <td>8.000000</td>\n",
       "      <td>243.000000</td>\n",
       "    </tr>\n",
       "    <tr>\n",
       "      <th>75%</th>\n",
       "      <td>17379.750000</td>\n",
       "      <td>11.000000</td>\n",
       "      <td>346.000000</td>\n",
       "    </tr>\n",
       "    <tr>\n",
       "      <th>max</th>\n",
       "      <td>19995.000000</td>\n",
       "      <td>14.000000</td>\n",
       "      <td>449.000000</td>\n",
       "    </tr>\n",
       "  </tbody>\n",
       "</table>\n",
       "</div>"
      ],
      "text/plain": [
       "            User ID   Page Views   Time Spent\n",
       "count   5000.000000  5000.000000  5000.000000\n",
       "mean   14925.159000     7.537600   242.512600\n",
       "std     2869.153773     4.022465   118.254153\n",
       "min    10001.000000     1.000000    40.000000\n",
       "25%    12456.250000     4.000000   137.000000\n",
       "50%    14858.500000     8.000000   243.000000\n",
       "75%    17379.750000    11.000000   346.000000\n",
       "max    19995.000000    14.000000   449.000000"
      ]
     },
     "execution_count": 6,
     "metadata": {},
     "output_type": "execute_result"
    }
   ],
   "source": [
    "df.describe()"
   ]
  },
  {
   "cell_type": "code",
   "execution_count": 7,
   "id": "72a36c4c",
   "metadata": {
    "execution": {
     "iopub.execute_input": "2024-12-03T19:45:35.249311Z",
     "iopub.status.busy": "2024-12-03T19:45:35.248855Z",
     "iopub.status.idle": "2024-12-03T19:45:35.256303Z",
     "shell.execute_reply": "2024-12-03T19:45:35.255094Z"
    },
    "papermill": {
     "duration": 0.014953,
     "end_time": "2024-12-03T19:45:35.258548",
     "exception": false,
     "start_time": "2024-12-03T19:45:35.243595",
     "status": "completed"
    },
    "tags": []
   },
   "outputs": [
    {
     "data": {
      "text/plain": [
       "Index(['User ID', 'Group', 'Page Views', 'Time Spent', 'Conversion', 'Device',\n",
       "       'Location'],\n",
       "      dtype='object')"
      ]
     },
     "execution_count": 7,
     "metadata": {},
     "output_type": "execute_result"
    }
   ],
   "source": [
    "df.columns"
   ]
  },
  {
   "cell_type": "code",
   "execution_count": 8,
   "id": "0cb8a0e1",
   "metadata": {
    "execution": {
     "iopub.execute_input": "2024-12-03T19:45:35.268992Z",
     "iopub.status.busy": "2024-12-03T19:45:35.268580Z",
     "iopub.status.idle": "2024-12-03T19:45:35.281670Z",
     "shell.execute_reply": "2024-12-03T19:45:35.280296Z"
    },
    "papermill": {
     "duration": 0.020643,
     "end_time": "2024-12-03T19:45:35.283821",
     "exception": false,
     "start_time": "2024-12-03T19:45:35.263178",
     "status": "completed"
    },
    "tags": []
   },
   "outputs": [
    {
     "name": "stdout",
     "output_type": "stream",
     "text": [
      "Group\n",
      "A    241.733227\n",
      "B    243.303910\n",
      "Name: Time Spent, dtype: float64\n",
      "\n",
      "Group\n",
      "A    7.581580\n",
      "B    7.492946\n",
      "Name: Page Views, dtype: float64\n"
     ]
    }
   ],
   "source": [
    "print(df.groupby(\"Group\")[\"Time Spent\"].mean())\n",
    "print()\n",
    "print(df.groupby(\"Group\")[\"Page Views\"].mean())"
   ]
  },
  {
   "cell_type": "code",
   "execution_count": 9,
   "id": "290c8eda",
   "metadata": {
    "execution": {
     "iopub.execute_input": "2024-12-03T19:45:35.295719Z",
     "iopub.status.busy": "2024-12-03T19:45:35.295341Z",
     "iopub.status.idle": "2024-12-03T19:45:35.310332Z",
     "shell.execute_reply": "2024-12-03T19:45:35.308946Z"
    },
    "papermill": {
     "duration": 0.022546,
     "end_time": "2024-12-03T19:45:35.312534",
     "exception": false,
     "start_time": "2024-12-03T19:45:35.289988",
     "status": "completed"
    },
    "tags": []
   },
   "outputs": [
    {
     "data": {
      "text/html": [
       "<div>\n",
       "<style scoped>\n",
       "    .dataframe tbody tr th:only-of-type {\n",
       "        vertical-align: middle;\n",
       "    }\n",
       "\n",
       "    .dataframe tbody tr th {\n",
       "        vertical-align: top;\n",
       "    }\n",
       "\n",
       "    .dataframe thead th {\n",
       "        text-align: right;\n",
       "    }\n",
       "</style>\n",
       "<table border=\"1\" class=\"dataframe\">\n",
       "  <thead>\n",
       "    <tr style=\"text-align: right;\">\n",
       "      <th></th>\n",
       "      <th>User ID</th>\n",
       "      <th>Group</th>\n",
       "      <th>Page Views</th>\n",
       "      <th>Time Spent</th>\n",
       "      <th>Conversion</th>\n",
       "      <th>Device</th>\n",
       "      <th>Location</th>\n",
       "    </tr>\n",
       "  </thead>\n",
       "  <tbody>\n",
       "    <tr>\n",
       "      <th>0</th>\n",
       "      <td>14292</td>\n",
       "      <td>B</td>\n",
       "      <td>3</td>\n",
       "      <td>424</td>\n",
       "      <td>False</td>\n",
       "      <td>Mobile</td>\n",
       "      <td>Northern Ireland</td>\n",
       "    </tr>\n",
       "    <tr>\n",
       "      <th>1</th>\n",
       "      <td>11682</td>\n",
       "      <td>A</td>\n",
       "      <td>9</td>\n",
       "      <td>342</td>\n",
       "      <td>False</td>\n",
       "      <td>Mobile</td>\n",
       "      <td>Scotland</td>\n",
       "    </tr>\n",
       "    <tr>\n",
       "      <th>2</th>\n",
       "      <td>19825</td>\n",
       "      <td>A</td>\n",
       "      <td>2</td>\n",
       "      <td>396</td>\n",
       "      <td>False</td>\n",
       "      <td>Desktop</td>\n",
       "      <td>Northern Ireland</td>\n",
       "    </tr>\n",
       "    <tr>\n",
       "      <th>3</th>\n",
       "      <td>16080</td>\n",
       "      <td>B</td>\n",
       "      <td>4</td>\n",
       "      <td>318</td>\n",
       "      <td>False</td>\n",
       "      <td>Desktop</td>\n",
       "      <td>Wales</td>\n",
       "    </tr>\n",
       "    <tr>\n",
       "      <th>4</th>\n",
       "      <td>18851</td>\n",
       "      <td>A</td>\n",
       "      <td>1</td>\n",
       "      <td>338</td>\n",
       "      <td>True</td>\n",
       "      <td>Desktop</td>\n",
       "      <td>Scotland</td>\n",
       "    </tr>\n",
       "  </tbody>\n",
       "</table>\n",
       "</div>"
      ],
      "text/plain": [
       "   User ID Group  Page Views  Time Spent  Conversion   Device  \\\n",
       "0    14292     B           3         424       False   Mobile   \n",
       "1    11682     A           9         342       False   Mobile   \n",
       "2    19825     A           2         396       False  Desktop   \n",
       "3    16080     B           4         318       False  Desktop   \n",
       "4    18851     A           1         338        True  Desktop   \n",
       "\n",
       "           Location  \n",
       "0  Northern Ireland  \n",
       "1          Scotland  \n",
       "2  Northern Ireland  \n",
       "3             Wales  \n",
       "4          Scotland  "
      ]
     },
     "execution_count": 9,
     "metadata": {},
     "output_type": "execute_result"
    }
   ],
   "source": [
    "df['Conversion'] = df['Conversion'].map({'Yes': True, 'No': False})\n",
    "df.head()"
   ]
  },
  {
   "cell_type": "code",
   "execution_count": 10,
   "id": "04674a5c",
   "metadata": {
    "execution": {
     "iopub.execute_input": "2024-12-03T19:45:35.324424Z",
     "iopub.status.busy": "2024-12-03T19:45:35.323545Z",
     "iopub.status.idle": "2024-12-03T19:45:35.334355Z",
     "shell.execute_reply": "2024-12-03T19:45:35.333086Z"
    },
    "papermill": {
     "duration": 0.01921,
     "end_time": "2024-12-03T19:45:35.337004",
     "exception": false,
     "start_time": "2024-12-03T19:45:35.317794",
     "status": "completed"
    },
    "tags": []
   },
   "outputs": [],
   "source": [
    "groups = df.groupby('Group')['Conversion'].sum()\n",
    "groups_name = ['Group A', 'Group B']"
   ]
  },
  {
   "cell_type": "code",
   "execution_count": 11,
   "id": "23e41023",
   "metadata": {
    "execution": {
     "iopub.execute_input": "2024-12-03T19:45:35.347865Z",
     "iopub.status.busy": "2024-12-03T19:45:35.347487Z",
     "iopub.status.idle": "2024-12-03T19:45:35.672446Z",
     "shell.execute_reply": "2024-12-03T19:45:35.671267Z"
    },
    "papermill": {
     "duration": 0.332935,
     "end_time": "2024-12-03T19:45:35.674732",
     "exception": false,
     "start_time": "2024-12-03T19:45:35.341797",
     "status": "completed"
    },
    "tags": []
   },
   "outputs": [
    {
     "data": {
      "image/png": "[encoded data removed]",
      "text/plain": [
       "<Figure size 640x480 with 1 Axes>"
      ]
     },
     "metadata": {},
     "output_type": "display_data"
    }
   ],
   "source": [
    "plt.bar(groups_name, groups, label='Conversion', alpha=.7)\n",
    "plt.plot(groups_name, groups, color='green', marker='o', markersize=7)\n",
    "plt.xlabel('Groups name')\n",
    "plt.ylabel('Number of purchases')\n",
    "plt.title('Results of convertion between Group A and Group B')\n",
    "plt.legend();"
   ]
  },
  {
   "cell_type": "code",
   "execution_count": 12,
   "id": "bc4064a4",
   "metadata": {
    "execution": {
     "iopub.execute_input": "2024-12-03T19:45:35.686458Z",
     "iopub.status.busy": "2024-12-03T19:45:35.686025Z",
     "iopub.status.idle": "2024-12-03T19:45:35.693220Z",
     "shell.execute_reply": "2024-12-03T19:45:35.692250Z"
    },
    "papermill": {
     "duration": 0.015628,
     "end_time": "2024-12-03T19:45:35.695538",
     "exception": false,
     "start_time": "2024-12-03T19:45:35.679910",
     "status": "completed"
    },
    "tags": []
   },
   "outputs": [],
   "source": [
    "groups = df.groupby('Group')['Conversion'].sum()"
   ]
  },
  {
   "cell_type": "code",
   "execution_count": 13,
   "id": "ee21769b",
   "metadata": {
    "execution": {
     "iopub.execute_input": "2024-12-03T19:45:35.706805Z",
     "iopub.status.busy": "2024-12-03T19:45:35.706435Z",
     "iopub.status.idle": "2024-12-03T19:45:35.944400Z",
     "shell.execute_reply": "2024-12-03T19:45:35.943226Z"
    },
    "papermill": {
     "duration": 0.246097,
     "end_time": "2024-12-03T19:45:35.946557",
     "exception": false,
     "start_time": "2024-12-03T19:45:35.700460",
     "status": "completed"
    },
    "tags": []
   },
   "outputs": [
    {
     "name": "stderr",
     "output_type": "stream",
     "text": [
      "/opt/conda/lib/python3.10/site-packages/seaborn/_oldcore.py:1765: FutureWarning: unique with argument that is not not a Series, Index, ExtensionArray, or np.ndarray is deprecated and will raise in a future version.\n",
      "  order = pd.unique(vector)\n",
      "/opt/conda/lib/python3.10/site-packages/seaborn/_oldcore.py:1119: FutureWarning: use_inf_as_na option is deprecated and will be removed in a future version. Convert inf values to NaN before operating instead.\n",
      "  with pd.option_context('mode.use_inf_as_na', True):\n",
      "/opt/conda/lib/python3.10/site-packages/seaborn/_oldcore.py:1119: FutureWarning: use_inf_as_na option is deprecated and will be removed in a future version. Convert inf values to NaN before operating instead.\n",
      "  with pd.option_context('mode.use_inf_as_na', True):\n"
     ]
    },
    {
     "data": {
      "image/png": "[encoded data removed]",
      "text/plain": [
       "<Figure size 640x480 with 1 Axes>"
      ]
     },
     "metadata": {},
     "output_type": "display_data"
    }
   ],
   "source": [
    "sns.barplot(x=groups_name, y=groups);\n",
    "sns.lineplot(x=groups_name, y=groups, color='green', marker='o', markersize=7);"
   ]
  }
 ],
 "metadata": {
  "kaggle": {
   "accelerator": "none",
   "dataSources": [
    {
     "datasetId": 6041099,
     "sourceId": 9846152,
     "sourceType": "datasetVersion"
    }
   ],
   "dockerImageVersionId": 30786,
   "isGpuEnabled": false,
   "isInternetEnabled": false,
   "language": "python",
   "sourceType": "notebook"
  },
  "kernelspec": {
   "display_name": "Python 3",
   "language": "python",
   "name": "python3"
  },
  "language_info": {
   "codemirror_mode": {
    "name": "ipython",
    "version": 3
   },
   "file_extension": ".py",
   "mimetype": "text/x-python",
   "name": "python",
   "nbconvert_exporter": "python",
   "pygments_lexer": "ipython3",
   "version": "3.10.14"
  },
  "papermill": {
   "default_parameters": {},
   "duration": 7.158606,
   "end_time": "2024-12-03T19:45:36.575065",
   "environment_variables": {},
   "exception": null,
   "input_path": "__notebook__.ipynb",
   "output_path": "__notebook__.ipynb",
   "parameters": {},
   "start_time": "2024-12-03T19:45:29.416459",
   "version": "2.6.0"
  }
 },
 "nbformat": 4,
 "nbformat_minor": 5
}
