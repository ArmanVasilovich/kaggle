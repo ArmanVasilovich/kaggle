{
 "cells": [
  {
   "cell_type": "markdown",
   "id": "fc08583c",
   "metadata": {
    "papermill": {
     "duration": 0.006016,
     "end_time": "2024-11-29T19:55:57.856217",
     "exception": false,
     "start_time": "2024-11-29T19:55:57.850201",
     "status": "completed"
    },
    "tags": []
   },
   "source": [
    "**This notebook is an exercise in the [Pandas](https://www.kaggle.com/learn/pandas) course.  You can reference the tutorial at [this link](https://www.kaggle.com/residentmario/renaming-and-combining).**\n",
    "\n",
    "---\n"
   ]
  },
  {
   "cell_type": "markdown",
   "id": "57556ce1",
   "metadata": {
    "papermill": {
     "duration": 0.004492,
     "end_time": "2024-11-29T19:55:57.865564",
     "exception": false,
     "start_time": "2024-11-29T19:55:57.861072",
     "status": "completed"
    },
    "tags": []
   },
   "source": [
    "# Introduction\n",
    "\n",
    "Run the following cell to load your data and some utility functions."
   ]
  },
  {
   "cell_type": "code",
   "execution_count": 1,
   "id": "78201b03",
   "metadata": {
    "execution": {
     "iopub.execute_input": "2024-11-29T19:55:57.877292Z",
     "iopub.status.busy": "2024-11-29T19:55:57.876856Z",
     "iopub.status.idle": "2024-11-29T19:55:59.073811Z",
     "shell.execute_reply": "2024-11-29T19:55:59.072338Z"
    },
    "papermill": {
     "duration": 1.207098,
     "end_time": "2024-11-29T19:55:59.076968",
     "exception": false,
     "start_time": "2024-11-29T19:55:57.869870",
     "status": "completed"
    },
    "tags": []
   },
   "outputs": [],
   "source": [
    "import pandas as pd"
   ]
  },
  {
   "cell_type": "code",
   "execution_count": 2,
   "id": "fce21fcd",
   "metadata": {
    "execution": {
     "iopub.execute_input": "2024-11-29T19:55:59.088173Z",
     "iopub.status.busy": "2024-11-29T19:55:59.087638Z",
     "iopub.status.idle": "2024-11-29T19:56:03.558032Z",
     "shell.execute_reply": "2024-11-29T19:56:03.556875Z"
    },
    "papermill": {
     "duration": 4.480121,
     "end_time": "2024-11-29T19:56:03.561510",
     "exception": false,
     "start_time": "2024-11-29T19:55:59.081389",
     "status": "completed"
    },
    "tags": []
   },
   "outputs": [
    {
     "name": "stdout",
     "output_type": "stream",
     "text": [
      "Setup complete.\n"
     ]
    }
   ],
   "source": [
    "reviews = pd.read_csv(\"../input/wine-reviews/winemag-data-130k-v2.csv\", index_col=0)\n",
    "\n",
    "from learntools.core import binder; binder.bind(globals())\n",
    "from learntools.pandas.renaming_and_combining import *\n",
    "print(\"Setup complete.\")"
   ]
  },
  {
   "cell_type": "markdown",
   "id": "4edb61d1",
   "metadata": {
    "papermill": {
     "duration": 0.004929,
     "end_time": "2024-11-29T19:56:03.571495",
     "exception": false,
     "start_time": "2024-11-29T19:56:03.566566",
     "status": "completed"
    },
    "tags": []
   },
   "source": [
    "# Exercises\n",
    "\n",
    "View the first several lines of your data by running the cell below:"
   ]
  },
  {
   "cell_type": "code",
   "execution_count": 3,
   "id": "d8317edb",
   "metadata": {
    "execution": {
     "iopub.execute_input": "2024-11-29T19:56:03.584524Z",
     "iopub.status.busy": "2024-11-29T19:56:03.584130Z",
     "iopub.status.idle": "2024-11-29T19:56:03.608821Z",
     "shell.execute_reply": "2024-11-29T19:56:03.607565Z"
    },
    "papermill": {
     "duration": 0.034801,
     "end_time": "2024-11-29T19:56:03.611370",
     "exception": false,
     "start_time": "2024-11-29T19:56:03.576569",
     "status": "completed"
    },
    "tags": []
   },
   "outputs": [
    {
     "data": {
      "text/html": [
       "<div>\n",
       "<style scoped>\n",
       "    .dataframe tbody tr th:only-of-type {\n",
       "        vertical-align: middle;\n",
       "    }\n",
       "\n",
       "    .dataframe tbody tr th {\n",
       "        vertical-align: top;\n",
       "    }\n",
       "\n",
       "    .dataframe thead th {\n",
       "        text-align: right;\n",
       "    }\n",
       "</style>\n",
       "<table border=\"1\" class=\"dataframe\">\n",
       "  <thead>\n",
       "    <tr style=\"text-align: right;\">\n",
       "      <th></th>\n",
       "      <th>country</th>\n",
       "      <th>description</th>\n",
       "      <th>designation</th>\n",
       "      <th>points</th>\n",
       "      <th>price</th>\n",
       "      <th>province</th>\n",
       "      <th>region_1</th>\n",
       "      <th>region_2</th>\n",
       "      <th>taster_name</th>\n",
       "      <th>taster_twitter_handle</th>\n",
       "      <th>title</th>\n",
       "      <th>variety</th>\n",
       "      <th>winery</th>\n",
       "    </tr>\n",
       "  </thead>\n",
       "  <tbody>\n",
       "    <tr>\n",
       "      <th>0</th>\n",
       "      <td>Italy</td>\n",
       "      <td>Aromas include tropical fruit, broom, brimston...</td>\n",
       "      <td>Vulkà Bianco</td>\n",
       "      <td>87</td>\n",
       "      <td>NaN</td>\n",
       "      <td>Sicily &amp; Sardinia</td>\n",
       "      <td>Etna</td>\n",
       "      <td>NaN</td>\n",
       "      <td>Kerin O’Keefe</td>\n",
       "      <td>@kerinokeefe</td>\n",
       "      <td>Nicosia 2013 Vulkà Bianco  (Etna)</td>\n",
       "      <td>White Blend</td>\n",
       "      <td>Nicosia</td>\n",
       "    </tr>\n",
       "    <tr>\n",
       "      <th>1</th>\n",
       "      <td>Portugal</td>\n",
       "      <td>This is ripe and fruity, a wine that is smooth...</td>\n",
       "      <td>Avidagos</td>\n",
       "      <td>87</td>\n",
       "      <td>15.0</td>\n",
       "      <td>Douro</td>\n",
       "      <td>NaN</td>\n",
       "      <td>NaN</td>\n",
       "      <td>Roger Voss</td>\n",
       "      <td>@vossroger</td>\n",
       "      <td>Quinta dos Avidagos 2011 Avidagos Red (Douro)</td>\n",
       "      <td>Portuguese Red</td>\n",
       "      <td>Quinta dos Avidagos</td>\n",
       "    </tr>\n",
       "    <tr>\n",
       "      <th>2</th>\n",
       "      <td>US</td>\n",
       "      <td>Tart and snappy, the flavors of lime flesh and...</td>\n",
       "      <td>NaN</td>\n",
       "      <td>87</td>\n",
       "      <td>14.0</td>\n",
       "      <td>Oregon</td>\n",
       "      <td>Willamette Valley</td>\n",
       "      <td>Willamette Valley</td>\n",
       "      <td>Paul Gregutt</td>\n",
       "      <td>@paulgwine</td>\n",
       "      <td>Rainstorm 2013 Pinot Gris (Willamette Valley)</td>\n",
       "      <td>Pinot Gris</td>\n",
       "      <td>Rainstorm</td>\n",
       "    </tr>\n",
       "    <tr>\n",
       "      <th>3</th>\n",
       "      <td>US</td>\n",
       "      <td>Pineapple rind, lemon pith and orange blossom ...</td>\n",
       "      <td>Reserve Late Harvest</td>\n",
       "      <td>87</td>\n",
       "      <td>13.0</td>\n",
       "      <td>Michigan</td>\n",
       "      <td>Lake Michigan Shore</td>\n",
       "      <td>NaN</td>\n",
       "      <td>Alexander Peartree</td>\n",
       "      <td>NaN</td>\n",
       "      <td>St. Julian 2013 Reserve Late Harvest Riesling ...</td>\n",
       "      <td>Riesling</td>\n",
       "      <td>St. Julian</td>\n",
       "    </tr>\n",
       "    <tr>\n",
       "      <th>4</th>\n",
       "      <td>US</td>\n",
       "      <td>Much like the regular bottling from 2012, this...</td>\n",
       "      <td>Vintner's Reserve Wild Child Block</td>\n",
       "      <td>87</td>\n",
       "      <td>65.0</td>\n",
       "      <td>Oregon</td>\n",
       "      <td>Willamette Valley</td>\n",
       "      <td>Willamette Valley</td>\n",
       "      <td>Paul Gregutt</td>\n",
       "      <td>@paulgwine</td>\n",
       "      <td>Sweet Cheeks 2012 Vintner's Reserve Wild Child...</td>\n",
       "      <td>Pinot Noir</td>\n",
       "      <td>Sweet Cheeks</td>\n",
       "    </tr>\n",
       "  </tbody>\n",
       "</table>\n",
       "</div>"
      ],
      "text/plain": [
       "    country                                        description  \\\n",
       "0     Italy  Aromas include tropical fruit, broom, brimston...   \n",
       "1  Portugal  This is ripe and fruity, a wine that is smooth...   \n",
       "2        US  Tart and snappy, the flavors of lime flesh and...   \n",
       "3        US  Pineapple rind, lemon pith and orange blossom ...   \n",
       "4        US  Much like the regular bottling from 2012, this...   \n",
       "\n",
       "                          designation  points  price           province  \\\n",
       "0                        Vulkà Bianco      87    NaN  Sicily & Sardinia   \n",
       "1                            Avidagos      87   15.0              Douro   \n",
       "2                                 NaN      87   14.0             Oregon   \n",
       "3                Reserve Late Harvest      87   13.0           Michigan   \n",
       "4  Vintner's Reserve Wild Child Block      87   65.0             Oregon   \n",
       "\n",
       "              region_1           region_2         taster_name  \\\n",
       "0                 Etna                NaN       Kerin O’Keefe   \n",
       "1                  NaN                NaN          Roger Voss   \n",
       "2    Willamette Valley  Willamette Valley        Paul Gregutt   \n",
       "3  Lake Michigan Shore                NaN  Alexander Peartree   \n",
       "4    Willamette Valley  Willamette Valley        Paul Gregutt   \n",
       "\n",
       "  taster_twitter_handle                                              title  \\\n",
       "0          @kerinokeefe                  Nicosia 2013 Vulkà Bianco  (Etna)   \n",
       "1            @vossroger      Quinta dos Avidagos 2011 Avidagos Red (Douro)   \n",
       "2           @paulgwine       Rainstorm 2013 Pinot Gris (Willamette Valley)   \n",
       "3                   NaN  St. Julian 2013 Reserve Late Harvest Riesling ...   \n",
       "4           @paulgwine   Sweet Cheeks 2012 Vintner's Reserve Wild Child...   \n",
       "\n",
       "          variety               winery  \n",
       "0     White Blend              Nicosia  \n",
       "1  Portuguese Red  Quinta dos Avidagos  \n",
       "2      Pinot Gris            Rainstorm  \n",
       "3        Riesling           St. Julian  \n",
       "4      Pinot Noir         Sweet Cheeks  "
      ]
     },
     "execution_count": 3,
     "metadata": {},
     "output_type": "execute_result"
    }
   ],
   "source": [
    "reviews.head()"
   ]
  },
  {
   "cell_type": "markdown",
   "id": "6556808b",
   "metadata": {
    "papermill": {
     "duration": 0.004432,
     "end_time": "2024-11-29T19:56:03.622186",
     "exception": false,
     "start_time": "2024-11-29T19:56:03.617754",
     "status": "completed"
    },
    "tags": []
   },
   "source": [
    "## 1.\n",
    "`region_1` and `region_2` are pretty uninformative names for locale columns in the dataset. Create a copy of `reviews` with these columns renamed to `region` and `locale`, respectively."
   ]
  },
  {
   "cell_type": "code",
   "execution_count": 4,
   "id": "2b633f6f",
   "metadata": {
    "execution": {
     "iopub.execute_input": "2024-11-29T19:56:03.634758Z",
     "iopub.status.busy": "2024-11-29T19:56:03.634345Z",
     "iopub.status.idle": "2024-11-29T19:56:03.656692Z",
     "shell.execute_reply": "2024-11-29T19:56:03.655581Z"
    },
    "papermill": {
     "duration": 0.031886,
     "end_time": "2024-11-29T19:56:03.659244",
     "exception": false,
     "start_time": "2024-11-29T19:56:03.627358",
     "status": "completed"
    },
    "tags": []
   },
   "outputs": [
    {
     "data": {
      "application/javascript": [
       "parent.postMessage({\"jupyterEvent\": \"custom.exercise_interaction\", \"data\": {\"outcomeType\": 1, \"valueTowardsCompletion\": 0.25, \"interactionType\": 1, \"questionType\": 1, \"questionId\": \"1_RenameCols\", \"learnToolsVersion\": \"0.3.4\", \"failureMessage\": \"\", \"exceptionClass\": \"\", \"trace\": \"\"}}, \"*\")"
      ],
      "text/plain": [
       "<IPython.core.display.Javascript object>"
      ]
     },
     "metadata": {},
     "output_type": "display_data"
    },
    {
     "data": {
      "text/markdown": [
       "<span style=\"color:#33cc33\">Correct</span>"
      ],
      "text/plain": [
       "Correct"
      ]
     },
     "metadata": {},
     "output_type": "display_data"
    }
   ],
   "source": [
    "renamed = reviews.rename(columns={\n",
    "    'region_1': 'region',\n",
    "    'region_2': 'locale'\n",
    "})\n",
    "q1.check()"
   ]
  },
  {
   "cell_type": "markdown",
   "id": "cfdd2af3",
   "metadata": {
    "papermill": {
     "duration": 0.004838,
     "end_time": "2024-11-29T19:56:03.669239",
     "exception": false,
     "start_time": "2024-11-29T19:56:03.664401",
     "status": "completed"
    },
    "tags": []
   },
   "source": [
    "## 2.\n",
    "Set the index name in the dataset to `wines`."
   ]
  },
  {
   "cell_type": "code",
   "execution_count": 5,
   "id": "d9fd67da",
   "metadata": {
    "execution": {
     "iopub.execute_input": "2024-11-29T19:56:03.681338Z",
     "iopub.status.busy": "2024-11-29T19:56:03.680890Z",
     "iopub.status.idle": "2024-11-29T19:56:03.704186Z",
     "shell.execute_reply": "2024-11-29T19:56:03.702968Z"
    },
    "papermill": {
     "duration": 0.032819,
     "end_time": "2024-11-29T19:56:03.707298",
     "exception": false,
     "start_time": "2024-11-29T19:56:03.674479",
     "status": "completed"
    },
    "tags": []
   },
   "outputs": [
    {
     "data": {
      "application/javascript": [
       "parent.postMessage({\"jupyterEvent\": \"custom.exercise_interaction\", \"data\": {\"outcomeType\": 1, \"valueTowardsCompletion\": 0.25, \"interactionType\": 1, \"questionType\": 1, \"questionId\": \"2_RenameIndex\", \"learnToolsVersion\": \"0.3.4\", \"failureMessage\": \"\", \"exceptionClass\": \"\", \"trace\": \"\"}}, \"*\")"
      ],
      "text/plain": [
       "<IPython.core.display.Javascript object>"
      ]
     },
     "metadata": {},
     "output_type": "display_data"
    },
    {
     "data": {
      "text/markdown": [
       "<span style=\"color:#33cc33\">Correct</span>"
      ],
      "text/plain": [
       "Correct"
      ]
     },
     "metadata": {},
     "output_type": "display_data"
    }
   ],
   "source": [
    "reindexed = reviews.rename_axis(index={\n",
    "    0: 'wines'\n",
    "})\n",
    "q2.check()"
   ]
  },
  {
   "cell_type": "markdown",
   "id": "f74e127f",
   "metadata": {
    "papermill": {
     "duration": 0.004952,
     "end_time": "2024-11-29T19:56:03.717944",
     "exception": false,
     "start_time": "2024-11-29T19:56:03.712992",
     "status": "completed"
    },
    "tags": []
   },
   "source": [
    "## 3.\n",
    "The [Things on Reddit](https://www.kaggle.com/residentmario/things-on-reddit/data) dataset includes product links from a selection of top-ranked forums (\"subreddits\") on reddit.com. Run the cell below to load a dataframe of products mentioned on the */r/gaming* subreddit and another dataframe for products mentioned on the *r//movies* subreddit."
   ]
  },
  {
   "cell_type": "code",
   "execution_count": 6,
   "id": "2bb37aea",
   "metadata": {
    "execution": {
     "iopub.execute_input": "2024-11-29T19:56:03.729686Z",
     "iopub.status.busy": "2024-11-29T19:56:03.729280Z",
     "iopub.status.idle": "2024-11-29T19:56:03.745858Z",
     "shell.execute_reply": "2024-11-29T19:56:03.744286Z"
    },
    "papermill": {
     "duration": 0.025898,
     "end_time": "2024-11-29T19:56:03.748906",
     "exception": false,
     "start_time": "2024-11-29T19:56:03.723008",
     "status": "completed"
    },
    "tags": []
   },
   "outputs": [
    {
     "name": "stdout",
     "output_type": "stream",
     "text": [
      "complete\n"
     ]
    }
   ],
   "source": [
    "gaming_products = pd.read_csv(\"../input/things-on-reddit/top-things/top-things/reddits/g/gaming.csv\")\n",
    "gaming_products['subreddit'] = \"r/gaming\"\n",
    "movie_products = pd.read_csv(\"../input/things-on-reddit/top-things/top-things/reddits/m/movies.csv\")\n",
    "movie_products['subreddit'] = \"r/movies\"\n",
    "print('complete')"
   ]
  },
  {
   "cell_type": "markdown",
   "id": "93b24190",
   "metadata": {
    "papermill": {
     "duration": 0.005003,
     "end_time": "2024-11-29T19:56:03.759766",
     "exception": false,
     "start_time": "2024-11-29T19:56:03.754763",
     "status": "completed"
    },
    "tags": []
   },
   "source": [
    "Create a `DataFrame` of products mentioned on *either* subreddit."
   ]
  },
  {
   "cell_type": "code",
   "execution_count": 7,
   "id": "5a0d1835",
   "metadata": {
    "execution": {
     "iopub.execute_input": "2024-11-29T19:56:03.772281Z",
     "iopub.status.busy": "2024-11-29T19:56:03.771922Z",
     "iopub.status.idle": "2024-11-29T19:56:03.785900Z",
     "shell.execute_reply": "2024-11-29T19:56:03.784740Z"
    },
    "papermill": {
     "duration": 0.023201,
     "end_time": "2024-11-29T19:56:03.788204",
     "exception": false,
     "start_time": "2024-11-29T19:56:03.765003",
     "status": "completed"
    },
    "tags": []
   },
   "outputs": [
    {
     "data": {
      "application/javascript": [
       "parent.postMessage({\"jupyterEvent\": \"custom.exercise_interaction\", \"data\": {\"outcomeType\": 1, \"valueTowardsCompletion\": 0.25, \"interactionType\": 1, \"questionType\": 2, \"questionId\": \"3_ConcatReddit\", \"learnToolsVersion\": \"0.3.4\", \"failureMessage\": \"\", \"exceptionClass\": \"\", \"trace\": \"\"}}, \"*\")"
      ],
      "text/plain": [
       "<IPython.core.display.Javascript object>"
      ]
     },
     "metadata": {},
     "output_type": "display_data"
    },
    {
     "data": {
      "text/markdown": [
       "<span style=\"color:#33cc33\">Correct</span>"
      ],
      "text/plain": [
       "Correct"
      ]
     },
     "metadata": {},
     "output_type": "display_data"
    }
   ],
   "source": [
    "combined_products = pd.DataFrame(\n",
    "    data = pd.concat([gaming_products, movie_products])\n",
    ")\n",
    "q3.check()"
   ]
  },
  {
   "cell_type": "markdown",
   "id": "ef1d194e",
   "metadata": {
    "papermill": {
     "duration": 0.004862,
     "end_time": "2024-11-29T19:56:03.798449",
     "exception": false,
     "start_time": "2024-11-29T19:56:03.793587",
     "status": "completed"
    },
    "tags": []
   },
   "source": [
    "## 4.\n",
    "The [Powerlifting Database](https://www.kaggle.com/open-powerlifting/powerlifting-database) dataset on Kaggle includes one CSV table for powerlifting meets and a separate one for powerlifting competitors. Run the cell below to load these datasets into dataframes:"
   ]
  },
  {
   "cell_type": "code",
   "execution_count": 8,
   "id": "0f47ea24",
   "metadata": {
    "execution": {
     "iopub.execute_input": "2024-11-29T19:56:03.810927Z",
     "iopub.status.busy": "2024-11-29T19:56:03.810506Z",
     "iopub.status.idle": "2024-11-29T19:56:04.801030Z",
     "shell.execute_reply": "2024-11-29T19:56:04.799698Z"
    },
    "papermill": {
     "duration": 0.99968,
     "end_time": "2024-11-29T19:56:04.803442",
     "exception": false,
     "start_time": "2024-11-29T19:56:03.803762",
     "status": "completed"
    },
    "tags": []
   },
   "outputs": [
    {
     "name": "stdout",
     "output_type": "stream",
     "text": [
      "complete\n"
     ]
    }
   ],
   "source": [
    "powerlifting_meets = pd.read_csv(\"../input/powerlifting-database/meets.csv\")\n",
    "powerlifting_competitors = pd.read_csv(\"../input/powerlifting-database/openpowerlifting.csv\")\n",
    "print('complete')"
   ]
  },
  {
   "cell_type": "markdown",
   "id": "443d73ee",
   "metadata": {
    "papermill": {
     "duration": 0.006204,
     "end_time": "2024-11-29T19:56:04.815112",
     "exception": false,
     "start_time": "2024-11-29T19:56:04.808908",
     "status": "completed"
    },
    "tags": []
   },
   "source": [
    "Both tables include references to a `MeetID`, a unique key for each meet (competition) included in the database. Using this, generate a dataset combining the two tables into one."
   ]
  },
  {
   "cell_type": "code",
   "execution_count": 9,
   "id": "0f66bdb1",
   "metadata": {
    "execution": {
     "iopub.execute_input": "2024-11-29T19:56:04.833998Z",
     "iopub.status.busy": "2024-11-29T19:56:04.833614Z",
     "iopub.status.idle": "2024-11-29T19:56:05.703969Z",
     "shell.execute_reply": "2024-11-29T19:56:05.702788Z"
    },
    "papermill": {
     "duration": 0.883449,
     "end_time": "2024-11-29T19:56:05.707243",
     "exception": false,
     "start_time": "2024-11-29T19:56:04.823794",
     "status": "completed"
    },
    "tags": []
   },
   "outputs": [
    {
     "data": {
      "application/javascript": [
       "parent.postMessage({\"jupyterEvent\": \"custom.exercise_interaction\", \"data\": {\"outcomeType\": 1, \"valueTowardsCompletion\": 0.25, \"interactionType\": 1, \"questionType\": 2, \"questionId\": \"4_JoinLifting\", \"learnToolsVersion\": \"0.3.4\", \"failureMessage\": \"\", \"exceptionClass\": \"\", \"trace\": \"\"}}, \"*\")"
      ],
      "text/plain": [
       "<IPython.core.display.Javascript object>"
      ]
     },
     "metadata": {},
     "output_type": "display_data"
    },
    {
     "data": {
      "text/markdown": [
       "<span style=\"color:#33cc33\">Correct</span>"
      ],
      "text/plain": [
       "Correct"
      ]
     },
     "metadata": {},
     "output_type": "display_data"
    }
   ],
   "source": [
    "left = powerlifting_meets.set_index('MeetID')\n",
    "right = powerlifting_competitors.set_index('MeetID')\n",
    "powerlifting_combined = left.join(right, lsuffix='_meets', rsuffix='_comp')\n",
    "q4.check()"
   ]
  },
  {
   "cell_type": "markdown",
   "id": "a363998a",
   "metadata": {
    "papermill": {
     "duration": 0.006905,
     "end_time": "2024-11-29T19:56:05.724527",
     "exception": false,
     "start_time": "2024-11-29T19:56:05.717622",
     "status": "completed"
    },
    "tags": []
   },
   "source": [
    "# Congratulations!\n",
    "\n",
    "You've finished the Pandas micro-course.  Many data scientists feel efficiency with Pandas is the most useful and practical skill they have, because it allows you to progress quickly in any project you have.\n",
    "\n",
    "If you'd like to apply your new skills to examining geospatial data, you're encouraged to check out our **[Geospatial Analysis](https://www.kaggle.com/learn/geospatial-analysis)** micro-course.\n",
    "\n",
    "You can also take advantage of your Pandas skills by entering a **[Kaggle Competition](https://www.kaggle.com/competitions)** or by answering a question you find interesting using **[Kaggle Datasets](https://www.kaggle.com/datasets)**."
   ]
  },
  {
   "cell_type": "markdown",
   "id": "64429aef",
   "metadata": {
    "papermill": {
     "duration": 0.005353,
     "end_time": "2024-11-29T19:56:05.735626",
     "exception": false,
     "start_time": "2024-11-29T19:56:05.730273",
     "status": "completed"
    },
    "tags": []
   },
   "source": [
    "---\n",
    "\n",
    "\n",
    "\n",
    "\n",
    "*Have questions or comments? Visit the [course discussion forum](https://www.kaggle.com/learn/pandas/discussion) to chat with other learners.*"
   ]
  }
 ],
 "metadata": {
  "kaggle": {
   "accelerator": "none",
   "dataSources": [
    {
     "datasetId": 655,
     "sourceId": 1252,
     "sourceType": "datasetVersion"
    },
    {
     "datasetId": 2321,
     "sourceId": 3919,
     "sourceType": "datasetVersion"
    },
    {
     "datasetId": 2894,
     "sourceId": 4877,
     "sourceType": "datasetVersion"
    },
    {
     "datasetId": 3491,
     "sourceId": 5624,
     "sourceType": "datasetVersion"
    },
    {
     "datasetId": 1442,
     "sourceId": 8172,
     "sourceType": "datasetVersion"
    },
    {
     "datasetId": 9366,
     "sourceId": 13206,
     "sourceType": "datasetVersion"
    },
    {
     "datasetId": 179555,
     "sourceId": 403916,
     "sourceType": "datasetVersion"
    },
    {
     "datasetId": 4549,
     "sourceId": 466349,
     "sourceType": "datasetVersion"
    },
    {
     "datasetId": 2478,
     "sourceId": 1151655,
     "sourceType": "datasetVersion"
    },
    {
     "datasetId": 10128,
     "sourceId": 5438389,
     "sourceType": "datasetVersion"
    }
   ],
   "isGpuEnabled": false,
   "isInternetEnabled": false,
   "language": "python",
   "sourceType": "notebook"
  },
  "kernelspec": {
   "display_name": "Python 3",
   "language": "python",
   "name": "python3"
  },
  "language_info": {
   "codemirror_mode": {
    "name": "ipython",
    "version": 3
   },
   "file_extension": ".py",
   "mimetype": "text/x-python",
   "name": "python",
   "nbconvert_exporter": "python",
   "pygments_lexer": "ipython3",
   "version": "3.10.14"
  },
  "papermill": {
   "default_parameters": {},
   "duration": 11.548434,
   "end_time": "2024-11-29T19:56:06.364474",
   "environment_variables": {},
   "exception": null,
   "input_path": "__notebook__.ipynb",
   "output_path": "__notebook__.ipynb",
   "parameters": {},
   "start_time": "2024-11-29T19:55:54.816040",
   "version": "2.6.0"
  }
 },
 "nbformat": 4,
 "nbformat_minor": 5
}
