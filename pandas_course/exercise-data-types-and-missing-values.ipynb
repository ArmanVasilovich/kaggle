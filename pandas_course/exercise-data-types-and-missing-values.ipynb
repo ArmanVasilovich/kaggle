{
 "cells": [
  {
   "cell_type": "markdown",
   "id": "97d065d8",
   "metadata": {
    "papermill": {
     "duration": 0.003632,
     "end_time": "2024-11-29T18:52:27.086736",
     "exception": false,
     "start_time": "2024-11-29T18:52:27.083104",
     "status": "completed"
    },
    "tags": []
   },
   "source": [
    "**This notebook is an exercise in the [Pandas](https://www.kaggle.com/learn/pandas) course.  You can reference the tutorial at [this link](https://www.kaggle.com/residentmario/data-types-and-missing-values).**\n",
    "\n",
    "---\n"
   ]
  },
  {
   "cell_type": "markdown",
   "id": "312c254d",
   "metadata": {
    "papermill": {
     "duration": 0.002711,
     "end_time": "2024-11-29T18:52:27.092641",
     "exception": false,
     "start_time": "2024-11-29T18:52:27.089930",
     "status": "completed"
    },
    "tags": []
   },
   "source": [
    "# Introduction\n",
    "\n",
    "Run the following cell to load your data and some utility functions."
   ]
  },
  {
   "cell_type": "code",
   "execution_count": 1,
   "id": "c289c65d",
   "metadata": {
    "execution": {
     "iopub.execute_input": "2024-11-29T18:52:27.099865Z",
     "iopub.status.busy": "2024-11-29T18:52:27.099515Z",
     "iopub.status.idle": "2024-11-29T18:52:27.914703Z",
     "shell.execute_reply": "2024-11-29T18:52:27.913630Z"
    },
    "papermill": {
     "duration": 0.821871,
     "end_time": "2024-11-29T18:52:27.917294",
     "exception": false,
     "start_time": "2024-11-29T18:52:27.095423",
     "status": "completed"
    },
    "tags": []
   },
   "outputs": [],
   "source": [
    "import pandas as pd"
   ]
  },
  {
   "cell_type": "code",
   "execution_count": 2,
   "id": "c6843b5d",
   "metadata": {
    "execution": {
     "iopub.execute_input": "2024-11-29T18:52:27.925723Z",
     "iopub.status.busy": "2024-11-29T18:52:27.925094Z",
     "iopub.status.idle": "2024-11-29T18:52:30.786755Z",
     "shell.execute_reply": "2024-11-29T18:52:30.785444Z"
    },
    "papermill": {
     "duration": 2.868268,
     "end_time": "2024-11-29T18:52:30.789026",
     "exception": false,
     "start_time": "2024-11-29T18:52:27.920758",
     "status": "completed"
    },
    "tags": []
   },
   "outputs": [
    {
     "name": "stdout",
     "output_type": "stream",
     "text": [
      "Setup complete.\n"
     ]
    }
   ],
   "source": [
    "reviews = pd.read_csv(\"../input/wine-reviews/winemag-data-130k-v2.csv\", index_col=0)\n",
    "\n",
    "from learntools.core import binder; binder.bind(globals())\n",
    "from learntools.pandas.data_types_and_missing_data import *\n",
    "print(\"Setup complete.\")"
   ]
  },
  {
   "cell_type": "markdown",
   "id": "d9f398d9",
   "metadata": {
    "papermill": {
     "duration": 0.002865,
     "end_time": "2024-11-29T18:52:30.795213",
     "exception": false,
     "start_time": "2024-11-29T18:52:30.792348",
     "status": "completed"
    },
    "tags": []
   },
   "source": [
    "# Exercises"
   ]
  },
  {
   "cell_type": "markdown",
   "id": "59a94397",
   "metadata": {
    "papermill": {
     "duration": 0.002684,
     "end_time": "2024-11-29T18:52:30.800951",
     "exception": false,
     "start_time": "2024-11-29T18:52:30.798267",
     "status": "completed"
    },
    "tags": []
   },
   "source": [
    "## 1. \n",
    "What is the data type of the `points` column in the dataset?"
   ]
  },
  {
   "cell_type": "code",
   "execution_count": 3,
   "id": "a3b9f677",
   "metadata": {
    "execution": {
     "iopub.execute_input": "2024-11-29T18:52:30.808266Z",
     "iopub.status.busy": "2024-11-29T18:52:30.807904Z",
     "iopub.status.idle": "2024-11-29T18:52:30.817462Z",
     "shell.execute_reply": "2024-11-29T18:52:30.816505Z"
    },
    "papermill": {
     "duration": 0.015595,
     "end_time": "2024-11-29T18:52:30.819397",
     "exception": false,
     "start_time": "2024-11-29T18:52:30.803802",
     "status": "completed"
    },
    "tags": []
   },
   "outputs": [
    {
     "data": {
      "application/javascript": [
       "parent.postMessage({\"jupyterEvent\": \"custom.exercise_interaction\", \"data\": {\"outcomeType\": 1, \"valueTowardsCompletion\": 0.25, \"interactionType\": 1, \"questionType\": 1, \"questionId\": \"1_PointsDtype\", \"learnToolsVersion\": \"0.3.4\", \"failureMessage\": \"\", \"exceptionClass\": \"\", \"trace\": \"\"}}, \"*\")"
      ],
      "text/plain": [
       "<IPython.core.display.Javascript object>"
      ]
     },
     "metadata": {},
     "output_type": "display_data"
    },
    {
     "data": {
      "text/markdown": [
       "<span style=\"color:#33cc33\">Correct</span>"
      ],
      "text/plain": [
       "Correct"
      ]
     },
     "metadata": {},
     "output_type": "display_data"
    }
   ],
   "source": [
    "dtype = reviews.points.dtype\n",
    "q1.check()"
   ]
  },
  {
   "cell_type": "markdown",
   "id": "b486688a",
   "metadata": {
    "papermill": {
     "duration": 0.003192,
     "end_time": "2024-11-29T18:52:30.825984",
     "exception": false,
     "start_time": "2024-11-29T18:52:30.822792",
     "status": "completed"
    },
    "tags": []
   },
   "source": [
    "## 2. \n",
    "Create a Series from entries in the `points` column, but convert the entries to strings. Hint: strings are `str` in native Python."
   ]
  },
  {
   "cell_type": "code",
   "execution_count": 4,
   "id": "2e006ec3",
   "metadata": {
    "execution": {
     "iopub.execute_input": "2024-11-29T18:52:30.834666Z",
     "iopub.status.busy": "2024-11-29T18:52:30.833630Z",
     "iopub.status.idle": "2024-11-29T18:52:30.873509Z",
     "shell.execute_reply": "2024-11-29T18:52:30.872429Z"
    },
    "papermill": {
     "duration": 0.046408,
     "end_time": "2024-11-29T18:52:30.875599",
     "exception": false,
     "start_time": "2024-11-29T18:52:30.829191",
     "status": "completed"
    },
    "tags": []
   },
   "outputs": [
    {
     "data": {
      "application/javascript": [
       "parent.postMessage({\"jupyterEvent\": \"custom.exercise_interaction\", \"data\": {\"outcomeType\": 1, \"valueTowardsCompletion\": 0.25, \"interactionType\": 1, \"questionType\": 1, \"questionId\": \"2_StrPoints\", \"learnToolsVersion\": \"0.3.4\", \"failureMessage\": \"\", \"exceptionClass\": \"\", \"trace\": \"\"}}, \"*\")"
      ],
      "text/plain": [
       "<IPython.core.display.Javascript object>"
      ]
     },
     "metadata": {},
     "output_type": "display_data"
    },
    {
     "data": {
      "text/markdown": [
       "<span style=\"color:#33cc33\">Correct</span>"
      ],
      "text/plain": [
       "Correct"
      ]
     },
     "metadata": {},
     "output_type": "display_data"
    }
   ],
   "source": [
    "point_strings = reviews.points.astype('str')\n",
    "q2.check()"
   ]
  },
  {
   "cell_type": "markdown",
   "id": "97e20c60",
   "metadata": {
    "papermill": {
     "duration": 0.0042,
     "end_time": "2024-11-29T18:52:30.883505",
     "exception": false,
     "start_time": "2024-11-29T18:52:30.879305",
     "status": "completed"
    },
    "tags": []
   },
   "source": [
    "## 3.\n",
    "Sometimes the price column is null. How many reviews in the dataset are missing a price?"
   ]
  },
  {
   "cell_type": "code",
   "execution_count": 5,
   "id": "79971138",
   "metadata": {
    "execution": {
     "iopub.execute_input": "2024-11-29T18:52:30.892471Z",
     "iopub.status.busy": "2024-11-29T18:52:30.892080Z",
     "iopub.status.idle": "2024-11-29T18:52:30.901465Z",
     "shell.execute_reply": "2024-11-29T18:52:30.900352Z"
    },
    "papermill": {
     "duration": 0.016457,
     "end_time": "2024-11-29T18:52:30.903509",
     "exception": false,
     "start_time": "2024-11-29T18:52:30.887052",
     "status": "completed"
    },
    "tags": []
   },
   "outputs": [
    {
     "data": {
      "application/javascript": [
       "parent.postMessage({\"jupyterEvent\": \"custom.exercise_interaction\", \"data\": {\"outcomeType\": 1, \"valueTowardsCompletion\": 0.25, \"interactionType\": 1, \"questionType\": 1, \"questionId\": \"3_CountMissingPrices\", \"learnToolsVersion\": \"0.3.4\", \"failureMessage\": \"\", \"exceptionClass\": \"\", \"trace\": \"\"}}, \"*\")"
      ],
      "text/plain": [
       "<IPython.core.display.Javascript object>"
      ]
     },
     "metadata": {},
     "output_type": "display_data"
    },
    {
     "data": {
      "text/markdown": [
       "<span style=\"color:#33cc33\">Correct</span>"
      ],
      "text/plain": [
       "Correct"
      ]
     },
     "metadata": {},
     "output_type": "display_data"
    }
   ],
   "source": [
    "n_missing_prices = reviews.price.isna().sum()\n",
    "q3.check()"
   ]
  },
  {
   "cell_type": "markdown",
   "id": "1fa63113",
   "metadata": {
    "papermill": {
     "duration": 0.003705,
     "end_time": "2024-11-29T18:52:30.911178",
     "exception": false,
     "start_time": "2024-11-29T18:52:30.907473",
     "status": "completed"
    },
    "tags": []
   },
   "source": [
    "## 4.\n",
    "What are the most common wine-producing regions? Create a Series counting the number of times each value occurs in the `region_1` field. This field is often missing data, so replace missing values with `Unknown`. Sort in descending order.  Your output should look something like this:\n",
    "\n",
    "```\n",
    "Unknown                    21247\n",
    "Napa Valley                 4480\n",
    "                           ...  \n",
    "Bardolino Superiore            1\n",
    "Primitivo del Tarantino        1\n",
    "Name: region_1, Length: 1230, dtype: int64\n",
    "```"
   ]
  },
  {
   "cell_type": "code",
   "execution_count": 6,
   "id": "c735bffc",
   "metadata": {
    "execution": {
     "iopub.execute_input": "2024-11-29T18:52:30.920792Z",
     "iopub.status.busy": "2024-11-29T18:52:30.920422Z",
     "iopub.status.idle": "2024-11-29T18:52:30.970475Z",
     "shell.execute_reply": "2024-11-29T18:52:30.969451Z"
    },
    "papermill": {
     "duration": 0.057857,
     "end_time": "2024-11-29T18:52:30.972859",
     "exception": false,
     "start_time": "2024-11-29T18:52:30.915002",
     "status": "completed"
    },
    "tags": []
   },
   "outputs": [
    {
     "data": {
      "application/javascript": [
       "parent.postMessage({\"jupyterEvent\": \"custom.exercise_interaction\", \"data\": {\"outcomeType\": 1, \"valueTowardsCompletion\": 0.25, \"interactionType\": 1, \"questionType\": 2, \"questionId\": \"4_ReviewsPerRegion\", \"learnToolsVersion\": \"0.3.4\", \"failureMessage\": \"\", \"exceptionClass\": \"\", \"trace\": \"\"}}, \"*\")"
      ],
      "text/plain": [
       "<IPython.core.display.Javascript object>"
      ]
     },
     "metadata": {},
     "output_type": "display_data"
    },
    {
     "data": {
      "text/markdown": [
       "<span style=\"color:#33cc33\">Correct</span>"
      ],
      "text/plain": [
       "Correct"
      ]
     },
     "metadata": {},
     "output_type": "display_data"
    }
   ],
   "source": [
    "reviews_per_region = reviews.region_1.fillna('Unknown').value_counts().sort_values(ascending=False)\n",
    "q4.check()"
   ]
  }
 ],
 "metadata": {
  "kaggle": {
   "accelerator": "none",
   "dataSources": [
    {
     "datasetId": 655,
     "sourceId": 1252,
     "sourceType": "datasetVersion"
    },
    {
     "datasetId": 2321,
     "sourceId": 3919,
     "sourceType": "datasetVersion"
    },
    {
     "datasetId": 2894,
     "sourceId": 4877,
     "sourceType": "datasetVersion"
    },
    {
     "datasetId": 3491,
     "sourceId": 5624,
     "sourceType": "datasetVersion"
    },
    {
     "datasetId": 1442,
     "sourceId": 8172,
     "sourceType": "datasetVersion"
    },
    {
     "datasetId": 9366,
     "sourceId": 13206,
     "sourceType": "datasetVersion"
    },
    {
     "datasetId": 179555,
     "sourceId": 403916,
     "sourceType": "datasetVersion"
    },
    {
     "datasetId": 4549,
     "sourceId": 466349,
     "sourceType": "datasetVersion"
    },
    {
     "datasetId": 2478,
     "sourceId": 1151655,
     "sourceType": "datasetVersion"
    },
    {
     "datasetId": 10128,
     "sourceId": 5438389,
     "sourceType": "datasetVersion"
    }
   ],
   "isGpuEnabled": false,
   "isInternetEnabled": false,
   "language": "python",
   "sourceType": "notebook"
  },
  "kernelspec": {
   "display_name": "Python 3",
   "language": "python",
   "name": "python3"
  },
  "language_info": {
   "codemirror_mode": {
    "name": "ipython",
    "version": 3
   },
   "file_extension": ".py",
   "mimetype": "text/x-python",
   "name": "python",
   "nbconvert_exporter": "python",
   "pygments_lexer": "ipython3",
   "version": "3.10.14"
  },
  "papermill": {
   "default_parameters": {},
   "duration": 6.969471,
   "end_time": "2024-11-29T18:52:31.496754",
   "environment_variables": {},
   "exception": null,
   "input_path": "__notebook__.ipynb",
   "output_path": "__notebook__.ipynb",
   "parameters": {},
   "start_time": "2024-11-29T18:52:24.527283",
   "version": "2.6.0"
  }
 },
 "nbformat": 4,
 "nbformat_minor": 5
}
