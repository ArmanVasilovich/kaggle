{
 "cells": [
  {
   "cell_type": "markdown",
   "id": "0410267e",
   "metadata": {
    "papermill": {
     "duration": 0.004869,
     "end_time": "2024-12-04T15:11:51.473941",
     "exception": false,
     "start_time": "2024-12-04T15:11:51.469072",
     "status": "completed"
    },
    "tags": []
   },
   "source": [
    "**This notebook is an exercise in the [Data Visualization](https://www.kaggle.com/learn/data-visualization) course.  You can reference the tutorial at [this link](https://www.kaggle.com/alexisbcook/bar-charts-and-heatmaps).**\n",
    "\n",
    "---\n"
   ]
  },
  {
   "cell_type": "markdown",
   "id": "e74cbde6",
   "metadata": {
    "papermill": {
     "duration": 0.004068,
     "end_time": "2024-12-04T15:11:51.482424",
     "exception": false,
     "start_time": "2024-12-04T15:11:51.478356",
     "status": "completed"
    },
    "tags": []
   },
   "source": [
    "In this exercise, you will use your new knowledge to propose a solution to a real-world scenario.  To succeed, you will need to import data into Python, answer questions using the data, and generate **bar charts** and **heatmaps** to understand patterns in the data.\n",
    "\n",
    "## Scenario\n",
    "\n",
    "You've recently decided to create your very own video game!  As an avid reader of [IGN Game Reviews](https://www.ign.com/reviews/games), you hear about all of the most recent game releases, along with the ranking they've received from experts, ranging from 0 (_Disaster_) to 10 (_Masterpiece_).\n",
    "\n",
    "![ex2_ign](https://storage.googleapis.com/kaggle-media/learn/images/Oh06Fu1.png)\n",
    "\n",
    "You're interested in using [IGN reviews](https://www.ign.com/reviews/games) to guide the design of your upcoming game.  Thankfully, someone has summarized the rankings in a really useful CSV file that you can use to guide your analysis.\n",
    "\n",
    "## Setup\n",
    "\n",
    "Run the next cell to import and configure the Python libraries that you need to complete the exercise."
   ]
  },
  {
   "cell_type": "code",
   "execution_count": 1,
   "id": "90b4abdf",
   "metadata": {
    "execution": {
     "iopub.execute_input": "2024-12-04T15:11:51.492945Z",
     "iopub.status.busy": "2024-12-04T15:11:51.492406Z",
     "iopub.status.idle": "2024-12-04T15:11:53.940770Z",
     "shell.execute_reply": "2024-12-04T15:11:53.939487Z"
    },
    "papermill": {
     "duration": 2.456564,
     "end_time": "2024-12-04T15:11:53.943229",
     "exception": false,
     "start_time": "2024-12-04T15:11:51.486665",
     "status": "completed"
    },
    "tags": []
   },
   "outputs": [
    {
     "name": "stdout",
     "output_type": "stream",
     "text": [
      "Setup Complete\n"
     ]
    }
   ],
   "source": [
    "import pandas as pd\n",
    "pd.plotting.register_matplotlib_converters()\n",
    "import matplotlib.pyplot as plt\n",
    "%matplotlib inline\n",
    "import seaborn as sns\n",
    "print(\"Setup Complete\")"
   ]
  },
  {
   "cell_type": "markdown",
   "id": "100bbd8c",
   "metadata": {
    "papermill": {
     "duration": 0.005738,
     "end_time": "2024-12-04T15:11:53.953458",
     "exception": false,
     "start_time": "2024-12-04T15:11:53.947720",
     "status": "completed"
    },
    "tags": []
   },
   "source": [
    "The questions below will give you feedback on your work. Run the following cell to set up our feedback system."
   ]
  },
  {
   "cell_type": "code",
   "execution_count": 2,
   "id": "d912360a",
   "metadata": {
    "execution": {
     "iopub.execute_input": "2024-12-04T15:11:53.964268Z",
     "iopub.status.busy": "2024-12-04T15:11:53.963757Z",
     "iopub.status.idle": "2024-12-04T15:11:54.033517Z",
     "shell.execute_reply": "2024-12-04T15:11:54.032250Z"
    },
    "papermill": {
     "duration": 0.077847,
     "end_time": "2024-12-04T15:11:54.036009",
     "exception": false,
     "start_time": "2024-12-04T15:11:53.958162",
     "status": "completed"
    },
    "tags": []
   },
   "outputs": [
    {
     "name": "stdout",
     "output_type": "stream",
     "text": [
      "Setup Complete\n"
     ]
    }
   ],
   "source": [
    "# Set up code checking\n",
    "import os\n",
    "if not os.path.exists(\"../input/ign_scores.csv\"):\n",
    "    os.symlink(\"../input/data-for-datavis/ign_scores.csv\", \"../input/ign_scores.csv\") \n",
    "from learntools.core import binder\n",
    "binder.bind(globals())\n",
    "from learntools.data_viz_to_coder.ex3 import *\n",
    "print(\"Setup Complete\")"
   ]
  },
  {
   "cell_type": "markdown",
   "id": "c9305fc3",
   "metadata": {
    "papermill": {
     "duration": 0.004494,
     "end_time": "2024-12-04T15:11:54.045046",
     "exception": false,
     "start_time": "2024-12-04T15:11:54.040552",
     "status": "completed"
    },
    "tags": []
   },
   "source": [
    "## Step 1: Load the data\n",
    "\n",
    "Read the IGN data file into `ign_data`.  Use the `\"Platform\"` column to label the rows."
   ]
  },
  {
   "cell_type": "code",
   "execution_count": 3,
   "id": "1485e99d",
   "metadata": {
    "execution": {
     "iopub.execute_input": "2024-12-04T15:11:54.055518Z",
     "iopub.status.busy": "2024-12-04T15:11:54.055166Z",
     "iopub.status.idle": "2024-12-04T15:11:54.068457Z",
     "shell.execute_reply": "2024-12-04T15:11:54.067383Z"
    },
    "papermill": {
     "duration": 0.021092,
     "end_time": "2024-12-04T15:11:54.070589",
     "exception": false,
     "start_time": "2024-12-04T15:11:54.049497",
     "status": "completed"
    },
    "tags": []
   },
   "outputs": [
    {
     "data": {
      "application/javascript": [
       "parent.postMessage({\"jupyterEvent\": \"custom.exercise_interaction\", \"data\": {\"outcomeType\": 1, \"valueTowardsCompletion\": 0.5, \"interactionType\": 1, \"questionType\": 1, \"questionId\": \"1_LoadIGNData\", \"learnToolsVersion\": \"0.3.4\", \"failureMessage\": \"\", \"exceptionClass\": \"\", \"trace\": \"\"}}, \"*\")"
      ],
      "text/plain": [
       "<IPython.core.display.Javascript object>"
      ]
     },
     "metadata": {},
     "output_type": "display_data"
    },
    {
     "data": {
      "text/markdown": [
       "<span style=\"color:#33cc33\">Correct</span>"
      ],
      "text/plain": [
       "Correct"
      ]
     },
     "metadata": {},
     "output_type": "display_data"
    }
   ],
   "source": [
    "ign_filepath = \"../input/ign_scores.csv\"\n",
    "ign_data = pd.read_csv(ign_filepath, index_col='Platform')\n",
    "step_1.check()"
   ]
  },
  {
   "cell_type": "markdown",
   "id": "14d515c2",
   "metadata": {
    "papermill": {
     "duration": 0.00451,
     "end_time": "2024-12-04T15:11:54.079743",
     "exception": false,
     "start_time": "2024-12-04T15:11:54.075233",
     "status": "completed"
    },
    "tags": []
   },
   "source": [
    "## Step 2: Review the data\n",
    "\n",
    "Use a Python command to print the entire dataset."
   ]
  },
  {
   "cell_type": "code",
   "execution_count": 4,
   "id": "01dd1551",
   "metadata": {
    "execution": {
     "iopub.execute_input": "2024-12-04T15:11:54.091027Z",
     "iopub.status.busy": "2024-12-04T15:11:54.090626Z",
     "iopub.status.idle": "2024-12-04T15:11:54.107737Z",
     "shell.execute_reply": "2024-12-04T15:11:54.106493Z"
    },
    "papermill": {
     "duration": 0.025454,
     "end_time": "2024-12-04T15:11:54.109943",
     "exception": false,
     "start_time": "2024-12-04T15:11:54.084489",
     "status": "completed"
    },
    "tags": []
   },
   "outputs": [
    {
     "name": "stdout",
     "output_type": "stream",
     "text": [
      "                        Action  Action, Adventure  Adventure  Fighting  \\\n",
      "Platform                                                                 \n",
      "Dreamcast             6.882857           7.511111   6.281818  8.200000   \n",
      "Game Boy Advance      6.373077           7.507692   6.057143  6.226316   \n",
      "Game Boy Color        6.272727           8.166667   5.307692  4.500000   \n",
      "GameCube              6.532584           7.608333   6.753846  7.422222   \n",
      "Nintendo 3DS          6.670833           7.481818   7.414286  6.614286   \n",
      "Nintendo 64           6.649057           8.250000   7.000000  5.681250   \n",
      "Nintendo DS           5.903608           7.240000   6.259804  6.320000   \n",
      "Nintendo DSi          6.827027           8.500000   6.090909  7.500000   \n",
      "PC                    6.805791           7.334746   7.136798  7.166667   \n",
      "PlayStation           6.016406           7.933333   6.313725  6.553731   \n",
      "PlayStation 2         6.467361           7.250000   6.315152  7.306349   \n",
      "PlayStation 3         6.853819           7.306154   6.820988  7.710938   \n",
      "PlayStation 4         7.550000           7.835294   7.388571  7.280000   \n",
      "PlayStation Portable  6.467797           7.000000   6.938095  6.822222   \n",
      "PlayStation Vita      7.173077           6.133333   8.057143  7.527273   \n",
      "Wii                   6.262718           7.294643   6.234043  6.733333   \n",
      "Wireless              7.041699           7.312500   6.972414  6.740000   \n",
      "Xbox                  6.819512           7.479032   6.821429  7.029630   \n",
      "Xbox 360              6.719048           7.137838   6.857353  7.552239   \n",
      "Xbox One              7.702857           7.566667   7.254545  7.171429   \n",
      "iPhone                6.865445           7.764286   7.745833  6.087500   \n",
      "\n",
      "                      Platformer    Puzzle       RPG    Racing   Shooter  \\\n",
      "Platform                                                                   \n",
      "Dreamcast               8.340000  8.088889  7.700000  7.042500  7.616667   \n",
      "Game Boy Advance        6.970588  6.532143  7.542857  6.657143  6.444444   \n",
      "Game Boy Color          6.352941  6.583333  7.285714  5.897436  4.500000   \n",
      "GameCube                6.665714  6.133333  7.890909  6.852632  6.981818   \n",
      "Nintendo 3DS            7.503448  8.000000  7.719231  6.900000  7.033333   \n",
      "Nintendo 64             6.889655  7.461538  6.050000  6.939623  8.042857   \n",
      "Nintendo DS             6.840000  6.604615  7.222619  6.038636  6.965217   \n",
      "Nintendo DSi            7.250000  6.810526  7.166667  6.563636  6.500000   \n",
      "PC                      7.410938  6.924706  7.759930  7.032418  7.084878   \n",
      "PlayStation             6.579070  6.757895  7.910000  6.773387  6.424000   \n",
      "PlayStation 2           7.068421  6.354545  7.473077  6.585065  6.641667   \n",
      "PlayStation 3           7.735714  7.350000  7.436111  6.978571  7.219553   \n",
      "PlayStation 4           8.390909  7.400000  7.944000  7.590000  7.804444   \n",
      "PlayStation Portable    7.194737  6.726667  6.817778  6.401961  7.071053   \n",
      "PlayStation Vita        8.568750  8.250000  7.337500  6.300000  7.660000   \n",
      "Wii                     7.054255  6.426984  7.410345  5.011667  6.479798   \n",
      "Wireless                7.509091  7.360550  8.260000  6.898305  6.906780   \n",
      "Xbox                    7.303448  5.125000  8.277778  7.021591  7.485417   \n",
      "Xbox 360                7.559574  7.141026  7.650000  6.996154  7.338153   \n",
      "Xbox One                6.733333  8.100000  8.291667  8.163636  8.020000   \n",
      "iPhone                  7.471930  7.810784  7.185185  7.315789  6.995588   \n",
      "\n",
      "                      Simulation    Sports  Strategy  \n",
      "Platform                                              \n",
      "Dreamcast               7.628571  7.272222  6.433333  \n",
      "Game Boy Advance        6.928571  6.694444  7.175000  \n",
      "Game Boy Color          5.900000  5.790698  7.400000  \n",
      "GameCube                8.028571  7.481319  7.116667  \n",
      "Nintendo 3DS            7.700000  6.388889  7.900000  \n",
      "Nintendo 64             5.675000  6.967857  6.900000  \n",
      "Nintendo DS             5.874359  5.936667  6.644737  \n",
      "Nintendo DSi            5.195652  5.644444  6.566667  \n",
      "PC                      7.104889  6.902424  7.310207  \n",
      "PlayStation             6.918182  6.751220  6.496875  \n",
      "PlayStation 2           7.152632  7.197826  7.238889  \n",
      "PlayStation 3           7.142857  7.485816  7.355172  \n",
      "PlayStation 4           9.250000  7.430000  6.566667  \n",
      "PlayStation Portable    6.761538  6.956790  6.550000  \n",
      "PlayStation Vita        5.725000  7.130000  8.900000  \n",
      "Wii                     6.327027  5.966901  6.975000  \n",
      "Wireless                7.802857  7.417699  7.542857  \n",
      "Xbox                    7.155556  7.884397  7.313333  \n",
      "Xbox 360                7.325000  7.317857  7.112245  \n",
      "Xbox One                7.733333  7.331818  8.500000  \n",
      "iPhone                  7.328571  7.152174  7.534921  \n"
     ]
    }
   ],
   "source": [
    "print(ign_data)"
   ]
  },
  {
   "cell_type": "markdown",
   "id": "c0c935a3",
   "metadata": {
    "papermill": {
     "duration": 0.004898,
     "end_time": "2024-12-04T15:11:54.119850",
     "exception": false,
     "start_time": "2024-12-04T15:11:54.114952",
     "status": "completed"
    },
    "tags": []
   },
   "source": [
    "The dataset that you've just printed shows the average score, by platform and genre.  Use the data to answer the questions below."
   ]
  },
  {
   "cell_type": "code",
   "execution_count": 5,
   "id": "9f67f192",
   "metadata": {
    "execution": {
     "iopub.execute_input": "2024-12-04T15:11:54.131923Z",
     "iopub.status.busy": "2024-12-04T15:11:54.131514Z",
     "iopub.status.idle": "2024-12-04T15:11:54.140703Z",
     "shell.execute_reply": "2024-12-04T15:11:54.139624Z"
    },
    "papermill": {
     "duration": 0.018056,
     "end_time": "2024-12-04T15:11:54.142991",
     "exception": false,
     "start_time": "2024-12-04T15:11:54.124935",
     "status": "completed"
    },
    "tags": []
   },
   "outputs": [
    {
     "data": {
      "application/javascript": [
       "parent.postMessage({\"jupyterEvent\": \"custom.exercise_interaction\", \"data\": {\"outcomeType\": 1, \"valueTowardsCompletion\": 0.5, \"interactionType\": 1, \"questionType\": 1, \"questionId\": \"2_ReviewData\", \"learnToolsVersion\": \"0.3.4\", \"failureMessage\": \"\", \"exceptionClass\": \"\", \"trace\": \"\"}}, \"*\")"
      ],
      "text/plain": [
       "<IPython.core.display.Javascript object>"
      ]
     },
     "metadata": {},
     "output_type": "display_data"
    },
    {
     "data": {
      "text/markdown": [
       "<span style=\"color:#33cc33\">Correct</span>"
      ],
      "text/plain": [
       "Correct"
      ]
     },
     "metadata": {},
     "output_type": "display_data"
    }
   ],
   "source": [
    "# Fill in the line below: What is the highest average score received by PC games,\n",
    "# for any genre?\n",
    "high_score = 7.759930\n",
    "\n",
    "# Fill in the line below: On the Playstation Vita platform, which genre has the \n",
    "# lowest average score? Please provide the name of the column, and put your answer \n",
    "# in single quotes (e.g., 'Action', 'Adventure', 'Fighting', etc.)\n",
    "worst_genre = 'Simulation'\n",
    "\n",
    "# Check your answers\n",
    "step_2.check()"
   ]
  },
  {
   "cell_type": "markdown",
   "id": "9fd9f9ee",
   "metadata": {
    "papermill": {
     "duration": 0.004919,
     "end_time": "2024-12-04T15:11:54.153229",
     "exception": false,
     "start_time": "2024-12-04T15:11:54.148310",
     "status": "completed"
    },
    "tags": []
   },
   "source": [
    "## Step 3: Which platform is best?\n",
    "\n",
    "Since you can remember, your favorite video game has been [**Mario Kart Wii**](https://www.ign.com/games/mario-kart-wii), a racing game released for the Wii platform in 2008.  And, IGN agrees with you that it is a great game -- their rating for this game is a whopping 8.9!  Inspired by the success of this game, you're considering creating your very own racing game for the Wii platform.\n",
    "\n",
    "#### Part A\n",
    "\n",
    "Create a bar chart that shows the average score for **racing** games, for each platform.  Your chart should have one bar for each platform. "
   ]
  },
  {
   "cell_type": "code",
   "execution_count": 6,
   "id": "a67559c7",
   "metadata": {
    "execution": {
     "iopub.execute_input": "2024-12-04T15:11:54.165152Z",
     "iopub.status.busy": "2024-12-04T15:11:54.164755Z",
     "iopub.status.idle": "2024-12-04T15:11:54.183686Z",
     "shell.execute_reply": "2024-12-04T15:11:54.182612Z"
    },
    "papermill": {
     "duration": 0.027554,
     "end_time": "2024-12-04T15:11:54.185979",
     "exception": false,
     "start_time": "2024-12-04T15:11:54.158425",
     "status": "completed"
    },
    "tags": []
   },
   "outputs": [
    {
     "data": {
      "application/javascript": [
       "parent.postMessage({\"jupyterEvent\": \"custom.exercise_interaction\", \"data\": {\"outcomeType\": 2, \"failureMessage\": \"Please write code to create a bar chart.\", \"interactionType\": 1, \"questionType\": 2, \"questionId\": \"3.1_PlotRacing\", \"learnToolsVersion\": \"0.3.4\", \"valueTowardsCompletion\": 0.0, \"exceptionClass\": \"\", \"trace\": \"\"}}, \"*\")"
      ],
      "text/plain": [
       "<IPython.core.display.Javascript object>"
      ]
     },
     "metadata": {},
     "output_type": "display_data"
    },
    {
     "data": {
      "text/markdown": [
       "<span style=\"color:#cc3333\">Incorrect:</span> Please write code to create a bar chart."
      ],
      "text/plain": [
       "Incorrect: Please write code to create a bar chart."
      ]
     },
     "metadata": {},
     "output_type": "display_data"
    },
    {
     "data": {
      "text/plain": [
       "<Figure size 640x480 with 0 Axes>"
      ]
     },
     "metadata": {},
     "output_type": "display_data"
    }
   ],
   "source": [
    "# Bar chart showing average score for racing games by platform\n",
    "____ # Your code here\n",
    "\n",
    "# Check your answer\n",
    "step_3.a.check()"
   ]
  },
  {
   "cell_type": "code",
   "execution_count": 7,
   "id": "2438fc2b",
   "metadata": {
    "execution": {
     "iopub.execute_input": "2024-12-04T15:11:54.199756Z",
     "iopub.status.busy": "2024-12-04T15:11:54.198715Z",
     "iopub.status.idle": "2024-12-04T15:11:54.203471Z",
     "shell.execute_reply": "2024-12-04T15:11:54.202398Z"
    },
    "papermill": {
     "duration": 0.014121,
     "end_time": "2024-12-04T15:11:54.205743",
     "exception": false,
     "start_time": "2024-12-04T15:11:54.191622",
     "status": "completed"
    },
    "tags": []
   },
   "outputs": [],
   "source": [
    "# Lines below will give you a hint or solution code\n",
    "#step_3.a.hint()\n",
    "#step_3.a.solution_plot()"
   ]
  },
  {
   "cell_type": "markdown",
   "id": "81276ad5",
   "metadata": {
    "papermill": {
     "duration": 0.005099,
     "end_time": "2024-12-04T15:11:54.216272",
     "exception": false,
     "start_time": "2024-12-04T15:11:54.211173",
     "status": "completed"
    },
    "tags": []
   },
   "source": [
    "#### Part B\n",
    "\n",
    "Based on the bar chart, do you expect a racing game for the **Wii** platform to receive a high rating?  If not, what gaming platform seems to be the best alternative?"
   ]
  },
  {
   "cell_type": "code",
   "execution_count": 8,
   "id": "6069d76c",
   "metadata": {
    "execution": {
     "iopub.execute_input": "2024-12-04T15:11:54.228715Z",
     "iopub.status.busy": "2024-12-04T15:11:54.228305Z",
     "iopub.status.idle": "2024-12-04T15:11:54.232902Z",
     "shell.execute_reply": "2024-12-04T15:11:54.231769Z"
    },
    "papermill": {
     "duration": 0.013192,
     "end_time": "2024-12-04T15:11:54.234906",
     "exception": false,
     "start_time": "2024-12-04T15:11:54.221714",
     "status": "completed"
    },
    "tags": []
   },
   "outputs": [],
   "source": [
    "#step_3.b.hint()"
   ]
  },
  {
   "cell_type": "code",
   "execution_count": 9,
   "id": "0cbb74b6",
   "metadata": {
    "execution": {
     "iopub.execute_input": "2024-12-04T15:11:54.247670Z",
     "iopub.status.busy": "2024-12-04T15:11:54.247282Z",
     "iopub.status.idle": "2024-12-04T15:11:54.255525Z",
     "shell.execute_reply": "2024-12-04T15:11:54.254474Z"
    },
    "papermill": {
     "duration": 0.01718,
     "end_time": "2024-12-04T15:11:54.257607",
     "exception": false,
     "start_time": "2024-12-04T15:11:54.240427",
     "status": "completed"
    },
    "tags": []
   },
   "outputs": [
    {
     "data": {
      "application/javascript": [
       "parent.postMessage({\"jupyterEvent\": \"custom.exercise_interaction\", \"data\": {\"interactionType\": 3, \"questionType\": 4, \"questionId\": \"3.2_ThinkRacing\", \"learnToolsVersion\": \"0.3.4\", \"valueTowardsCompletion\": 0.0, \"failureMessage\": \"\", \"exceptionClass\": \"\", \"trace\": \"\", \"outcomeType\": 4}}, \"*\")"
      ],
      "text/plain": [
       "<IPython.core.display.Javascript object>"
      ]
     },
     "metadata": {},
     "output_type": "display_data"
    },
    {
     "data": {
      "text/markdown": [
       "<span style=\"color:#33cc99\">Solution:</span> Based on the data, we should not expect a racing game for the Wii platform to receive a high rating.  In fact, on average, racing games for Wii score lower than any other platform.  Xbox One seems to be the best alternative, since it has the highest average ratings."
      ],
      "text/plain": [
       "Solution: Based on the data, we should not expect a racing game for the Wii platform to receive a high rating.  In fact, on average, racing games for Wii score lower than any other platform.  Xbox One seems to be the best alternative, since it has the highest average ratings."
      ]
     },
     "metadata": {},
     "output_type": "display_data"
    }
   ],
   "source": [
    "# Check your answer (Run this code cell to receive credit!)\n",
    "step_3.b.solution()"
   ]
  },
  {
   "cell_type": "markdown",
   "id": "a95059ca",
   "metadata": {
    "papermill": {
     "duration": 0.00542,
     "end_time": "2024-12-04T15:11:54.268770",
     "exception": false,
     "start_time": "2024-12-04T15:11:54.263350",
     "status": "completed"
    },
    "tags": []
   },
   "source": [
    "## Step 4: All possible combinations!\n",
    "\n",
    "Eventually, you decide against creating a racing game for Wii, but you're still committed to creating your own video game!  Since your gaming interests are pretty broad (_... you generally love most video games_), you decide to use the IGN data to inform your new choice of genre and platform.\n",
    "\n",
    "#### Part A\n",
    "\n",
    "Use the data to create a heatmap of average score by genre and platform.  "
   ]
  },
  {
   "cell_type": "code",
   "execution_count": 10,
   "id": "351cb728",
   "metadata": {
    "execution": {
     "iopub.execute_input": "2024-12-04T15:11:54.281881Z",
     "iopub.status.busy": "2024-12-04T15:11:54.281097Z",
     "iopub.status.idle": "2024-12-04T15:11:54.294226Z",
     "shell.execute_reply": "2024-12-04T15:11:54.293088Z"
    },
    "papermill": {
     "duration": 0.022019,
     "end_time": "2024-12-04T15:11:54.296271",
     "exception": false,
     "start_time": "2024-12-04T15:11:54.274252",
     "status": "completed"
    },
    "tags": []
   },
   "outputs": [
    {
     "data": {
      "application/javascript": [
       "parent.postMessage({\"jupyterEvent\": \"custom.exercise_interaction\", \"data\": {\"outcomeType\": 2, \"failureMessage\": \"Please write code to create a heatmap.\", \"interactionType\": 1, \"questionType\": 2, \"questionId\": \"4.1_PlotHeat\", \"learnToolsVersion\": \"0.3.4\", \"valueTowardsCompletion\": 0.0, \"exceptionClass\": \"\", \"trace\": \"\"}}, \"*\")"
      ],
      "text/plain": [
       "<IPython.core.display.Javascript object>"
      ]
     },
     "metadata": {},
     "output_type": "display_data"
    },
    {
     "data": {
      "text/markdown": [
       "<span style=\"color:#cc3333\">Incorrect:</span> Please write code to create a heatmap."
      ],
      "text/plain": [
       "Incorrect: Please write code to create a heatmap."
      ]
     },
     "metadata": {},
     "output_type": "display_data"
    },
    {
     "data": {
      "text/plain": [
       "<Figure size 640x480 with 0 Axes>"
      ]
     },
     "metadata": {},
     "output_type": "display_data"
    }
   ],
   "source": [
    "# Heatmap showing average game score by platform and genre\n",
    "____ # Your code here\n",
    "\n",
    "# Check your answer\n",
    "step_4.a.check()"
   ]
  },
  {
   "cell_type": "code",
   "execution_count": 11,
   "id": "6f2a21be",
   "metadata": {
    "execution": {
     "iopub.execute_input": "2024-12-04T15:11:54.310038Z",
     "iopub.status.busy": "2024-12-04T15:11:54.309658Z",
     "iopub.status.idle": "2024-12-04T15:11:54.314203Z",
     "shell.execute_reply": "2024-12-04T15:11:54.313194Z"
    },
    "papermill": {
     "duration": 0.014136,
     "end_time": "2024-12-04T15:11:54.316451",
     "exception": false,
     "start_time": "2024-12-04T15:11:54.302315",
     "status": "completed"
    },
    "tags": []
   },
   "outputs": [],
   "source": [
    "# Lines below will give you a hint or solution code\n",
    "#step_4.a.hint()\n",
    "#step_4.a.solution_plot()"
   ]
  },
  {
   "cell_type": "markdown",
   "id": "ce150856",
   "metadata": {
    "papermill": {
     "duration": 0.005784,
     "end_time": "2024-12-04T15:11:54.328396",
     "exception": false,
     "start_time": "2024-12-04T15:11:54.322612",
     "status": "completed"
    },
    "tags": []
   },
   "source": [
    "#### Part B\n",
    "\n",
    "Which combination of genre and platform receives the highest average ratings?  Which combination receives the lowest average rankings?"
   ]
  },
  {
   "cell_type": "code",
   "execution_count": 12,
   "id": "284ec990",
   "metadata": {
    "execution": {
     "iopub.execute_input": "2024-12-04T15:11:54.342365Z",
     "iopub.status.busy": "2024-12-04T15:11:54.341979Z",
     "iopub.status.idle": "2024-12-04T15:11:54.346345Z",
     "shell.execute_reply": "2024-12-04T15:11:54.345342Z"
    },
    "papermill": {
     "duration": 0.013658,
     "end_time": "2024-12-04T15:11:54.348359",
     "exception": false,
     "start_time": "2024-12-04T15:11:54.334701",
     "status": "completed"
    },
    "tags": []
   },
   "outputs": [],
   "source": [
    "#step_4.b.hint()"
   ]
  },
  {
   "cell_type": "code",
   "execution_count": 13,
   "id": "1a2293f1",
   "metadata": {
    "execution": {
     "iopub.execute_input": "2024-12-04T15:11:54.362757Z",
     "iopub.status.busy": "2024-12-04T15:11:54.362328Z",
     "iopub.status.idle": "2024-12-04T15:11:54.371041Z",
     "shell.execute_reply": "2024-12-04T15:11:54.369731Z"
    },
    "papermill": {
     "duration": 0.01872,
     "end_time": "2024-12-04T15:11:54.373356",
     "exception": false,
     "start_time": "2024-12-04T15:11:54.354636",
     "status": "completed"
    },
    "tags": []
   },
   "outputs": [
    {
     "data": {
      "application/javascript": [
       "parent.postMessage({\"jupyterEvent\": \"custom.exercise_interaction\", \"data\": {\"interactionType\": 3, \"questionType\": 4, \"questionId\": \"4.2_ThinkHeat\", \"learnToolsVersion\": \"0.3.4\", \"valueTowardsCompletion\": 0.0, \"failureMessage\": \"\", \"exceptionClass\": \"\", \"trace\": \"\", \"outcomeType\": 4}}, \"*\")"
      ],
      "text/plain": [
       "<IPython.core.display.Javascript object>"
      ]
     },
     "metadata": {},
     "output_type": "display_data"
    },
    {
     "data": {
      "text/markdown": [
       "<span style=\"color:#33cc99\">Solution:</span> **Simulation** games for **Playstation 4** receive the highest average ratings (9.2). **Shooting** and **Fighting** games for **Game Boy Color** receive the lowest average rankings (4.5)."
      ],
      "text/plain": [
       "Solution: **Simulation** games for **Playstation 4** receive the highest average ratings (9.2). **Shooting** and **Fighting** games for **Game Boy Color** receive the lowest average rankings (4.5)."
      ]
     },
     "metadata": {},
     "output_type": "display_data"
    }
   ],
   "source": [
    "# Check your answer (Run this code cell to receive credit!)\n",
    "step_4.b.solution()"
   ]
  },
  {
   "cell_type": "markdown",
   "id": "3e2833ec",
   "metadata": {
    "papermill": {
     "duration": 0.007005,
     "end_time": "2024-12-04T15:11:54.386899",
     "exception": false,
     "start_time": "2024-12-04T15:11:54.379894",
     "status": "completed"
    },
    "tags": []
   },
   "source": [
    "# Keep going\n",
    "\n",
    "Move on to learn all about **[scatter plots](https://www.kaggle.com/alexisbcook/scatter-plots)**!"
   ]
  },
  {
   "cell_type": "markdown",
   "id": "f52256e6",
   "metadata": {
    "papermill": {
     "duration": 0.006026,
     "end_time": "2024-12-04T15:11:54.399612",
     "exception": false,
     "start_time": "2024-12-04T15:11:54.393586",
     "status": "completed"
    },
    "tags": []
   },
   "source": [
    "---\n",
    "\n",
    "\n",
    "\n",
    "\n",
    "*Have questions or comments? Visit the [course discussion forum](https://www.kaggle.com/learn/data-visualization/discussion) to chat with other learners.*"
   ]
  }
 ],
 "metadata": {
  "kaggle": {
   "accelerator": "none",
   "dataSources": [
    {
     "datasetId": 116573,
     "sourceId": 3551030,
     "sourceType": "datasetVersion"
    }
   ],
   "isGpuEnabled": false,
   "isInternetEnabled": false,
   "language": "python",
   "sourceType": "notebook"
  },
  "kernelspec": {
   "display_name": "Python 3",
   "language": "python",
   "name": "python3"
  },
  "language_info": {
   "codemirror_mode": {
    "name": "ipython",
    "version": 3
   },
   "file_extension": ".py",
   "mimetype": "text/x-python",
   "name": "python",
   "nbconvert_exporter": "python",
   "pygments_lexer": "ipython3",
   "version": "3.10.14"
  },
  "papermill": {
   "default_parameters": {},
   "duration": 6.514558,
   "end_time": "2024-12-04T15:11:55.028786",
   "environment_variables": {},
   "exception": null,
   "input_path": "__notebook__.ipynb",
   "output_path": "__notebook__.ipynb",
   "parameters": {},
   "start_time": "2024-12-04T15:11:48.514228",
   "version": "2.6.0"
  }
 },
 "nbformat": 4,
 "nbformat_minor": 5
}
