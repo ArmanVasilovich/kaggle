{
 "cells": [
  {
   "cell_type": "markdown",
   "id": "ad6ce6dc",
   "metadata": {
    "papermill": {
     "duration": 0.005175,
     "end_time": "2024-12-04T15:07:47.109701",
     "exception": false,
     "start_time": "2024-12-04T15:07:47.104526",
     "status": "completed"
    },
    "tags": []
   },
   "source": [
    "**This notebook is an exercise in the [Data Visualization](https://www.kaggle.com/learn/data-visualization) course.  You can reference the tutorial at [this link](https://www.kaggle.com/alexisbcook/bar-charts-and-heatmaps).**\n",
    "\n",
    "---\n"
   ]
  },
  {
   "cell_type": "markdown",
   "id": "5fd6c23b",
   "metadata": {
    "papermill": {
     "duration": 0.003926,
     "end_time": "2024-12-04T15:07:47.118083",
     "exception": false,
     "start_time": "2024-12-04T15:07:47.114157",
     "status": "completed"
    },
    "tags": []
   },
   "source": [
    "In this exercise, you will use your new knowledge to propose a solution to a real-world scenario.  To succeed, you will need to import data into Python, answer questions using the data, and generate **bar charts** and **heatmaps** to understand patterns in the data.\n",
    "\n",
    "## Scenario\n",
    "\n",
    "You've recently decided to create your very own video game!  As an avid reader of [IGN Game Reviews](https://www.ign.com/reviews/games), you hear about all of the most recent game releases, along with the ranking they've received from experts, ranging from 0 (_Disaster_) to 10 (_Masterpiece_).\n",
    "\n",
    "![ex2_ign](https://storage.googleapis.com/kaggle-media/learn/images/Oh06Fu1.png)\n",
    "\n",
    "You're interested in using [IGN reviews](https://www.ign.com/reviews/games) to guide the design of your upcoming game.  Thankfully, someone has summarized the rankings in a really useful CSV file that you can use to guide your analysis.\n",
    "\n",
    "## Setup\n",
    "\n",
    "Run the next cell to import and configure the Python libraries that you need to complete the exercise."
   ]
  },
  {
   "cell_type": "code",
   "execution_count": 1,
   "id": "66d10918",
   "metadata": {
    "execution": {
     "iopub.execute_input": "2024-12-04T15:07:47.128840Z",
     "iopub.status.busy": "2024-12-04T15:07:47.128322Z",
     "iopub.status.idle": "2024-12-04T15:07:49.427667Z",
     "shell.execute_reply": "2024-12-04T15:07:49.426532Z"
    },
    "papermill": {
     "duration": 2.307823,
     "end_time": "2024-12-04T15:07:49.430134",
     "exception": false,
     "start_time": "2024-12-04T15:07:47.122311",
     "status": "completed"
    },
    "tags": []
   },
   "outputs": [
    {
     "name": "stdout",
     "output_type": "stream",
     "text": [
      "Setup Complete\n"
     ]
    }
   ],
   "source": [
    "import pandas as pd\n",
    "pd.plotting.register_matplotlib_converters()\n",
    "import matplotlib.pyplot as plt\n",
    "%matplotlib inline\n",
    "import seaborn as sns\n",
    "print(\"Setup Complete\")"
   ]
  },
  {
   "cell_type": "markdown",
   "id": "fed61a12",
   "metadata": {
    "papermill": {
     "duration": 0.005543,
     "end_time": "2024-12-04T15:07:49.440246",
     "exception": false,
     "start_time": "2024-12-04T15:07:49.434703",
     "status": "completed"
    },
    "tags": []
   },
   "source": [
    "The questions below will give you feedback on your work. Run the following cell to set up our feedback system."
   ]
  },
  {
   "cell_type": "code",
   "execution_count": 2,
   "id": "8a7b96d7",
   "metadata": {
    "execution": {
     "iopub.execute_input": "2024-12-04T15:07:49.451199Z",
     "iopub.status.busy": "2024-12-04T15:07:49.450650Z",
     "iopub.status.idle": "2024-12-04T15:07:49.507098Z",
     "shell.execute_reply": "2024-12-04T15:07:49.505767Z"
    },
    "papermill": {
     "duration": 0.064619,
     "end_time": "2024-12-04T15:07:49.509410",
     "exception": false,
     "start_time": "2024-12-04T15:07:49.444791",
     "status": "completed"
    },
    "tags": []
   },
   "outputs": [
    {
     "name": "stdout",
     "output_type": "stream",
     "text": [
      "Setup Complete\n"
     ]
    }
   ],
   "source": [
    "# Set up code checking\n",
    "import os\n",
    "if not os.path.exists(\"../input/ign_scores.csv\"):\n",
    "    os.symlink(\"../input/data-for-datavis/ign_scores.csv\", \"../input/ign_scores.csv\") \n",
    "from learntools.core import binder\n",
    "binder.bind(globals())\n",
    "from learntools.data_viz_to_coder.ex3 import *\n",
    "print(\"Setup Complete\")"
   ]
  },
  {
   "cell_type": "markdown",
   "id": "0e4c0e8f",
   "metadata": {
    "papermill": {
     "duration": 0.004105,
     "end_time": "2024-12-04T15:07:49.518258",
     "exception": false,
     "start_time": "2024-12-04T15:07:49.514153",
     "status": "completed"
    },
    "tags": []
   },
   "source": [
    "## Step 1: Load the data\n",
    "\n",
    "Read the IGN data file into `ign_data`.  Use the `\"Platform\"` column to label the rows."
   ]
  },
  {
   "cell_type": "code",
   "execution_count": 3,
   "id": "8be5cb3a",
   "metadata": {
    "execution": {
     "iopub.execute_input": "2024-12-04T15:07:49.529232Z",
     "iopub.status.busy": "2024-12-04T15:07:49.528415Z",
     "iopub.status.idle": "2024-12-04T15:07:49.541422Z",
     "shell.execute_reply": "2024-12-04T15:07:49.540401Z"
    },
    "papermill": {
     "duration": 0.02076,
     "end_time": "2024-12-04T15:07:49.543442",
     "exception": false,
     "start_time": "2024-12-04T15:07:49.522682",
     "status": "completed"
    },
    "tags": []
   },
   "outputs": [
    {
     "data": {
      "application/javascript": [
       "parent.postMessage({\"jupyterEvent\": \"custom.exercise_interaction\", \"data\": {\"outcomeType\": 1, \"valueTowardsCompletion\": 0.5, \"interactionType\": 1, \"questionType\": 1, \"questionId\": \"1_LoadIGNData\", \"learnToolsVersion\": \"0.3.4\", \"failureMessage\": \"\", \"exceptionClass\": \"\", \"trace\": \"\"}}, \"*\")"
      ],
      "text/plain": [
       "<IPython.core.display.Javascript object>"
      ]
     },
     "metadata": {},
     "output_type": "display_data"
    },
    {
     "data": {
      "text/markdown": [
       "<span style=\"color:#33cc33\">Correct</span>"
      ],
      "text/plain": [
       "Correct"
      ]
     },
     "metadata": {},
     "output_type": "display_data"
    }
   ],
   "source": [
    "ign_filepath = \"../input/ign_scores.csv\"\n",
    "ign_data = pd.read_csv(ign_filepath, index_col='Platform')\n",
    "step_1.check()"
   ]
  },
  {
   "cell_type": "markdown",
   "id": "6951cf4b",
   "metadata": {
    "papermill": {
     "duration": 0.004346,
     "end_time": "2024-12-04T15:07:49.552555",
     "exception": false,
     "start_time": "2024-12-04T15:07:49.548209",
     "status": "completed"
    },
    "tags": []
   },
   "source": [
    "## Step 2: Review the data\n",
    "\n",
    "Use a Python command to print the entire dataset."
   ]
  },
  {
   "cell_type": "code",
   "execution_count": 4,
   "id": "a8973efd",
   "metadata": {
    "execution": {
     "iopub.execute_input": "2024-12-04T15:07:49.563566Z",
     "iopub.status.busy": "2024-12-04T15:07:49.562952Z",
     "iopub.status.idle": "2024-12-04T15:07:49.569464Z",
     "shell.execute_reply": "2024-12-04T15:07:49.568407Z"
    },
    "papermill": {
     "duration": 0.014621,
     "end_time": "2024-12-04T15:07:49.571784",
     "exception": false,
     "start_time": "2024-12-04T15:07:49.557163",
     "status": "completed"
    },
    "tags": []
   },
   "outputs": [
    {
     "data": {
      "text/markdown": [],
      "text/plain": [
       "<learntools.core.constants.PlaceholderValue at 0x7ed1885e4580>"
      ]
     },
     "execution_count": 4,
     "metadata": {},
     "output_type": "execute_result"
    }
   ],
   "source": [
    "# Print the data\n",
    "____ # Your code here"
   ]
  },
  {
   "cell_type": "markdown",
   "id": "017f25b5",
   "metadata": {
    "papermill": {
     "duration": 0.004588,
     "end_time": "2024-12-04T15:07:49.581288",
     "exception": false,
     "start_time": "2024-12-04T15:07:49.576700",
     "status": "completed"
    },
    "tags": []
   },
   "source": [
    "The dataset that you've just printed shows the average score, by platform and genre.  Use the data to answer the questions below."
   ]
  },
  {
   "cell_type": "code",
   "execution_count": 5,
   "id": "5cda03f4",
   "metadata": {
    "execution": {
     "iopub.execute_input": "2024-12-04T15:07:49.592225Z",
     "iopub.status.busy": "2024-12-04T15:07:49.591806Z",
     "iopub.status.idle": "2024-12-04T15:07:49.601251Z",
     "shell.execute_reply": "2024-12-04T15:07:49.599940Z"
    },
    "papermill": {
     "duration": 0.017633,
     "end_time": "2024-12-04T15:07:49.603565",
     "exception": false,
     "start_time": "2024-12-04T15:07:49.585932",
     "status": "completed"
    },
    "tags": []
   },
   "outputs": [
    {
     "data": {
      "application/javascript": [
       "parent.postMessage({\"jupyterEvent\": \"custom.exercise_interaction\", \"data\": {\"outcomeType\": 4, \"interactionType\": 1, \"questionType\": 1, \"questionId\": \"2_ReviewData\", \"learnToolsVersion\": \"0.3.4\", \"valueTowardsCompletion\": 0.0, \"failureMessage\": \"\", \"exceptionClass\": \"\", \"trace\": \"\"}}, \"*\")"
      ],
      "text/plain": [
       "<IPython.core.display.Javascript object>"
      ]
     },
     "metadata": {},
     "output_type": "display_data"
    },
    {
     "data": {
      "text/markdown": [
       "<span style=\"color:#ccaa33\">Check:</span> When you've updated the starter code, `check()` will tell you whether your code is correct. You need to update the code that creates variables `high_score`, `worst_genre`"
      ],
      "text/plain": [
       "Check: When you've updated the starter code, `check()` will tell you whether your code is correct. You need to update the code that creates variables `high_score`, `worst_genre`"
      ]
     },
     "metadata": {},
     "output_type": "display_data"
    }
   ],
   "source": [
    "# Fill in the line below: What is the highest average score received by PC games,\n",
    "# for any genre?\n",
    "high_score = ____\n",
    "\n",
    "# Fill in the line below: On the Playstation Vita platform, which genre has the \n",
    "# lowest average score? Please provide the name of the column, and put your answer \n",
    "# in single quotes (e.g., 'Action', 'Adventure', 'Fighting', etc.)\n",
    "worst_genre = ____\n",
    "\n",
    "# Check your answers\n",
    "step_2.check()"
   ]
  },
  {
   "cell_type": "code",
   "execution_count": 6,
   "id": "1e8ef0f9",
   "metadata": {
    "execution": {
     "iopub.execute_input": "2024-12-04T15:07:49.615670Z",
     "iopub.status.busy": "2024-12-04T15:07:49.615300Z",
     "iopub.status.idle": "2024-12-04T15:07:49.619778Z",
     "shell.execute_reply": "2024-12-04T15:07:49.618924Z"
    },
    "papermill": {
     "duration": 0.012724,
     "end_time": "2024-12-04T15:07:49.621678",
     "exception": false,
     "start_time": "2024-12-04T15:07:49.608954",
     "status": "completed"
    },
    "tags": []
   },
   "outputs": [],
   "source": [
    "# Lines below will give you a hint or solution code\n",
    "#step_2.hint()\n",
    "#step_2.solution()"
   ]
  },
  {
   "cell_type": "markdown",
   "id": "e238ea7e",
   "metadata": {
    "papermill": {
     "duration": 0.004885,
     "end_time": "2024-12-04T15:07:49.631965",
     "exception": false,
     "start_time": "2024-12-04T15:07:49.627080",
     "status": "completed"
    },
    "tags": []
   },
   "source": [
    "## Step 3: Which platform is best?\n",
    "\n",
    "Since you can remember, your favorite video game has been [**Mario Kart Wii**](https://www.ign.com/games/mario-kart-wii), a racing game released for the Wii platform in 2008.  And, IGN agrees with you that it is a great game -- their rating for this game is a whopping 8.9!  Inspired by the success of this game, you're considering creating your very own racing game for the Wii platform.\n",
    "\n",
    "#### Part A\n",
    "\n",
    "Create a bar chart that shows the average score for **racing** games, for each platform.  Your chart should have one bar for each platform. "
   ]
  },
  {
   "cell_type": "code",
   "execution_count": 7,
   "id": "ccd348d3",
   "metadata": {
    "execution": {
     "iopub.execute_input": "2024-12-04T15:07:49.644361Z",
     "iopub.status.busy": "2024-12-04T15:07:49.643507Z",
     "iopub.status.idle": "2024-12-04T15:07:49.663669Z",
     "shell.execute_reply": "2024-12-04T15:07:49.662592Z"
    },
    "papermill": {
     "duration": 0.028601,
     "end_time": "2024-12-04T15:07:49.665774",
     "exception": false,
     "start_time": "2024-12-04T15:07:49.637173",
     "status": "completed"
    },
    "tags": []
   },
   "outputs": [
    {
     "data": {
      "application/javascript": [
       "parent.postMessage({\"jupyterEvent\": \"custom.exercise_interaction\", \"data\": {\"outcomeType\": 2, \"failureMessage\": \"Please write code to create a bar chart.\", \"interactionType\": 1, \"questionType\": 2, \"questionId\": \"3.1_PlotRacing\", \"learnToolsVersion\": \"0.3.4\", \"valueTowardsCompletion\": 0.0, \"exceptionClass\": \"\", \"trace\": \"\"}}, \"*\")"
      ],
      "text/plain": [
       "<IPython.core.display.Javascript object>"
      ]
     },
     "metadata": {},
     "output_type": "display_data"
    },
    {
     "data": {
      "text/markdown": [
       "<span style=\"color:#cc3333\">Incorrect:</span> Please write code to create a bar chart."
      ],
      "text/plain": [
       "Incorrect: Please write code to create a bar chart."
      ]
     },
     "metadata": {},
     "output_type": "display_data"
    },
    {
     "data": {
      "text/plain": [
       "<Figure size 640x480 with 0 Axes>"
      ]
     },
     "metadata": {},
     "output_type": "display_data"
    }
   ],
   "source": [
    "# Bar chart showing average score for racing games by platform\n",
    "____ # Your code here\n",
    "\n",
    "# Check your answer\n",
    "step_3.a.check()"
   ]
  },
  {
   "cell_type": "code",
   "execution_count": 8,
   "id": "36d05b6a",
   "metadata": {
    "execution": {
     "iopub.execute_input": "2024-12-04T15:07:49.678762Z",
     "iopub.status.busy": "2024-12-04T15:07:49.677936Z",
     "iopub.status.idle": "2024-12-04T15:07:49.682366Z",
     "shell.execute_reply": "2024-12-04T15:07:49.681356Z"
    },
    "papermill": {
     "duration": 0.013116,
     "end_time": "2024-12-04T15:07:49.684386",
     "exception": false,
     "start_time": "2024-12-04T15:07:49.671270",
     "status": "completed"
    },
    "tags": []
   },
   "outputs": [],
   "source": [
    "# Lines below will give you a hint or solution code\n",
    "#step_3.a.hint()\n",
    "#step_3.a.solution_plot()"
   ]
  },
  {
   "cell_type": "markdown",
   "id": "236d71d1",
   "metadata": {
    "papermill": {
     "duration": 0.005416,
     "end_time": "2024-12-04T15:07:49.695423",
     "exception": false,
     "start_time": "2024-12-04T15:07:49.690007",
     "status": "completed"
    },
    "tags": []
   },
   "source": [
    "#### Part B\n",
    "\n",
    "Based on the bar chart, do you expect a racing game for the **Wii** platform to receive a high rating?  If not, what gaming platform seems to be the best alternative?"
   ]
  },
  {
   "cell_type": "code",
   "execution_count": 9,
   "id": "14b61924",
   "metadata": {
    "execution": {
     "iopub.execute_input": "2024-12-04T15:07:49.708469Z",
     "iopub.status.busy": "2024-12-04T15:07:49.707726Z",
     "iopub.status.idle": "2024-12-04T15:07:49.712193Z",
     "shell.execute_reply": "2024-12-04T15:07:49.711141Z"
    },
    "papermill": {
     "duration": 0.013309,
     "end_time": "2024-12-04T15:07:49.714329",
     "exception": false,
     "start_time": "2024-12-04T15:07:49.701020",
     "status": "completed"
    },
    "tags": []
   },
   "outputs": [],
   "source": [
    "#step_3.b.hint()"
   ]
  },
  {
   "cell_type": "code",
   "execution_count": 10,
   "id": "6954079d",
   "metadata": {
    "execution": {
     "iopub.execute_input": "2024-12-04T15:07:49.727855Z",
     "iopub.status.busy": "2024-12-04T15:07:49.726776Z",
     "iopub.status.idle": "2024-12-04T15:07:49.734986Z",
     "shell.execute_reply": "2024-12-04T15:07:49.733951Z"
    },
    "papermill": {
     "duration": 0.016876,
     "end_time": "2024-12-04T15:07:49.737001",
     "exception": false,
     "start_time": "2024-12-04T15:07:49.720125",
     "status": "completed"
    },
    "tags": []
   },
   "outputs": [
    {
     "data": {
      "application/javascript": [
       "parent.postMessage({\"jupyterEvent\": \"custom.exercise_interaction\", \"data\": {\"interactionType\": 3, \"questionType\": 4, \"questionId\": \"3.2_ThinkRacing\", \"learnToolsVersion\": \"0.3.4\", \"valueTowardsCompletion\": 0.0, \"failureMessage\": \"\", \"exceptionClass\": \"\", \"trace\": \"\", \"outcomeType\": 4}}, \"*\")"
      ],
      "text/plain": [
       "<IPython.core.display.Javascript object>"
      ]
     },
     "metadata": {},
     "output_type": "display_data"
    },
    {
     "data": {
      "text/markdown": [
       "<span style=\"color:#33cc99\">Solution:</span> Based on the data, we should not expect a racing game for the Wii platform to receive a high rating.  In fact, on average, racing games for Wii score lower than any other platform.  Xbox One seems to be the best alternative, since it has the highest average ratings."
      ],
      "text/plain": [
       "Solution: Based on the data, we should not expect a racing game for the Wii platform to receive a high rating.  In fact, on average, racing games for Wii score lower than any other platform.  Xbox One seems to be the best alternative, since it has the highest average ratings."
      ]
     },
     "metadata": {},
     "output_type": "display_data"
    }
   ],
   "source": [
    "# Check your answer (Run this code cell to receive credit!)\n",
    "step_3.b.solution()"
   ]
  },
  {
   "cell_type": "markdown",
   "id": "bcab9293",
   "metadata": {
    "papermill": {
     "duration": 0.005431,
     "end_time": "2024-12-04T15:07:49.748097",
     "exception": false,
     "start_time": "2024-12-04T15:07:49.742666",
     "status": "completed"
    },
    "tags": []
   },
   "source": [
    "## Step 4: All possible combinations!\n",
    "\n",
    "Eventually, you decide against creating a racing game for Wii, but you're still committed to creating your own video game!  Since your gaming interests are pretty broad (_... you generally love most video games_), you decide to use the IGN data to inform your new choice of genre and platform.\n",
    "\n",
    "#### Part A\n",
    "\n",
    "Use the data to create a heatmap of average score by genre and platform.  "
   ]
  },
  {
   "cell_type": "code",
   "execution_count": 11,
   "id": "545983bd",
   "metadata": {
    "execution": {
     "iopub.execute_input": "2024-12-04T15:07:49.761475Z",
     "iopub.status.busy": "2024-12-04T15:07:49.760735Z",
     "iopub.status.idle": "2024-12-04T15:07:49.774652Z",
     "shell.execute_reply": "2024-12-04T15:07:49.773664Z"
    },
    "papermill": {
     "duration": 0.023009,
     "end_time": "2024-12-04T15:07:49.776798",
     "exception": false,
     "start_time": "2024-12-04T15:07:49.753789",
     "status": "completed"
    },
    "tags": []
   },
   "outputs": [
    {
     "data": {
      "application/javascript": [
       "parent.postMessage({\"jupyterEvent\": \"custom.exercise_interaction\", \"data\": {\"outcomeType\": 2, \"failureMessage\": \"Please write code to create a heatmap.\", \"interactionType\": 1, \"questionType\": 2, \"questionId\": \"4.1_PlotHeat\", \"learnToolsVersion\": \"0.3.4\", \"valueTowardsCompletion\": 0.0, \"exceptionClass\": \"\", \"trace\": \"\"}}, \"*\")"
      ],
      "text/plain": [
       "<IPython.core.display.Javascript object>"
      ]
     },
     "metadata": {},
     "output_type": "display_data"
    },
    {
     "data": {
      "text/markdown": [
       "<span style=\"color:#cc3333\">Incorrect:</span> Please write code to create a heatmap."
      ],
      "text/plain": [
       "Incorrect: Please write code to create a heatmap."
      ]
     },
     "metadata": {},
     "output_type": "display_data"
    },
    {
     "data": {
      "text/plain": [
       "<Figure size 640x480 with 0 Axes>"
      ]
     },
     "metadata": {},
     "output_type": "display_data"
    }
   ],
   "source": [
    "# Heatmap showing average game score by platform and genre\n",
    "____ # Your code here\n",
    "\n",
    "# Check your answer\n",
    "step_4.a.check()"
   ]
  },
  {
   "cell_type": "code",
   "execution_count": 12,
   "id": "9237e405",
   "metadata": {
    "execution": {
     "iopub.execute_input": "2024-12-04T15:07:49.790541Z",
     "iopub.status.busy": "2024-12-04T15:07:49.790151Z",
     "iopub.status.idle": "2024-12-04T15:07:49.794782Z",
     "shell.execute_reply": "2024-12-04T15:07:49.793704Z"
    },
    "papermill": {
     "duration": 0.014011,
     "end_time": "2024-12-04T15:07:49.796862",
     "exception": false,
     "start_time": "2024-12-04T15:07:49.782851",
     "status": "completed"
    },
    "tags": []
   },
   "outputs": [],
   "source": [
    "# Lines below will give you a hint or solution code\n",
    "#step_4.a.hint()\n",
    "#step_4.a.solution_plot()"
   ]
  },
  {
   "cell_type": "markdown",
   "id": "8deda66a",
   "metadata": {
    "papermill": {
     "duration": 0.005763,
     "end_time": "2024-12-04T15:07:49.808867",
     "exception": false,
     "start_time": "2024-12-04T15:07:49.803104",
     "status": "completed"
    },
    "tags": []
   },
   "source": [
    "#### Part B\n",
    "\n",
    "Which combination of genre and platform receives the highest average ratings?  Which combination receives the lowest average rankings?"
   ]
  },
  {
   "cell_type": "code",
   "execution_count": 13,
   "id": "3efe3740",
   "metadata": {
    "execution": {
     "iopub.execute_input": "2024-12-04T15:07:49.822853Z",
     "iopub.status.busy": "2024-12-04T15:07:49.822437Z",
     "iopub.status.idle": "2024-12-04T15:07:49.827431Z",
     "shell.execute_reply": "2024-12-04T15:07:49.826384Z"
    },
    "papermill": {
     "duration": 0.014551,
     "end_time": "2024-12-04T15:07:49.829510",
     "exception": false,
     "start_time": "2024-12-04T15:07:49.814959",
     "status": "completed"
    },
    "tags": []
   },
   "outputs": [],
   "source": [
    "#step_4.b.hint()"
   ]
  },
  {
   "cell_type": "code",
   "execution_count": 14,
   "id": "6db9b9af",
   "metadata": {
    "execution": {
     "iopub.execute_input": "2024-12-04T15:07:49.843597Z",
     "iopub.status.busy": "2024-12-04T15:07:49.842862Z",
     "iopub.status.idle": "2024-12-04T15:07:49.851652Z",
     "shell.execute_reply": "2024-12-04T15:07:49.850558Z"
    },
    "papermill": {
     "duration": 0.017989,
     "end_time": "2024-12-04T15:07:49.853660",
     "exception": false,
     "start_time": "2024-12-04T15:07:49.835671",
     "status": "completed"
    },
    "tags": []
   },
   "outputs": [
    {
     "data": {
      "application/javascript": [
       "parent.postMessage({\"jupyterEvent\": \"custom.exercise_interaction\", \"data\": {\"interactionType\": 3, \"questionType\": 4, \"questionId\": \"4.2_ThinkHeat\", \"learnToolsVersion\": \"0.3.4\", \"valueTowardsCompletion\": 0.0, \"failureMessage\": \"\", \"exceptionClass\": \"\", \"trace\": \"\", \"outcomeType\": 4}}, \"*\")"
      ],
      "text/plain": [
       "<IPython.core.display.Javascript object>"
      ]
     },
     "metadata": {},
     "output_type": "display_data"
    },
    {
     "data": {
      "text/markdown": [
       "<span style=\"color:#33cc99\">Solution:</span> **Simulation** games for **Playstation 4** receive the highest average ratings (9.2). **Shooting** and **Fighting** games for **Game Boy Color** receive the lowest average rankings (4.5)."
      ],
      "text/plain": [
       "Solution: **Simulation** games for **Playstation 4** receive the highest average ratings (9.2). **Shooting** and **Fighting** games for **Game Boy Color** receive the lowest average rankings (4.5)."
      ]
     },
     "metadata": {},
     "output_type": "display_data"
    }
   ],
   "source": [
    "# Check your answer (Run this code cell to receive credit!)\n",
    "step_4.b.solution()"
   ]
  },
  {
   "cell_type": "markdown",
   "id": "c86a4157",
   "metadata": {
    "papermill": {
     "duration": 0.006027,
     "end_time": "2024-12-04T15:07:49.866287",
     "exception": false,
     "start_time": "2024-12-04T15:07:49.860260",
     "status": "completed"
    },
    "tags": []
   },
   "source": [
    "# Keep going\n",
    "\n",
    "Move on to learn all about **[scatter plots](https://www.kaggle.com/alexisbcook/scatter-plots)**!"
   ]
  },
  {
   "cell_type": "markdown",
   "id": "986e43a6",
   "metadata": {
    "papermill": {
     "duration": 0.006011,
     "end_time": "2024-12-04T15:07:49.878575",
     "exception": false,
     "start_time": "2024-12-04T15:07:49.872564",
     "status": "completed"
    },
    "tags": []
   },
   "source": [
    "---\n",
    "\n",
    "\n",
    "\n",
    "\n",
    "*Have questions or comments? Visit the [course discussion forum](https://www.kaggle.com/learn/data-visualization/discussion) to chat with other learners.*"
   ]
  }
 ],
 "metadata": {
  "kaggle": {
   "accelerator": "none",
   "dataSources": [
    {
     "datasetId": 116573,
     "sourceId": 3551030,
     "sourceType": "datasetVersion"
    }
   ],
   "isGpuEnabled": false,
   "isInternetEnabled": false,
   "language": "python",
   "sourceType": "notebook"
  },
  "kernelspec": {
   "display_name": "Python 3",
   "language": "python",
   "name": "python3"
  },
  "language_info": {
   "codemirror_mode": {
    "name": "ipython",
    "version": 3
   },
   "file_extension": ".py",
   "mimetype": "text/x-python",
   "name": "python",
   "nbconvert_exporter": "python",
   "pygments_lexer": "ipython3",
   "version": "3.10.14"
  },
  "papermill": {
   "default_parameters": {},
   "duration": 6.023036,
   "end_time": "2024-12-04T15:07:50.506164",
   "environment_variables": {},
   "exception": null,
   "input_path": "__notebook__.ipynb",
   "output_path": "__notebook__.ipynb",
   "parameters": {},
   "start_time": "2024-12-04T15:07:44.483128",
   "version": "2.6.0"
  }
 },
 "nbformat": 4,
 "nbformat_minor": 5
}
