{
 "cells": [
  {
   "cell_type": "markdown",
   "id": "b17b7054",
   "metadata": {
    "papermill": {
     "duration": 0.008201,
     "end_time": "2024-12-07T08:17:17.410275",
     "exception": false,
     "start_time": "2024-12-07T08:17:17.402074",
     "status": "completed"
    },
    "tags": []
   },
   "source": [
    "**This notebook is an exercise in the [Data Visualization](https://www.kaggle.com/learn/data-visualization) course.  You can reference the tutorial at [this link](https://www.kaggle.com/alexisbcook/distributions).**\n",
    "\n",
    "---\n"
   ]
  },
  {
   "cell_type": "markdown",
   "id": "ec323ed1",
   "metadata": {
    "papermill": {
     "duration": 0.004472,
     "end_time": "2024-12-07T08:17:17.420318",
     "exception": false,
     "start_time": "2024-12-07T08:17:17.415846",
     "status": "completed"
    },
    "tags": []
   },
   "source": [
    "In this exercise, you will use your new knowledge to propose a solution to a real-world scenario.  To succeed, you will need to import data into Python, answer questions using the data, and generate **histograms** and **density plots** to understand patterns in the data.\n",
    "\n",
    "## Scenario\n",
    "\n",
    "You'll work with a real-world dataset containing information collected from microscopic images of breast cancer tumors, similar to the image below.\n",
    "\n",
    "![ex4_cancer_image](https://storage.googleapis.com/kaggle-media/learn/images/qUESsJe.png)\n",
    "\n",
    "Each tumor has been labeled as either [**benign**](https://en.wikipedia.org/wiki/Benign_tumor) (_noncancerous_) or **malignant** (_cancerous_).\n",
    "\n",
    "To learn more about how this kind of data is used to create intelligent algorithms to classify tumors in medical settings, **watch the short video [at this link](https://www.youtube.com/watch?v=9Mz84cwVmS0)**."
   ]
  },
  {
   "cell_type": "markdown",
   "id": "978706e7",
   "metadata": {
    "papermill": {
     "duration": 0.004382,
     "end_time": "2024-12-07T08:17:17.429838",
     "exception": false,
     "start_time": "2024-12-07T08:17:17.425456",
     "status": "completed"
    },
    "tags": []
   },
   "source": [
    "\n",
    "\n",
    "## Setup\n",
    "\n",
    "Run the next cell to import and configure the Python libraries that you need to complete the exercise."
   ]
  },
  {
   "cell_type": "code",
   "execution_count": 1,
   "id": "c6d05cad",
   "metadata": {
    "execution": {
     "iopub.execute_input": "2024-12-07T08:17:17.441641Z",
     "iopub.status.busy": "2024-12-07T08:17:17.441247Z",
     "iopub.status.idle": "2024-12-07T08:17:20.404077Z",
     "shell.execute_reply": "2024-12-07T08:17:20.402686Z"
    },
    "papermill": {
     "duration": 2.973129,
     "end_time": "2024-12-07T08:17:20.407487",
     "exception": false,
     "start_time": "2024-12-07T08:17:17.434358",
     "status": "completed"
    },
    "tags": []
   },
   "outputs": [
    {
     "name": "stdout",
     "output_type": "stream",
     "text": [
      "Setup Complete\n"
     ]
    }
   ],
   "source": [
    "import pandas as pd\n",
    "pd.plotting.register_matplotlib_converters()\n",
    "import matplotlib.pyplot as plt\n",
    "%matplotlib inline\n",
    "import seaborn as sns\n",
    "print(\"Setup Complete\")"
   ]
  },
  {
   "cell_type": "markdown",
   "id": "42b42eac",
   "metadata": {
    "papermill": {
     "duration": 0.004724,
     "end_time": "2024-12-07T08:17:20.417379",
     "exception": false,
     "start_time": "2024-12-07T08:17:20.412655",
     "status": "completed"
    },
    "tags": []
   },
   "source": [
    "The questions below will give you feedback on your work. Run the following cell to set up our feedback system."
   ]
  },
  {
   "cell_type": "code",
   "execution_count": 2,
   "id": "91147bea",
   "metadata": {
    "execution": {
     "iopub.execute_input": "2024-12-07T08:17:20.428689Z",
     "iopub.status.busy": "2024-12-07T08:17:20.428167Z",
     "iopub.status.idle": "2024-12-07T08:17:20.515350Z",
     "shell.execute_reply": "2024-12-07T08:17:20.514196Z"
    },
    "papermill": {
     "duration": 0.09579,
     "end_time": "2024-12-07T08:17:20.517880",
     "exception": false,
     "start_time": "2024-12-07T08:17:20.422090",
     "status": "completed"
    },
    "tags": []
   },
   "outputs": [
    {
     "name": "stdout",
     "output_type": "stream",
     "text": [
      "Setup Complete\n"
     ]
    }
   ],
   "source": [
    "# Set up code checking\n",
    "from learntools.core import binder\n",
    "binder.bind(globals())\n",
    "from learntools.data_viz_to_coder.ex5 import *\n",
    "print(\"Setup Complete\")"
   ]
  },
  {
   "cell_type": "markdown",
   "id": "867a8d76",
   "metadata": {
    "papermill": {
     "duration": 0.004439,
     "end_time": "2024-12-07T08:17:20.527473",
     "exception": false,
     "start_time": "2024-12-07T08:17:20.523034",
     "status": "completed"
    },
    "tags": []
   },
   "source": [
    "## Step 1: Load the data\n",
    "\n",
    "In this step, you will load the data.\n",
    "- Load the data file into a DataFrame called `cancer_data`.  \n",
    "- The corresponding filepath is `cancer_filepath`.  \n",
    "- Use the `\"Id\"` column to label the rows."
   ]
  },
  {
   "cell_type": "code",
   "execution_count": 3,
   "id": "fddeafd2",
   "metadata": {
    "execution": {
     "iopub.execute_input": "2024-12-07T08:17:20.539661Z",
     "iopub.status.busy": "2024-12-07T08:17:20.539267Z",
     "iopub.status.idle": "2024-12-07T08:17:20.557951Z",
     "shell.execute_reply": "2024-12-07T08:17:20.556720Z"
    },
    "papermill": {
     "duration": 0.027741,
     "end_time": "2024-12-07T08:17:20.560357",
     "exception": false,
     "start_time": "2024-12-07T08:17:20.532616",
     "status": "completed"
    },
    "tags": []
   },
   "outputs": [
    {
     "data": {
      "application/javascript": [
       "parent.postMessage({\"jupyterEvent\": \"custom.exercise_interaction\", \"data\": {\"outcomeType\": 1, \"valueTowardsCompletion\": 0.5, \"interactionType\": 1, \"questionType\": 1, \"questionId\": \"1_LoadCancerData\", \"learnToolsVersion\": \"0.3.4\", \"failureMessage\": \"\", \"exceptionClass\": \"\", \"trace\": \"\"}}, \"*\")"
      ],
      "text/plain": [
       "<IPython.core.display.Javascript object>"
      ]
     },
     "metadata": {},
     "output_type": "display_data"
    },
    {
     "data": {
      "text/markdown": [
       "<span style=\"color:#33cc33\">Correct</span>"
      ],
      "text/plain": [
       "Correct"
      ]
     },
     "metadata": {},
     "output_type": "display_data"
    }
   ],
   "source": [
    "# Path of the files to read\n",
    "cancer_filepath = \"../input/cancer.csv\"\n",
    "\n",
    "# Fill in the line below to read the file into a variable cancer_data\n",
    "cancer_data = pd.read_csv(cancer_filepath, index_col='Id')\n",
    "\n",
    "# Run the line below with no changes to check that you've loaded the data correctly\n",
    "step_1.check()"
   ]
  },
  {
   "cell_type": "markdown",
   "id": "7495a81d",
   "metadata": {
    "papermill": {
     "duration": 0.005276,
     "end_time": "2024-12-07T08:17:20.573381",
     "exception": false,
     "start_time": "2024-12-07T08:17:20.568105",
     "status": "completed"
    },
    "tags": []
   },
   "source": [
    "## Step 2: Review the data\n",
    "\n",
    "Use a Python command to print the first 5 rows of the data."
   ]
  },
  {
   "cell_type": "code",
   "execution_count": 4,
   "id": "34981817",
   "metadata": {
    "execution": {
     "iopub.execute_input": "2024-12-07T08:17:20.585425Z",
     "iopub.status.busy": "2024-12-07T08:17:20.584996Z",
     "iopub.status.idle": "2024-12-07T08:17:20.622277Z",
     "shell.execute_reply": "2024-12-07T08:17:20.621151Z"
    },
    "papermill": {
     "duration": 0.045913,
     "end_time": "2024-12-07T08:17:20.624809",
     "exception": false,
     "start_time": "2024-12-07T08:17:20.578896",
     "status": "completed"
    },
    "tags": []
   },
   "outputs": [
    {
     "data": {
      "text/html": [
       "<div>\n",
       "<style scoped>\n",
       "    .dataframe tbody tr th:only-of-type {\n",
       "        vertical-align: middle;\n",
       "    }\n",
       "\n",
       "    .dataframe tbody tr th {\n",
       "        vertical-align: top;\n",
       "    }\n",
       "\n",
       "    .dataframe thead th {\n",
       "        text-align: right;\n",
       "    }\n",
       "</style>\n",
       "<table border=\"1\" class=\"dataframe\">\n",
       "  <thead>\n",
       "    <tr style=\"text-align: right;\">\n",
       "      <th></th>\n",
       "      <th>Diagnosis</th>\n",
       "      <th>Radius (mean)</th>\n",
       "      <th>Texture (mean)</th>\n",
       "      <th>Perimeter (mean)</th>\n",
       "      <th>Area (mean)</th>\n",
       "      <th>Smoothness (mean)</th>\n",
       "      <th>Compactness (mean)</th>\n",
       "      <th>Concavity (mean)</th>\n",
       "      <th>Concave points (mean)</th>\n",
       "      <th>Symmetry (mean)</th>\n",
       "      <th>...</th>\n",
       "      <th>Radius (worst)</th>\n",
       "      <th>Texture (worst)</th>\n",
       "      <th>Perimeter (worst)</th>\n",
       "      <th>Area (worst)</th>\n",
       "      <th>Smoothness (worst)</th>\n",
       "      <th>Compactness (worst)</th>\n",
       "      <th>Concavity (worst)</th>\n",
       "      <th>Concave points (worst)</th>\n",
       "      <th>Symmetry (worst)</th>\n",
       "      <th>Fractal dimension (worst)</th>\n",
       "    </tr>\n",
       "    <tr>\n",
       "      <th>Id</th>\n",
       "      <th></th>\n",
       "      <th></th>\n",
       "      <th></th>\n",
       "      <th></th>\n",
       "      <th></th>\n",
       "      <th></th>\n",
       "      <th></th>\n",
       "      <th></th>\n",
       "      <th></th>\n",
       "      <th></th>\n",
       "      <th></th>\n",
       "      <th></th>\n",
       "      <th></th>\n",
       "      <th></th>\n",
       "      <th></th>\n",
       "      <th></th>\n",
       "      <th></th>\n",
       "      <th></th>\n",
       "      <th></th>\n",
       "      <th></th>\n",
       "      <th></th>\n",
       "    </tr>\n",
       "  </thead>\n",
       "  <tbody>\n",
       "    <tr>\n",
       "      <th>8510426</th>\n",
       "      <td>B</td>\n",
       "      <td>13.540</td>\n",
       "      <td>14.36</td>\n",
       "      <td>87.46</td>\n",
       "      <td>566.3</td>\n",
       "      <td>0.09779</td>\n",
       "      <td>0.08129</td>\n",
       "      <td>0.06664</td>\n",
       "      <td>0.047810</td>\n",
       "      <td>0.1885</td>\n",
       "      <td>...</td>\n",
       "      <td>15.110</td>\n",
       "      <td>19.26</td>\n",
       "      <td>99.70</td>\n",
       "      <td>711.2</td>\n",
       "      <td>0.14400</td>\n",
       "      <td>0.17730</td>\n",
       "      <td>0.23900</td>\n",
       "      <td>0.12880</td>\n",
       "      <td>0.2977</td>\n",
       "      <td>0.07259</td>\n",
       "    </tr>\n",
       "    <tr>\n",
       "      <th>8510653</th>\n",
       "      <td>B</td>\n",
       "      <td>13.080</td>\n",
       "      <td>15.71</td>\n",
       "      <td>85.63</td>\n",
       "      <td>520.0</td>\n",
       "      <td>0.10750</td>\n",
       "      <td>0.12700</td>\n",
       "      <td>0.04568</td>\n",
       "      <td>0.031100</td>\n",
       "      <td>0.1967</td>\n",
       "      <td>...</td>\n",
       "      <td>14.500</td>\n",
       "      <td>20.49</td>\n",
       "      <td>96.09</td>\n",
       "      <td>630.5</td>\n",
       "      <td>0.13120</td>\n",
       "      <td>0.27760</td>\n",
       "      <td>0.18900</td>\n",
       "      <td>0.07283</td>\n",
       "      <td>0.3184</td>\n",
       "      <td>0.08183</td>\n",
       "    </tr>\n",
       "    <tr>\n",
       "      <th>8510824</th>\n",
       "      <td>B</td>\n",
       "      <td>9.504</td>\n",
       "      <td>12.44</td>\n",
       "      <td>60.34</td>\n",
       "      <td>273.9</td>\n",
       "      <td>0.10240</td>\n",
       "      <td>0.06492</td>\n",
       "      <td>0.02956</td>\n",
       "      <td>0.020760</td>\n",
       "      <td>0.1815</td>\n",
       "      <td>...</td>\n",
       "      <td>10.230</td>\n",
       "      <td>15.66</td>\n",
       "      <td>65.13</td>\n",
       "      <td>314.9</td>\n",
       "      <td>0.13240</td>\n",
       "      <td>0.11480</td>\n",
       "      <td>0.08867</td>\n",
       "      <td>0.06227</td>\n",
       "      <td>0.2450</td>\n",
       "      <td>0.07773</td>\n",
       "    </tr>\n",
       "    <tr>\n",
       "      <th>854941</th>\n",
       "      <td>B</td>\n",
       "      <td>13.030</td>\n",
       "      <td>18.42</td>\n",
       "      <td>82.61</td>\n",
       "      <td>523.8</td>\n",
       "      <td>0.08983</td>\n",
       "      <td>0.03766</td>\n",
       "      <td>0.02562</td>\n",
       "      <td>0.029230</td>\n",
       "      <td>0.1467</td>\n",
       "      <td>...</td>\n",
       "      <td>13.300</td>\n",
       "      <td>22.81</td>\n",
       "      <td>84.46</td>\n",
       "      <td>545.9</td>\n",
       "      <td>0.09701</td>\n",
       "      <td>0.04619</td>\n",
       "      <td>0.04833</td>\n",
       "      <td>0.05013</td>\n",
       "      <td>0.1987</td>\n",
       "      <td>0.06169</td>\n",
       "    </tr>\n",
       "    <tr>\n",
       "      <th>85713702</th>\n",
       "      <td>B</td>\n",
       "      <td>8.196</td>\n",
       "      <td>16.84</td>\n",
       "      <td>51.71</td>\n",
       "      <td>201.9</td>\n",
       "      <td>0.08600</td>\n",
       "      <td>0.05943</td>\n",
       "      <td>0.01588</td>\n",
       "      <td>0.005917</td>\n",
       "      <td>0.1769</td>\n",
       "      <td>...</td>\n",
       "      <td>8.964</td>\n",
       "      <td>21.96</td>\n",
       "      <td>57.26</td>\n",
       "      <td>242.2</td>\n",
       "      <td>0.12970</td>\n",
       "      <td>0.13570</td>\n",
       "      <td>0.06880</td>\n",
       "      <td>0.02564</td>\n",
       "      <td>0.3105</td>\n",
       "      <td>0.07409</td>\n",
       "    </tr>\n",
       "  </tbody>\n",
       "</table>\n",
       "<p>5 rows × 31 columns</p>\n",
       "</div>"
      ],
      "text/plain": [
       "         Diagnosis  Radius (mean)  Texture (mean)  Perimeter (mean)  \\\n",
       "Id                                                                    \n",
       "8510426          B         13.540           14.36             87.46   \n",
       "8510653          B         13.080           15.71             85.63   \n",
       "8510824          B          9.504           12.44             60.34   \n",
       "854941           B         13.030           18.42             82.61   \n",
       "85713702         B          8.196           16.84             51.71   \n",
       "\n",
       "          Area (mean)  Smoothness (mean)  Compactness (mean)  \\\n",
       "Id                                                             \n",
       "8510426         566.3            0.09779             0.08129   \n",
       "8510653         520.0            0.10750             0.12700   \n",
       "8510824         273.9            0.10240             0.06492   \n",
       "854941          523.8            0.08983             0.03766   \n",
       "85713702        201.9            0.08600             0.05943   \n",
       "\n",
       "          Concavity (mean)  Concave points (mean)  Symmetry (mean)  ...  \\\n",
       "Id                                                                  ...   \n",
       "8510426            0.06664               0.047810           0.1885  ...   \n",
       "8510653            0.04568               0.031100           0.1967  ...   \n",
       "8510824            0.02956               0.020760           0.1815  ...   \n",
       "854941             0.02562               0.029230           0.1467  ...   \n",
       "85713702           0.01588               0.005917           0.1769  ...   \n",
       "\n",
       "          Radius (worst)  Texture (worst)  Perimeter (worst)  Area (worst)  \\\n",
       "Id                                                                           \n",
       "8510426           15.110            19.26              99.70         711.2   \n",
       "8510653           14.500            20.49              96.09         630.5   \n",
       "8510824           10.230            15.66              65.13         314.9   \n",
       "854941            13.300            22.81              84.46         545.9   \n",
       "85713702           8.964            21.96              57.26         242.2   \n",
       "\n",
       "          Smoothness (worst)  Compactness (worst)  Concavity (worst)  \\\n",
       "Id                                                                     \n",
       "8510426              0.14400              0.17730            0.23900   \n",
       "8510653              0.13120              0.27760            0.18900   \n",
       "8510824              0.13240              0.11480            0.08867   \n",
       "854941               0.09701              0.04619            0.04833   \n",
       "85713702             0.12970              0.13570            0.06880   \n",
       "\n",
       "          Concave points (worst)  Symmetry (worst)  Fractal dimension (worst)  \n",
       "Id                                                                             \n",
       "8510426                  0.12880            0.2977                    0.07259  \n",
       "8510653                  0.07283            0.3184                    0.08183  \n",
       "8510824                  0.06227            0.2450                    0.07773  \n",
       "854941                   0.05013            0.1987                    0.06169  \n",
       "85713702                 0.02564            0.3105                    0.07409  \n",
       "\n",
       "[5 rows x 31 columns]"
      ]
     },
     "execution_count": 4,
     "metadata": {},
     "output_type": "execute_result"
    }
   ],
   "source": [
    "cancer_data.head()"
   ]
  },
  {
   "cell_type": "markdown",
   "id": "453dc28a",
   "metadata": {
    "papermill": {
     "duration": 0.005359,
     "end_time": "2024-12-07T08:17:20.635760",
     "exception": false,
     "start_time": "2024-12-07T08:17:20.630401",
     "status": "completed"
    },
    "tags": []
   },
   "source": [
    "In the dataset, each row corresponds to a different image.  The dataset has 31 different columns, corresponding to:\n",
    "- 1 column (`'Diagnosis'`) that classifies tumors as either benign (which appears in the dataset as **`B`**) or malignant (__`M`__), and\n",
    "- 30 columns containing different measurements collected from the images.\n",
    "\n",
    "Use the first 5 rows of the data to answer the questions below."
   ]
  },
  {
   "cell_type": "code",
   "execution_count": 5,
   "id": "bbd36333",
   "metadata": {
    "execution": {
     "iopub.execute_input": "2024-12-07T08:17:20.648079Z",
     "iopub.status.busy": "2024-12-07T08:17:20.647646Z",
     "iopub.status.idle": "2024-12-07T08:17:20.656779Z",
     "shell.execute_reply": "2024-12-07T08:17:20.655707Z"
    },
    "papermill": {
     "duration": 0.017829,
     "end_time": "2024-12-07T08:17:20.658924",
     "exception": false,
     "start_time": "2024-12-07T08:17:20.641095",
     "status": "completed"
    },
    "tags": []
   },
   "outputs": [
    {
     "data": {
      "application/javascript": [
       "parent.postMessage({\"jupyterEvent\": \"custom.exercise_interaction\", \"data\": {\"outcomeType\": 1, \"valueTowardsCompletion\": 0.5, \"interactionType\": 1, \"questionType\": 1, \"questionId\": \"2_ReviewData\", \"learnToolsVersion\": \"0.3.4\", \"failureMessage\": \"\", \"exceptionClass\": \"\", \"trace\": \"\"}}, \"*\")"
      ],
      "text/plain": [
       "<IPython.core.display.Javascript object>"
      ]
     },
     "metadata": {},
     "output_type": "display_data"
    },
    {
     "data": {
      "text/markdown": [
       "<span style=\"color:#33cc33\">Correct</span>"
      ],
      "text/plain": [
       "Correct"
      ]
     },
     "metadata": {},
     "output_type": "display_data"
    }
   ],
   "source": [
    "# Fill in the line below: In the first five rows of the data, what is the\n",
    "# largest value for 'Perimeter (mean)'?\n",
    "max_perim = 87.46\n",
    "\n",
    "# Fill in the line below: What is the value for 'Radius (mean)' for the tumor with Id 8510824?\n",
    "mean_radius = 9.504\n",
    "\n",
    "# Check your answers\n",
    "step_2.check()"
   ]
  },
  {
   "cell_type": "markdown",
   "id": "5ee99511",
   "metadata": {
    "papermill": {
     "duration": 0.005306,
     "end_time": "2024-12-07T08:17:20.669863",
     "exception": false,
     "start_time": "2024-12-07T08:17:20.664557",
     "status": "completed"
    },
    "tags": []
   },
   "source": [
    "## Step 3: Investigating differences"
   ]
  },
  {
   "cell_type": "markdown",
   "id": "f7f8caad",
   "metadata": {
    "papermill": {
     "duration": 0.005163,
     "end_time": "2024-12-07T08:17:20.680429",
     "exception": false,
     "start_time": "2024-12-07T08:17:20.675266",
     "status": "completed"
    },
    "tags": []
   },
   "source": [
    "#### Part A\n",
    "\n",
    "Use the code cell below to create two histograms that show the distribution in values for `'Area (mean)'`, separately for both benign and malignant tumors.  (_To permit easy comparison, create a single figure containing both histograms in the code cell below._)"
   ]
  },
  {
   "cell_type": "code",
   "execution_count": 6,
   "id": "47041d5e",
   "metadata": {
    "execution": {
     "iopub.execute_input": "2024-12-07T08:17:20.694293Z",
     "iopub.status.busy": "2024-12-07T08:17:20.693288Z",
     "iopub.status.idle": "2024-12-07T08:17:20.711435Z",
     "shell.execute_reply": "2024-12-07T08:17:20.710259Z"
    },
    "papermill": {
     "duration": 0.027292,
     "end_time": "2024-12-07T08:17:20.713712",
     "exception": false,
     "start_time": "2024-12-07T08:17:20.686420",
     "status": "completed"
    },
    "tags": []
   },
   "outputs": [
    {
     "data": {
      "application/javascript": [
       "parent.postMessage({\"jupyterEvent\": \"custom.exercise_interaction\", \"data\": {\"outcomeType\": 2, \"failureMessage\": \"Please write code to create two histograms.\", \"interactionType\": 1, \"questionType\": 2, \"questionId\": \"3.1_PlotHist\", \"learnToolsVersion\": \"0.3.4\", \"valueTowardsCompletion\": 0.0, \"exceptionClass\": \"\", \"trace\": \"\"}}, \"*\")"
      ],
      "text/plain": [
       "<IPython.core.display.Javascript object>"
      ]
     },
     "metadata": {},
     "output_type": "display_data"
    },
    {
     "data": {
      "text/markdown": [
       "<span style=\"color:#cc3333\">Incorrect:</span> Please write code to create two histograms."
      ],
      "text/plain": [
       "Incorrect: Please write code to create two histograms."
      ]
     },
     "metadata": {},
     "output_type": "display_data"
    },
    {
     "data": {
      "text/plain": [
       "<Figure size 640x480 with 0 Axes>"
      ]
     },
     "metadata": {},
     "output_type": "display_data"
    }
   ],
   "source": [
    "# Histograms for benign and maligant tumors\n",
    "____\n",
    "\n",
    "# Check your answer\n",
    "step_3.a.check()"
   ]
  },
  {
   "cell_type": "code",
   "execution_count": 7,
   "id": "861d112a",
   "metadata": {
    "execution": {
     "iopub.execute_input": "2024-12-07T08:17:20.727112Z",
     "iopub.status.busy": "2024-12-07T08:17:20.726683Z",
     "iopub.status.idle": "2024-12-07T08:17:20.731935Z",
     "shell.execute_reply": "2024-12-07T08:17:20.730784Z"
    },
    "papermill": {
     "duration": 0.014506,
     "end_time": "2024-12-07T08:17:20.734097",
     "exception": false,
     "start_time": "2024-12-07T08:17:20.719591",
     "status": "completed"
    },
    "tags": []
   },
   "outputs": [],
   "source": [
    "# Lines below will give you a hint or solution code\n",
    "#step_3.a.hint()\n",
    "#step_3.a.solution_plot()"
   ]
  },
  {
   "cell_type": "markdown",
   "id": "00671738",
   "metadata": {
    "papermill": {
     "duration": 0.005779,
     "end_time": "2024-12-07T08:17:20.745793",
     "exception": false,
     "start_time": "2024-12-07T08:17:20.740014",
     "status": "completed"
    },
    "tags": []
   },
   "source": [
    "#### Part B\n",
    "\n",
    "A researcher approaches you for help with identifying how the `'Area (mean)'` column can be used to understand the difference between benign and malignant tumors.  Based on the histograms above, \n",
    "- Do malignant tumors have higher or lower values for `'Area (mean)'` (relative to benign tumors), on average?\n",
    "- Which tumor type seems to have a larger range of potential values?"
   ]
  },
  {
   "cell_type": "code",
   "execution_count": 8,
   "id": "b878000d",
   "metadata": {
    "execution": {
     "iopub.execute_input": "2024-12-07T08:17:20.758903Z",
     "iopub.status.busy": "2024-12-07T08:17:20.758519Z",
     "iopub.status.idle": "2024-12-07T08:17:20.763468Z",
     "shell.execute_reply": "2024-12-07T08:17:20.762252Z"
    },
    "papermill": {
     "duration": 0.014288,
     "end_time": "2024-12-07T08:17:20.765830",
     "exception": false,
     "start_time": "2024-12-07T08:17:20.751542",
     "status": "completed"
    },
    "tags": []
   },
   "outputs": [],
   "source": [
    "#step_3.b.hint()"
   ]
  },
  {
   "cell_type": "code",
   "execution_count": 9,
   "id": "0d80c268",
   "metadata": {
    "execution": {
     "iopub.execute_input": "2024-12-07T08:17:20.780868Z",
     "iopub.status.busy": "2024-12-07T08:17:20.780482Z",
     "iopub.status.idle": "2024-12-07T08:17:20.789033Z",
     "shell.execute_reply": "2024-12-07T08:17:20.788033Z"
    },
    "papermill": {
     "duration": 0.018531,
     "end_time": "2024-12-07T08:17:20.791148",
     "exception": false,
     "start_time": "2024-12-07T08:17:20.772617",
     "status": "completed"
    },
    "tags": []
   },
   "outputs": [
    {
     "data": {
      "application/javascript": [
       "parent.postMessage({\"jupyterEvent\": \"custom.exercise_interaction\", \"data\": {\"interactionType\": 3, \"questionType\": 4, \"questionId\": \"3.2_ThinkHist\", \"learnToolsVersion\": \"0.3.4\", \"valueTowardsCompletion\": 0.0, \"failureMessage\": \"\", \"exceptionClass\": \"\", \"trace\": \"\", \"outcomeType\": 4}}, \"*\")"
      ],
      "text/plain": [
       "<IPython.core.display.Javascript object>"
      ]
     },
     "metadata": {},
     "output_type": "display_data"
    },
    {
     "data": {
      "text/markdown": [
       "<span style=\"color:#33cc99\">Solution:</span> Malignant tumors have higher values for `'Area (mean)'`, on average. Malignant tumors have a larger range of potential values."
      ],
      "text/plain": [
       "Solution: Malignant tumors have higher values for `'Area (mean)'`, on average. Malignant tumors have a larger range of potential values."
      ]
     },
     "metadata": {},
     "output_type": "display_data"
    }
   ],
   "source": [
    "# Check your answer (Run this code cell to receive credit!)\n",
    "step_3.b.solution()"
   ]
  },
  {
   "cell_type": "markdown",
   "id": "0fc77b18",
   "metadata": {
    "papermill": {
     "duration": 0.006084,
     "end_time": "2024-12-07T08:17:20.803829",
     "exception": false,
     "start_time": "2024-12-07T08:17:20.797745",
     "status": "completed"
    },
    "tags": []
   },
   "source": [
    "## Step 4: A very useful column\n",
    "\n",
    "#### Part A\n",
    "\n",
    "Use the code cell below to create two KDE plots that show the distribution in values for `'Radius (worst)'`, separately for both benign and malignant tumors.  (_To permit easy comparison, create a single figure containing both KDE plots in the code cell below._)"
   ]
  },
  {
   "cell_type": "code",
   "execution_count": 10,
   "id": "9ad53a66",
   "metadata": {
    "execution": {
     "iopub.execute_input": "2024-12-07T08:17:20.817938Z",
     "iopub.status.busy": "2024-12-07T08:17:20.817553Z",
     "iopub.status.idle": "2024-12-07T08:17:20.830641Z",
     "shell.execute_reply": "2024-12-07T08:17:20.829457Z"
    },
    "papermill": {
     "duration": 0.022847,
     "end_time": "2024-12-07T08:17:20.832863",
     "exception": false,
     "start_time": "2024-12-07T08:17:20.810016",
     "status": "completed"
    },
    "tags": []
   },
   "outputs": [
    {
     "data": {
      "application/javascript": [
       "parent.postMessage({\"jupyterEvent\": \"custom.exercise_interaction\", \"data\": {\"outcomeType\": 2, \"failureMessage\": \"Please write code to create one figure containing two KDE plots.\", \"interactionType\": 1, \"questionType\": 2, \"questionId\": \"4.1_PlotThreshold\", \"learnToolsVersion\": \"0.3.4\", \"valueTowardsCompletion\": 0.0, \"exceptionClass\": \"\", \"trace\": \"\"}}, \"*\")"
      ],
      "text/plain": [
       "<IPython.core.display.Javascript object>"
      ]
     },
     "metadata": {},
     "output_type": "display_data"
    },
    {
     "data": {
      "text/markdown": [
       "<span style=\"color:#cc3333\">Incorrect:</span> Please write code to create one figure containing two KDE plots."
      ],
      "text/plain": [
       "Incorrect: Please write code to create one figure containing two KDE plots."
      ]
     },
     "metadata": {},
     "output_type": "display_data"
    },
    {
     "data": {
      "text/plain": [
       "<Figure size 640x480 with 0 Axes>"
      ]
     },
     "metadata": {},
     "output_type": "display_data"
    }
   ],
   "source": [
    "# KDE plots for benign and malignant tumors\n",
    "____ \n",
    "\n",
    "# Check your answer\n",
    "step_4.a.check()"
   ]
  },
  {
   "cell_type": "code",
   "execution_count": 11,
   "id": "094b2bb4",
   "metadata": {
    "execution": {
     "iopub.execute_input": "2024-12-07T08:17:20.848666Z",
     "iopub.status.busy": "2024-12-07T08:17:20.848283Z",
     "iopub.status.idle": "2024-12-07T08:17:20.854470Z",
     "shell.execute_reply": "2024-12-07T08:17:20.852717Z"
    },
    "papermill": {
     "duration": 0.017465,
     "end_time": "2024-12-07T08:17:20.856998",
     "exception": false,
     "start_time": "2024-12-07T08:17:20.839533",
     "status": "completed"
    },
    "tags": []
   },
   "outputs": [],
   "source": [
    "# Lines below will give you a hint or solution code\n",
    "#step_4.a.hint()\n",
    "#step_4.a.solution_plot()"
   ]
  },
  {
   "cell_type": "markdown",
   "id": "a360f3dc",
   "metadata": {
    "papermill": {
     "duration": 0.006277,
     "end_time": "2024-12-07T08:17:20.870173",
     "exception": false,
     "start_time": "2024-12-07T08:17:20.863896",
     "status": "completed"
    },
    "tags": []
   },
   "source": [
    "#### Part B\n",
    "\n",
    "A hospital has recently started using an algorithm that can diagnose tumors with high accuracy.  Given a tumor with a value for `'Radius (worst)'` of 25, do you think the algorithm is more likely to classify the tumor as benign or malignant?"
   ]
  },
  {
   "cell_type": "code",
   "execution_count": 12,
   "id": "4299a12f",
   "metadata": {
    "execution": {
     "iopub.execute_input": "2024-12-07T08:17:20.885368Z",
     "iopub.status.busy": "2024-12-07T08:17:20.884984Z",
     "iopub.status.idle": "2024-12-07T08:17:20.890196Z",
     "shell.execute_reply": "2024-12-07T08:17:20.889085Z"
    },
    "papermill": {
     "duration": 0.015263,
     "end_time": "2024-12-07T08:17:20.892424",
     "exception": false,
     "start_time": "2024-12-07T08:17:20.877161",
     "status": "completed"
    },
    "tags": []
   },
   "outputs": [],
   "source": [
    "#step_4.b.hint()"
   ]
  },
  {
   "cell_type": "code",
   "execution_count": 13,
   "id": "ab85a51a",
   "metadata": {
    "execution": {
     "iopub.execute_input": "2024-12-07T08:17:20.907845Z",
     "iopub.status.busy": "2024-12-07T08:17:20.907485Z",
     "iopub.status.idle": "2024-12-07T08:17:20.917434Z",
     "shell.execute_reply": "2024-12-07T08:17:20.916144Z"
    },
    "papermill": {
     "duration": 0.020399,
     "end_time": "2024-12-07T08:17:20.919631",
     "exception": false,
     "start_time": "2024-12-07T08:17:20.899232",
     "status": "completed"
    },
    "tags": []
   },
   "outputs": [
    {
     "data": {
      "application/javascript": [
       "parent.postMessage({\"jupyterEvent\": \"custom.exercise_interaction\", \"data\": {\"interactionType\": 3, \"questionType\": 4, \"questionId\": \"4.2_ThinkThreshold\", \"learnToolsVersion\": \"0.3.4\", \"valueTowardsCompletion\": 0.0, \"failureMessage\": \"\", \"exceptionClass\": \"\", \"trace\": \"\", \"outcomeType\": 4}}, \"*\")"
      ],
      "text/plain": [
       "<IPython.core.display.Javascript object>"
      ]
     },
     "metadata": {},
     "output_type": "display_data"
    },
    {
     "data": {
      "text/markdown": [
       "<span style=\"color:#33cc99\">Solution:</span> The algorithm is more likely to classify the tumor as malignant. This is because the curve for malignant tumors is much higher than the curve for benign tumors around a value of 25 -- and an algorithm that gets high accuracy is likely to make decisions based on this pattern in the data."
      ],
      "text/plain": [
       "Solution: The algorithm is more likely to classify the tumor as malignant. This is because the curve for malignant tumors is much higher than the curve for benign tumors around a value of 25 -- and an algorithm that gets high accuracy is likely to make decisions based on this pattern in the data."
      ]
     },
     "metadata": {},
     "output_type": "display_data"
    }
   ],
   "source": [
    "# Check your answer (Run this code cell to receive credit!)\n",
    "step_4.b.solution()"
   ]
  },
  {
   "cell_type": "markdown",
   "id": "561c59e6",
   "metadata": {
    "papermill": {
     "duration": 0.007294,
     "end_time": "2024-12-07T08:17:20.934005",
     "exception": false,
     "start_time": "2024-12-07T08:17:20.926711",
     "status": "completed"
    },
    "tags": []
   },
   "source": [
    "## Keep going\n",
    "\n",
    "Review all that you've learned and explore how to further customize your plots in the **[next tutorial](https://www.kaggle.com/alexisbcook/choosing-plot-types-and-custom-styles)**!"
   ]
  },
  {
   "cell_type": "markdown",
   "id": "fe9a748e",
   "metadata": {
    "papermill": {
     "duration": 0.006805,
     "end_time": "2024-12-07T08:17:20.948021",
     "exception": false,
     "start_time": "2024-12-07T08:17:20.941216",
     "status": "completed"
    },
    "tags": []
   },
   "source": [
    "---\n",
    "\n",
    "\n",
    "\n",
    "\n",
    "*Have questions or comments? Visit the [course discussion forum](https://www.kaggle.com/learn/data-visualization/discussion) to chat with other learners.*"
   ]
  }
 ],
 "metadata": {
  "kaggle": {
   "accelerator": "none",
   "dataSources": [
    {
     "datasetId": 116573,
     "sourceId": 3551030,
     "sourceType": "datasetVersion"
    }
   ],
   "isGpuEnabled": false,
   "isInternetEnabled": false,
   "language": "python",
   "sourceType": "notebook"
  },
  "kernelspec": {
   "display_name": "Python 3",
   "language": "python",
   "name": "python3"
  },
  "language_info": {
   "codemirror_mode": {
    "name": "ipython",
    "version": 3
   },
   "file_extension": ".py",
   "mimetype": "text/x-python",
   "name": "python",
   "nbconvert_exporter": "python",
   "pygments_lexer": "ipython3",
   "version": "3.10.14"
  },
  "papermill": {
   "default_parameters": {},
   "duration": 7.176172,
   "end_time": "2024-12-07T08:17:21.576473",
   "environment_variables": {},
   "exception": null,
   "input_path": "__notebook__.ipynb",
   "output_path": "__notebook__.ipynb",
   "parameters": {},
   "start_time": "2024-12-07T08:17:14.400301",
   "version": "2.6.0"
  }
 },
 "nbformat": 4,
 "nbformat_minor": 5
}
