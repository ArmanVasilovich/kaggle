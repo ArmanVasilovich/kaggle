{
 "cells": [
  {
   "cell_type": "markdown",
   "id": "09867bfb",
   "metadata": {
    "papermill": {
     "duration": 0.005191,
     "end_time": "2024-12-07T08:11:59.705494",
     "exception": false,
     "start_time": "2024-12-07T08:11:59.700303",
     "status": "completed"
    },
    "tags": []
   },
   "source": [
    "**This notebook is an exercise in the [Data Visualization](https://www.kaggle.com/learn/data-visualization) course.  You can reference the tutorial at [this link](https://www.kaggle.com/alexisbcook/distributions).**\n",
    "\n",
    "---\n"
   ]
  },
  {
   "cell_type": "markdown",
   "id": "1a32f103",
   "metadata": {
    "papermill": {
     "duration": 0.004107,
     "end_time": "2024-12-07T08:11:59.714863",
     "exception": false,
     "start_time": "2024-12-07T08:11:59.710756",
     "status": "completed"
    },
    "tags": []
   },
   "source": [
    "In this exercise, you will use your new knowledge to propose a solution to a real-world scenario.  To succeed, you will need to import data into Python, answer questions using the data, and generate **histograms** and **density plots** to understand patterns in the data.\n",
    "\n",
    "## Scenario\n",
    "\n",
    "You'll work with a real-world dataset containing information collected from microscopic images of breast cancer tumors, similar to the image below.\n",
    "\n",
    "![ex4_cancer_image](https://storage.googleapis.com/kaggle-media/learn/images/qUESsJe.png)\n",
    "\n",
    "Each tumor has been labeled as either [**benign**](https://en.wikipedia.org/wiki/Benign_tumor) (_noncancerous_) or **malignant** (_cancerous_).\n",
    "\n",
    "To learn more about how this kind of data is used to create intelligent algorithms to classify tumors in medical settings, **watch the short video [at this link](https://www.youtube.com/watch?v=9Mz84cwVmS0)**."
   ]
  },
  {
   "cell_type": "markdown",
   "id": "c620fbac",
   "metadata": {
    "papermill": {
     "duration": 0.004004,
     "end_time": "2024-12-07T08:11:59.723212",
     "exception": false,
     "start_time": "2024-12-07T08:11:59.719208",
     "status": "completed"
    },
    "tags": []
   },
   "source": [
    "\n",
    "\n",
    "## Setup\n",
    "\n",
    "Run the next cell to import and configure the Python libraries that you need to complete the exercise."
   ]
  },
  {
   "cell_type": "code",
   "execution_count": 1,
   "id": "361b667f",
   "metadata": {
    "execution": {
     "iopub.execute_input": "2024-12-07T08:11:59.734488Z",
     "iopub.status.busy": "2024-12-07T08:11:59.734112Z",
     "iopub.status.idle": "2024-12-07T08:12:02.186948Z",
     "shell.execute_reply": "2024-12-07T08:12:02.185936Z"
    },
    "papermill": {
     "duration": 2.461651,
     "end_time": "2024-12-07T08:12:02.189082",
     "exception": false,
     "start_time": "2024-12-07T08:11:59.727431",
     "status": "completed"
    },
    "tags": []
   },
   "outputs": [
    {
     "name": "stdout",
     "output_type": "stream",
     "text": [
      "Setup Complete\n"
     ]
    }
   ],
   "source": [
    "import pandas as pd\n",
    "pd.plotting.register_matplotlib_converters()\n",
    "import matplotlib.pyplot as plt\n",
    "%matplotlib inline\n",
    "import seaborn as sns\n",
    "print(\"Setup Complete\")"
   ]
  },
  {
   "cell_type": "markdown",
   "id": "7eec857b",
   "metadata": {
    "papermill": {
     "duration": 0.004258,
     "end_time": "2024-12-07T08:12:02.197889",
     "exception": false,
     "start_time": "2024-12-07T08:12:02.193631",
     "status": "completed"
    },
    "tags": []
   },
   "source": [
    "The questions below will give you feedback on your work. Run the following cell to set up our feedback system."
   ]
  },
  {
   "cell_type": "code",
   "execution_count": 2,
   "id": "129356b6",
   "metadata": {
    "execution": {
     "iopub.execute_input": "2024-12-07T08:12:02.208525Z",
     "iopub.status.busy": "2024-12-07T08:12:02.207950Z",
     "iopub.status.idle": "2024-12-07T08:12:02.287616Z",
     "shell.execute_reply": "2024-12-07T08:12:02.286370Z"
    },
    "papermill": {
     "duration": 0.08756,
     "end_time": "2024-12-07T08:12:02.289791",
     "exception": false,
     "start_time": "2024-12-07T08:12:02.202231",
     "status": "completed"
    },
    "tags": []
   },
   "outputs": [
    {
     "name": "stdout",
     "output_type": "stream",
     "text": [
      "Setup Complete\n"
     ]
    }
   ],
   "source": [
    "# Set up code checking\n",
    "from learntools.core import binder\n",
    "binder.bind(globals())\n",
    "from learntools.data_viz_to_coder.ex5 import *\n",
    "print(\"Setup Complete\")"
   ]
  },
  {
   "cell_type": "markdown",
   "id": "51e1cd7c",
   "metadata": {
    "papermill": {
     "duration": 0.004358,
     "end_time": "2024-12-07T08:12:02.299068",
     "exception": false,
     "start_time": "2024-12-07T08:12:02.294710",
     "status": "completed"
    },
    "tags": []
   },
   "source": [
    "## Step 1: Load the data\n",
    "\n",
    "In this step, you will load the data.\n",
    "- Load the data file into a DataFrame called `cancer_data`.  \n",
    "- The corresponding filepath is `cancer_filepath`.  \n",
    "- Use the `\"Id\"` column to label the rows."
   ]
  },
  {
   "cell_type": "code",
   "execution_count": 3,
   "id": "2b4da101",
   "metadata": {
    "execution": {
     "iopub.execute_input": "2024-12-07T08:12:02.310076Z",
     "iopub.status.busy": "2024-12-07T08:12:02.309647Z",
     "iopub.status.idle": "2024-12-07T08:12:02.327407Z",
     "shell.execute_reply": "2024-12-07T08:12:02.326387Z"
    },
    "papermill": {
     "duration": 0.025797,
     "end_time": "2024-12-07T08:12:02.329516",
     "exception": false,
     "start_time": "2024-12-07T08:12:02.303719",
     "status": "completed"
    },
    "tags": []
   },
   "outputs": [
    {
     "data": {
      "application/javascript": [
       "parent.postMessage({\"jupyterEvent\": \"custom.exercise_interaction\", \"data\": {\"outcomeType\": 1, \"valueTowardsCompletion\": 0.5, \"interactionType\": 1, \"questionType\": 1, \"questionId\": \"1_LoadCancerData\", \"learnToolsVersion\": \"0.3.4\", \"failureMessage\": \"\", \"exceptionClass\": \"\", \"trace\": \"\"}}, \"*\")"
      ],
      "text/plain": [
       "<IPython.core.display.Javascript object>"
      ]
     },
     "metadata": {},
     "output_type": "display_data"
    },
    {
     "data": {
      "text/markdown": [
       "<span style=\"color:#33cc33\">Correct</span>"
      ],
      "text/plain": [
       "Correct"
      ]
     },
     "metadata": {},
     "output_type": "display_data"
    }
   ],
   "source": [
    "# Path of the files to read\n",
    "cancer_filepath = \"../input/cancer.csv\"\n",
    "\n",
    "# Fill in the line below to read the file into a variable cancer_data\n",
    "cancer_data = pd.read_csv(cancer_filepath, index_col='Id')\n",
    "\n",
    "# Run the line below with no changes to check that you've loaded the data correctly\n",
    "step_1.check()"
   ]
  },
  {
   "cell_type": "markdown",
   "id": "e7010dcb",
   "metadata": {
    "papermill": {
     "duration": 0.004717,
     "end_time": "2024-12-07T08:12:02.339093",
     "exception": false,
     "start_time": "2024-12-07T08:12:02.334376",
     "status": "completed"
    },
    "tags": []
   },
   "source": [
    "## Step 2: Review the data\n",
    "\n",
    "Use a Python command to print the first 5 rows of the data."
   ]
  },
  {
   "cell_type": "code",
   "execution_count": 4,
   "id": "e21e10e1",
   "metadata": {
    "execution": {
     "iopub.execute_input": "2024-12-07T08:12:02.350759Z",
     "iopub.status.busy": "2024-12-07T08:12:02.349843Z",
     "iopub.status.idle": "2024-12-07T08:12:02.356072Z",
     "shell.execute_reply": "2024-12-07T08:12:02.355085Z"
    },
    "papermill": {
     "duration": 0.014397,
     "end_time": "2024-12-07T08:12:02.358314",
     "exception": false,
     "start_time": "2024-12-07T08:12:02.343917",
     "status": "completed"
    },
    "tags": []
   },
   "outputs": [
    {
     "data": {
      "text/markdown": [],
      "text/plain": [
       "<learntools.core.constants.PlaceholderValue at 0x7ba8e4d7f520>"
      ]
     },
     "execution_count": 4,
     "metadata": {},
     "output_type": "execute_result"
    }
   ],
   "source": [
    "# Print the first five rows of the data\n",
    "____ # Your code here"
   ]
  },
  {
   "cell_type": "markdown",
   "id": "7d997d64",
   "metadata": {
    "papermill": {
     "duration": 0.004808,
     "end_time": "2024-12-07T08:12:02.368161",
     "exception": false,
     "start_time": "2024-12-07T08:12:02.363353",
     "status": "completed"
    },
    "tags": []
   },
   "source": [
    "In the dataset, each row corresponds to a different image.  The dataset has 31 different columns, corresponding to:\n",
    "- 1 column (`'Diagnosis'`) that classifies tumors as either benign (which appears in the dataset as **`B`**) or malignant (__`M`__), and\n",
    "- 30 columns containing different measurements collected from the images.\n",
    "\n",
    "Use the first 5 rows of the data to answer the questions below."
   ]
  },
  {
   "cell_type": "code",
   "execution_count": 5,
   "id": "88e0226a",
   "metadata": {
    "execution": {
     "iopub.execute_input": "2024-12-07T08:12:02.379811Z",
     "iopub.status.busy": "2024-12-07T08:12:02.378994Z",
     "iopub.status.idle": "2024-12-07T08:12:02.387794Z",
     "shell.execute_reply": "2024-12-07T08:12:02.386807Z"
    },
    "papermill": {
     "duration": 0.016863,
     "end_time": "2024-12-07T08:12:02.389843",
     "exception": false,
     "start_time": "2024-12-07T08:12:02.372980",
     "status": "completed"
    },
    "tags": []
   },
   "outputs": [
    {
     "data": {
      "application/javascript": [
       "parent.postMessage({\"jupyterEvent\": \"custom.exercise_interaction\", \"data\": {\"outcomeType\": 4, \"interactionType\": 1, \"questionType\": 1, \"questionId\": \"2_ReviewData\", \"learnToolsVersion\": \"0.3.4\", \"valueTowardsCompletion\": 0.0, \"failureMessage\": \"\", \"exceptionClass\": \"\", \"trace\": \"\"}}, \"*\")"
      ],
      "text/plain": [
       "<IPython.core.display.Javascript object>"
      ]
     },
     "metadata": {},
     "output_type": "display_data"
    },
    {
     "data": {
      "text/markdown": [
       "<span style=\"color:#ccaa33\">Check:</span> When you've updated the starter code, `check()` will tell you whether your code is correct. You need to update the code that creates variables `max_perim`, `mean_radius`"
      ],
      "text/plain": [
       "Check: When you've updated the starter code, `check()` will tell you whether your code is correct. You need to update the code that creates variables `max_perim`, `mean_radius`"
      ]
     },
     "metadata": {},
     "output_type": "display_data"
    }
   ],
   "source": [
    "# Fill in the line below: In the first five rows of the data, what is the\n",
    "# largest value for 'Perimeter (mean)'?\n",
    "max_perim = ____\n",
    "\n",
    "# Fill in the line below: What is the value for 'Radius (mean)' for the tumor with Id 8510824?\n",
    "mean_radius = ____\n",
    "\n",
    "# Check your answers\n",
    "step_2.check()"
   ]
  },
  {
   "cell_type": "code",
   "execution_count": 6,
   "id": "3d3f7c73",
   "metadata": {
    "execution": {
     "iopub.execute_input": "2024-12-07T08:12:02.402188Z",
     "iopub.status.busy": "2024-12-07T08:12:02.401407Z",
     "iopub.status.idle": "2024-12-07T08:12:02.405705Z",
     "shell.execute_reply": "2024-12-07T08:12:02.404770Z"
    },
    "papermill": {
     "duration": 0.012538,
     "end_time": "2024-12-07T08:12:02.407620",
     "exception": false,
     "start_time": "2024-12-07T08:12:02.395082",
     "status": "completed"
    },
    "tags": []
   },
   "outputs": [],
   "source": [
    "# Lines below will give you a hint or solution code\n",
    "#step_2.hint()\n",
    "#step_2.solution()"
   ]
  },
  {
   "cell_type": "markdown",
   "id": "85d71944",
   "metadata": {
    "papermill": {
     "duration": 0.004927,
     "end_time": "2024-12-07T08:12:02.417768",
     "exception": false,
     "start_time": "2024-12-07T08:12:02.412841",
     "status": "completed"
    },
    "tags": []
   },
   "source": [
    "## Step 3: Investigating differences"
   ]
  },
  {
   "cell_type": "markdown",
   "id": "87d488cc",
   "metadata": {
    "papermill": {
     "duration": 0.004996,
     "end_time": "2024-12-07T08:12:02.428056",
     "exception": false,
     "start_time": "2024-12-07T08:12:02.423060",
     "status": "completed"
    },
    "tags": []
   },
   "source": [
    "#### Part A\n",
    "\n",
    "Use the code cell below to create two histograms that show the distribution in values for `'Area (mean)'`, separately for both benign and malignant tumors.  (_To permit easy comparison, create a single figure containing both histograms in the code cell below._)"
   ]
  },
  {
   "cell_type": "code",
   "execution_count": 7,
   "id": "b3b81024",
   "metadata": {
    "execution": {
     "iopub.execute_input": "2024-12-07T08:12:02.442279Z",
     "iopub.status.busy": "2024-12-07T08:12:02.441519Z",
     "iopub.status.idle": "2024-12-07T08:12:02.459482Z",
     "shell.execute_reply": "2024-12-07T08:12:02.458291Z"
    },
    "papermill": {
     "duration": 0.026722,
     "end_time": "2024-12-07T08:12:02.461683",
     "exception": false,
     "start_time": "2024-12-07T08:12:02.434961",
     "status": "completed"
    },
    "tags": []
   },
   "outputs": [
    {
     "data": {
      "application/javascript": [
       "parent.postMessage({\"jupyterEvent\": \"custom.exercise_interaction\", \"data\": {\"outcomeType\": 2, \"failureMessage\": \"Please write code to create two histograms.\", \"interactionType\": 1, \"questionType\": 2, \"questionId\": \"3.1_PlotHist\", \"learnToolsVersion\": \"0.3.4\", \"valueTowardsCompletion\": 0.0, \"exceptionClass\": \"\", \"trace\": \"\"}}, \"*\")"
      ],
      "text/plain": [
       "<IPython.core.display.Javascript object>"
      ]
     },
     "metadata": {},
     "output_type": "display_data"
    },
    {
     "data": {
      "text/markdown": [
       "<span style=\"color:#cc3333\">Incorrect:</span> Please write code to create two histograms."
      ],
      "text/plain": [
       "Incorrect: Please write code to create two histograms."
      ]
     },
     "metadata": {},
     "output_type": "display_data"
    },
    {
     "data": {
      "text/plain": [
       "<Figure size 640x480 with 0 Axes>"
      ]
     },
     "metadata": {},
     "output_type": "display_data"
    }
   ],
   "source": [
    "# Histograms for benign and maligant tumors\n",
    "____\n",
    "\n",
    "# Check your answer\n",
    "step_3.a.check()"
   ]
  },
  {
   "cell_type": "code",
   "execution_count": 8,
   "id": "2a813080",
   "metadata": {
    "execution": {
     "iopub.execute_input": "2024-12-07T08:12:02.474793Z",
     "iopub.status.busy": "2024-12-07T08:12:02.474410Z",
     "iopub.status.idle": "2024-12-07T08:12:02.478916Z",
     "shell.execute_reply": "2024-12-07T08:12:02.477787Z"
    },
    "papermill": {
     "duration": 0.013551,
     "end_time": "2024-12-07T08:12:02.480999",
     "exception": false,
     "start_time": "2024-12-07T08:12:02.467448",
     "status": "completed"
    },
    "tags": []
   },
   "outputs": [],
   "source": [
    "# Lines below will give you a hint or solution code\n",
    "#step_3.a.hint()\n",
    "#step_3.a.solution_plot()"
   ]
  },
  {
   "cell_type": "markdown",
   "id": "160b6d1e",
   "metadata": {
    "papermill": {
     "duration": 0.005298,
     "end_time": "2024-12-07T08:12:02.492095",
     "exception": false,
     "start_time": "2024-12-07T08:12:02.486797",
     "status": "completed"
    },
    "tags": []
   },
   "source": [
    "#### Part B\n",
    "\n",
    "A researcher approaches you for help with identifying how the `'Area (mean)'` column can be used to understand the difference between benign and malignant tumors.  Based on the histograms above, \n",
    "- Do malignant tumors have higher or lower values for `'Area (mean)'` (relative to benign tumors), on average?\n",
    "- Which tumor type seems to have a larger range of potential values?"
   ]
  },
  {
   "cell_type": "code",
   "execution_count": 9,
   "id": "b170b20f",
   "metadata": {
    "execution": {
     "iopub.execute_input": "2024-12-07T08:12:02.505050Z",
     "iopub.status.busy": "2024-12-07T08:12:02.504280Z",
     "iopub.status.idle": "2024-12-07T08:12:02.508781Z",
     "shell.execute_reply": "2024-12-07T08:12:02.507776Z"
    },
    "papermill": {
     "duration": 0.013363,
     "end_time": "2024-12-07T08:12:02.510928",
     "exception": false,
     "start_time": "2024-12-07T08:12:02.497565",
     "status": "completed"
    },
    "tags": []
   },
   "outputs": [],
   "source": [
    "#step_3.b.hint()"
   ]
  },
  {
   "cell_type": "code",
   "execution_count": 10,
   "id": "ae9c90a2",
   "metadata": {
    "execution": {
     "iopub.execute_input": "2024-12-07T08:12:02.524206Z",
     "iopub.status.busy": "2024-12-07T08:12:02.523256Z",
     "iopub.status.idle": "2024-12-07T08:12:02.533069Z",
     "shell.execute_reply": "2024-12-07T08:12:02.532074Z"
    },
    "papermill": {
     "duration": 0.018651,
     "end_time": "2024-12-07T08:12:02.535202",
     "exception": false,
     "start_time": "2024-12-07T08:12:02.516551",
     "status": "completed"
    },
    "tags": []
   },
   "outputs": [
    {
     "data": {
      "application/javascript": [
       "parent.postMessage({\"jupyterEvent\": \"custom.exercise_interaction\", \"data\": {\"interactionType\": 3, \"questionType\": 4, \"questionId\": \"3.2_ThinkHist\", \"learnToolsVersion\": \"0.3.4\", \"valueTowardsCompletion\": 0.0, \"failureMessage\": \"\", \"exceptionClass\": \"\", \"trace\": \"\", \"outcomeType\": 4}}, \"*\")"
      ],
      "text/plain": [
       "<IPython.core.display.Javascript object>"
      ]
     },
     "metadata": {},
     "output_type": "display_data"
    },
    {
     "data": {
      "text/markdown": [
       "<span style=\"color:#33cc99\">Solution:</span> Malignant tumors have higher values for `'Area (mean)'`, on average. Malignant tumors have a larger range of potential values."
      ],
      "text/plain": [
       "Solution: Malignant tumors have higher values for `'Area (mean)'`, on average. Malignant tumors have a larger range of potential values."
      ]
     },
     "metadata": {},
     "output_type": "display_data"
    }
   ],
   "source": [
    "# Check your answer (Run this code cell to receive credit!)\n",
    "step_3.b.solution()"
   ]
  },
  {
   "cell_type": "markdown",
   "id": "80aa7461",
   "metadata": {
    "papermill": {
     "duration": 0.005659,
     "end_time": "2024-12-07T08:12:02.546969",
     "exception": false,
     "start_time": "2024-12-07T08:12:02.541310",
     "status": "completed"
    },
    "tags": []
   },
   "source": [
    "## Step 4: A very useful column\n",
    "\n",
    "#### Part A\n",
    "\n",
    "Use the code cell below to create two KDE plots that show the distribution in values for `'Radius (worst)'`, separately for both benign and malignant tumors.  (_To permit easy comparison, create a single figure containing both KDE plots in the code cell below._)"
   ]
  },
  {
   "cell_type": "code",
   "execution_count": 11,
   "id": "0ab29f65",
   "metadata": {
    "execution": {
     "iopub.execute_input": "2024-12-07T08:12:02.560739Z",
     "iopub.status.busy": "2024-12-07T08:12:02.559951Z",
     "iopub.status.idle": "2024-12-07T08:12:02.572349Z",
     "shell.execute_reply": "2024-12-07T08:12:02.571347Z"
    },
    "papermill": {
     "duration": 0.021655,
     "end_time": "2024-12-07T08:12:02.574497",
     "exception": false,
     "start_time": "2024-12-07T08:12:02.552842",
     "status": "completed"
    },
    "tags": []
   },
   "outputs": [
    {
     "data": {
      "application/javascript": [
       "parent.postMessage({\"jupyterEvent\": \"custom.exercise_interaction\", \"data\": {\"outcomeType\": 2, \"failureMessage\": \"Please write code to create one figure containing two KDE plots.\", \"interactionType\": 1, \"questionType\": 2, \"questionId\": \"4.1_PlotThreshold\", \"learnToolsVersion\": \"0.3.4\", \"valueTowardsCompletion\": 0.0, \"exceptionClass\": \"\", \"trace\": \"\"}}, \"*\")"
      ],
      "text/plain": [
       "<IPython.core.display.Javascript object>"
      ]
     },
     "metadata": {},
     "output_type": "display_data"
    },
    {
     "data": {
      "text/markdown": [
       "<span style=\"color:#cc3333\">Incorrect:</span> Please write code to create one figure containing two KDE plots."
      ],
      "text/plain": [
       "Incorrect: Please write code to create one figure containing two KDE plots."
      ]
     },
     "metadata": {},
     "output_type": "display_data"
    },
    {
     "data": {
      "text/plain": [
       "<Figure size 640x480 with 0 Axes>"
      ]
     },
     "metadata": {},
     "output_type": "display_data"
    }
   ],
   "source": [
    "# KDE plots for benign and malignant tumors\n",
    "____ \n",
    "\n",
    "# Check your answer\n",
    "step_4.a.check()"
   ]
  },
  {
   "cell_type": "code",
   "execution_count": 12,
   "id": "7f671425",
   "metadata": {
    "execution": {
     "iopub.execute_input": "2024-12-07T08:12:02.588832Z",
     "iopub.status.busy": "2024-12-07T08:12:02.588428Z",
     "iopub.status.idle": "2024-12-07T08:12:02.592887Z",
     "shell.execute_reply": "2024-12-07T08:12:02.591868Z"
    },
    "papermill": {
     "duration": 0.014032,
     "end_time": "2024-12-07T08:12:02.594897",
     "exception": false,
     "start_time": "2024-12-07T08:12:02.580865",
     "status": "completed"
    },
    "tags": []
   },
   "outputs": [],
   "source": [
    "# Lines below will give you a hint or solution code\n",
    "#step_4.a.hint()\n",
    "#step_4.a.solution_plot()"
   ]
  },
  {
   "cell_type": "markdown",
   "id": "6b23cb19",
   "metadata": {
    "papermill": {
     "duration": 0.006122,
     "end_time": "2024-12-07T08:12:02.607349",
     "exception": false,
     "start_time": "2024-12-07T08:12:02.601227",
     "status": "completed"
    },
    "tags": []
   },
   "source": [
    "#### Part B\n",
    "\n",
    "A hospital has recently started using an algorithm that can diagnose tumors with high accuracy.  Given a tumor with a value for `'Radius (worst)'` of 25, do you think the algorithm is more likely to classify the tumor as benign or malignant?"
   ]
  },
  {
   "cell_type": "code",
   "execution_count": 13,
   "id": "f04c77e6",
   "metadata": {
    "execution": {
     "iopub.execute_input": "2024-12-07T08:12:02.621388Z",
     "iopub.status.busy": "2024-12-07T08:12:02.620973Z",
     "iopub.status.idle": "2024-12-07T08:12:02.625634Z",
     "shell.execute_reply": "2024-12-07T08:12:02.624551Z"
    },
    "papermill": {
     "duration": 0.014321,
     "end_time": "2024-12-07T08:12:02.627901",
     "exception": false,
     "start_time": "2024-12-07T08:12:02.613580",
     "status": "completed"
    },
    "tags": []
   },
   "outputs": [],
   "source": [
    "#step_4.b.hint()"
   ]
  },
  {
   "cell_type": "code",
   "execution_count": 14,
   "id": "a9deae3f",
   "metadata": {
    "execution": {
     "iopub.execute_input": "2024-12-07T08:12:02.642942Z",
     "iopub.status.busy": "2024-12-07T08:12:02.642215Z",
     "iopub.status.idle": "2024-12-07T08:12:02.650041Z",
     "shell.execute_reply": "2024-12-07T08:12:02.649105Z"
    },
    "papermill": {
     "duration": 0.017579,
     "end_time": "2024-12-07T08:12:02.652013",
     "exception": false,
     "start_time": "2024-12-07T08:12:02.634434",
     "status": "completed"
    },
    "tags": []
   },
   "outputs": [
    {
     "data": {
      "application/javascript": [
       "parent.postMessage({\"jupyterEvent\": \"custom.exercise_interaction\", \"data\": {\"interactionType\": 3, \"questionType\": 4, \"questionId\": \"4.2_ThinkThreshold\", \"learnToolsVersion\": \"0.3.4\", \"valueTowardsCompletion\": 0.0, \"failureMessage\": \"\", \"exceptionClass\": \"\", \"trace\": \"\", \"outcomeType\": 4}}, \"*\")"
      ],
      "text/plain": [
       "<IPython.core.display.Javascript object>"
      ]
     },
     "metadata": {},
     "output_type": "display_data"
    },
    {
     "data": {
      "text/markdown": [
       "<span style=\"color:#33cc99\">Solution:</span> The algorithm is more likely to classify the tumor as malignant. This is because the curve for malignant tumors is much higher than the curve for benign tumors around a value of 25 -- and an algorithm that gets high accuracy is likely to make decisions based on this pattern in the data."
      ],
      "text/plain": [
       "Solution: The algorithm is more likely to classify the tumor as malignant. This is because the curve for malignant tumors is much higher than the curve for benign tumors around a value of 25 -- and an algorithm that gets high accuracy is likely to make decisions based on this pattern in the data."
      ]
     },
     "metadata": {},
     "output_type": "display_data"
    }
   ],
   "source": [
    "# Check your answer (Run this code cell to receive credit!)\n",
    "step_4.b.solution()"
   ]
  },
  {
   "cell_type": "markdown",
   "id": "c99737a8",
   "metadata": {
    "papermill": {
     "duration": 0.006231,
     "end_time": "2024-12-07T08:12:02.664639",
     "exception": false,
     "start_time": "2024-12-07T08:12:02.658408",
     "status": "completed"
    },
    "tags": []
   },
   "source": [
    "## Keep going\n",
    "\n",
    "Review all that you've learned and explore how to further customize your plots in the **[next tutorial](https://www.kaggle.com/alexisbcook/choosing-plot-types-and-custom-styles)**!"
   ]
  },
  {
   "cell_type": "markdown",
   "id": "b74eb651",
   "metadata": {
    "papermill": {
     "duration": 0.006051,
     "end_time": "2024-12-07T08:12:02.676912",
     "exception": false,
     "start_time": "2024-12-07T08:12:02.670861",
     "status": "completed"
    },
    "tags": []
   },
   "source": [
    "---\n",
    "\n",
    "\n",
    "\n",
    "\n",
    "*Have questions or comments? Visit the [course discussion forum](https://www.kaggle.com/learn/data-visualization/discussion) to chat with other learners.*"
   ]
  }
 ],
 "metadata": {
  "kaggle": {
   "accelerator": "none",
   "dataSources": [
    {
     "datasetId": 116573,
     "sourceId": 3551030,
     "sourceType": "datasetVersion"
    }
   ],
   "isGpuEnabled": false,
   "isInternetEnabled": false,
   "language": "python",
   "sourceType": "notebook"
  },
  "kernelspec": {
   "display_name": "Python 3",
   "language": "python",
   "name": "python3"
  },
  "language_info": {
   "codemirror_mode": {
    "name": "ipython",
    "version": 3
   },
   "file_extension": ".py",
   "mimetype": "text/x-python",
   "name": "python",
   "nbconvert_exporter": "python",
   "pygments_lexer": "ipython3",
   "version": "3.10.14"
  },
  "papermill": {
   "default_parameters": {},
   "duration": 6.30859,
   "end_time": "2024-12-07T08:12:03.304757",
   "environment_variables": {},
   "exception": null,
   "input_path": "__notebook__.ipynb",
   "output_path": "__notebook__.ipynb",
   "parameters": {},
   "start_time": "2024-12-07T08:11:56.996167",
   "version": "2.6.0"
  }
 },
 "nbformat": 4,
 "nbformat_minor": 5
}
